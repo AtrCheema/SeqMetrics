{
  "nbformat": 4,
  "nbformat_minor": 0,
  "metadata": {
    "colab": {
      "provenance": []
    },
    "kernelspec": {
      "name": "python3",
      "display_name": "Python 3"
    },
    "language_info": {
      "name": "python"
    }
  },
  "cells": [
    {
      "cell_type": "markdown",
      "source": [
        "This notebook is created as a reference for SeqMetrics tests.\n",
        "Since the SeqMetrics contain functions which are present in various other libraries, putting them as dependency while running automatic tests will\n",
        "make testing quite difficult. Since it will make tests depends upon\n",
        "a lot of libraries, some of which are no more maintained. Therefore,\n",
        "in this notebook, we have installed those libraries and called those functions.\n",
        "Some of the tests in SeqMetrics are compared against outputs of the functions\n",
        "called in this notebook. This notebook is mainly intended for developers and reviewers of SeqMetrics library.\n"
      ],
      "metadata": {
        "id": "5iy02aVWcIaJ"
      }
    },
    {
      "cell_type": "code",
      "source": [
        "!pip install hydroeval"
      ],
      "metadata": {
        "colab": {
          "base_uri": "https://localhost:8080/"
        },
        "id": "EGFP18x5IT0t",
        "outputId": "7f8fbeca-f66d-4372-98a4-85b22379007c"
      },
      "execution_count": 1,
      "outputs": [
        {
          "output_type": "stream",
          "name": "stdout",
          "text": [
            "Requirement already satisfied: hydroeval in /usr/local/lib/python3.10/dist-packages (0.1.0)\n",
            "Requirement already satisfied: numpy in /usr/local/lib/python3.10/dist-packages (from hydroeval) (1.25.2)\n"
          ]
        }
      ]
    },
    {
      "cell_type": "code",
      "source": [
        "!pip install NeuralHydrology"
      ],
      "metadata": {
        "colab": {
          "base_uri": "https://localhost:8080/"
        },
        "id": "pzw8mUneKTW5",
        "outputId": "623c94e6-c87c-4935-f429-382123bcb703"
      },
      "execution_count": 2,
      "outputs": [
        {
          "output_type": "stream",
          "name": "stdout",
          "text": [
            "Requirement already satisfied: NeuralHydrology in /usr/local/lib/python3.10/dist-packages (1.10.0)\n",
            "Requirement already satisfied: matplotlib in /usr/local/lib/python3.10/dist-packages (from NeuralHydrology) (3.7.1)\n",
            "Requirement already satisfied: numba in /usr/local/lib/python3.10/dist-packages (from NeuralHydrology) (0.58.1)\n",
            "Requirement already satisfied: numpy in /usr/local/lib/python3.10/dist-packages (from NeuralHydrology) (1.25.2)\n",
            "Requirement already satisfied: pandas in /usr/local/lib/python3.10/dist-packages (from NeuralHydrology) (2.0.3)\n",
            "Requirement already satisfied: ruamel.yaml in /usr/local/lib/python3.10/dist-packages (from NeuralHydrology) (0.18.6)\n",
            "Requirement already satisfied: torch in /usr/local/lib/python3.10/dist-packages (from NeuralHydrology) (2.2.1+cu121)\n",
            "Requirement already satisfied: scipy in /usr/local/lib/python3.10/dist-packages (from NeuralHydrology) (1.11.4)\n",
            "Requirement already satisfied: tensorboard in /usr/local/lib/python3.10/dist-packages (from NeuralHydrology) (2.15.2)\n",
            "Requirement already satisfied: tqdm in /usr/local/lib/python3.10/dist-packages (from NeuralHydrology) (4.66.4)\n",
            "Requirement already satisfied: xarray in /usr/local/lib/python3.10/dist-packages (from NeuralHydrology) (2023.7.0)\n",
            "Requirement already satisfied: contourpy>=1.0.1 in /usr/local/lib/python3.10/dist-packages (from matplotlib->NeuralHydrology) (1.2.1)\n",
            "Requirement already satisfied: cycler>=0.10 in /usr/local/lib/python3.10/dist-packages (from matplotlib->NeuralHydrology) (0.12.1)\n",
            "Requirement already satisfied: fonttools>=4.22.0 in /usr/local/lib/python3.10/dist-packages (from matplotlib->NeuralHydrology) (4.51.0)\n",
            "Requirement already satisfied: kiwisolver>=1.0.1 in /usr/local/lib/python3.10/dist-packages (from matplotlib->NeuralHydrology) (1.4.5)\n",
            "Requirement already satisfied: packaging>=20.0 in /usr/local/lib/python3.10/dist-packages (from matplotlib->NeuralHydrology) (24.0)\n",
            "Requirement already satisfied: pillow>=6.2.0 in /usr/local/lib/python3.10/dist-packages (from matplotlib->NeuralHydrology) (9.4.0)\n",
            "Requirement already satisfied: pyparsing>=2.3.1 in /usr/local/lib/python3.10/dist-packages (from matplotlib->NeuralHydrology) (3.1.2)\n",
            "Requirement already satisfied: python-dateutil>=2.7 in /usr/local/lib/python3.10/dist-packages (from matplotlib->NeuralHydrology) (2.8.2)\n",
            "Requirement already satisfied: llvmlite<0.42,>=0.41.0dev0 in /usr/local/lib/python3.10/dist-packages (from numba->NeuralHydrology) (0.41.1)\n",
            "Requirement already satisfied: pytz>=2020.1 in /usr/local/lib/python3.10/dist-packages (from pandas->NeuralHydrology) (2023.4)\n",
            "Requirement already satisfied: tzdata>=2022.1 in /usr/local/lib/python3.10/dist-packages (from pandas->NeuralHydrology) (2024.1)\n",
            "Requirement already satisfied: ruamel.yaml.clib>=0.2.7 in /usr/local/lib/python3.10/dist-packages (from ruamel.yaml->NeuralHydrology) (0.2.8)\n",
            "Requirement already satisfied: absl-py>=0.4 in /usr/local/lib/python3.10/dist-packages (from tensorboard->NeuralHydrology) (1.4.0)\n",
            "Requirement already satisfied: grpcio>=1.48.2 in /usr/local/lib/python3.10/dist-packages (from tensorboard->NeuralHydrology) (1.63.0)\n",
            "Requirement already satisfied: google-auth<3,>=1.6.3 in /usr/local/lib/python3.10/dist-packages (from tensorboard->NeuralHydrology) (2.27.0)\n",
            "Requirement already satisfied: google-auth-oauthlib<2,>=0.5 in /usr/local/lib/python3.10/dist-packages (from tensorboard->NeuralHydrology) (1.2.0)\n",
            "Requirement already satisfied: markdown>=2.6.8 in /usr/local/lib/python3.10/dist-packages (from tensorboard->NeuralHydrology) (3.6)\n",
            "Requirement already satisfied: protobuf!=4.24.0,>=3.19.6 in /usr/local/lib/python3.10/dist-packages (from tensorboard->NeuralHydrology) (3.20.3)\n",
            "Requirement already satisfied: requests<3,>=2.21.0 in /usr/local/lib/python3.10/dist-packages (from tensorboard->NeuralHydrology) (2.31.0)\n",
            "Requirement already satisfied: setuptools>=41.0.0 in /usr/local/lib/python3.10/dist-packages (from tensorboard->NeuralHydrology) (67.7.2)\n",
            "Requirement already satisfied: six>1.9 in /usr/local/lib/python3.10/dist-packages (from tensorboard->NeuralHydrology) (1.16.0)\n",
            "Requirement already satisfied: tensorboard-data-server<0.8.0,>=0.7.0 in /usr/local/lib/python3.10/dist-packages (from tensorboard->NeuralHydrology) (0.7.2)\n",
            "Requirement already satisfied: werkzeug>=1.0.1 in /usr/local/lib/python3.10/dist-packages (from tensorboard->NeuralHydrology) (3.0.3)\n",
            "Requirement already satisfied: filelock in /usr/local/lib/python3.10/dist-packages (from torch->NeuralHydrology) (3.14.0)\n",
            "Requirement already satisfied: typing-extensions>=4.8.0 in /usr/local/lib/python3.10/dist-packages (from torch->NeuralHydrology) (4.11.0)\n",
            "Requirement already satisfied: sympy in /usr/local/lib/python3.10/dist-packages (from torch->NeuralHydrology) (1.12)\n",
            "Requirement already satisfied: networkx in /usr/local/lib/python3.10/dist-packages (from torch->NeuralHydrology) (3.3)\n",
            "Requirement already satisfied: jinja2 in /usr/local/lib/python3.10/dist-packages (from torch->NeuralHydrology) (3.1.4)\n",
            "Requirement already satisfied: fsspec in /usr/local/lib/python3.10/dist-packages (from torch->NeuralHydrology) (2023.6.0)\n",
            "Requirement already satisfied: nvidia-cuda-nvrtc-cu12==12.1.105 in /usr/local/lib/python3.10/dist-packages (from torch->NeuralHydrology) (12.1.105)\n",
            "Requirement already satisfied: nvidia-cuda-runtime-cu12==12.1.105 in /usr/local/lib/python3.10/dist-packages (from torch->NeuralHydrology) (12.1.105)\n",
            "Requirement already satisfied: nvidia-cuda-cupti-cu12==12.1.105 in /usr/local/lib/python3.10/dist-packages (from torch->NeuralHydrology) (12.1.105)\n",
            "Requirement already satisfied: nvidia-cudnn-cu12==8.9.2.26 in /usr/local/lib/python3.10/dist-packages (from torch->NeuralHydrology) (8.9.2.26)\n",
            "Requirement already satisfied: nvidia-cublas-cu12==12.1.3.1 in /usr/local/lib/python3.10/dist-packages (from torch->NeuralHydrology) (12.1.3.1)\n",
            "Requirement already satisfied: nvidia-cufft-cu12==11.0.2.54 in /usr/local/lib/python3.10/dist-packages (from torch->NeuralHydrology) (11.0.2.54)\n",
            "Requirement already satisfied: nvidia-curand-cu12==10.3.2.106 in /usr/local/lib/python3.10/dist-packages (from torch->NeuralHydrology) (10.3.2.106)\n",
            "Requirement already satisfied: nvidia-cusolver-cu12==11.4.5.107 in /usr/local/lib/python3.10/dist-packages (from torch->NeuralHydrology) (11.4.5.107)\n",
            "Requirement already satisfied: nvidia-cusparse-cu12==12.1.0.106 in /usr/local/lib/python3.10/dist-packages (from torch->NeuralHydrology) (12.1.0.106)\n",
            "Requirement already satisfied: nvidia-nccl-cu12==2.19.3 in /usr/local/lib/python3.10/dist-packages (from torch->NeuralHydrology) (2.19.3)\n",
            "Requirement already satisfied: nvidia-nvtx-cu12==12.1.105 in /usr/local/lib/python3.10/dist-packages (from torch->NeuralHydrology) (12.1.105)\n",
            "Requirement already satisfied: triton==2.2.0 in /usr/local/lib/python3.10/dist-packages (from torch->NeuralHydrology) (2.2.0)\n",
            "Requirement already satisfied: nvidia-nvjitlink-cu12 in /usr/local/lib/python3.10/dist-packages (from nvidia-cusolver-cu12==11.4.5.107->torch->NeuralHydrology) (12.4.127)\n",
            "Requirement already satisfied: cachetools<6.0,>=2.0.0 in /usr/local/lib/python3.10/dist-packages (from google-auth<3,>=1.6.3->tensorboard->NeuralHydrology) (5.3.3)\n",
            "Requirement already satisfied: pyasn1-modules>=0.2.1 in /usr/local/lib/python3.10/dist-packages (from google-auth<3,>=1.6.3->tensorboard->NeuralHydrology) (0.4.0)\n",
            "Requirement already satisfied: rsa<5,>=3.1.4 in /usr/local/lib/python3.10/dist-packages (from google-auth<3,>=1.6.3->tensorboard->NeuralHydrology) (4.9)\n",
            "Requirement already satisfied: requests-oauthlib>=0.7.0 in /usr/local/lib/python3.10/dist-packages (from google-auth-oauthlib<2,>=0.5->tensorboard->NeuralHydrology) (1.3.1)\n",
            "Requirement already satisfied: charset-normalizer<4,>=2 in /usr/local/lib/python3.10/dist-packages (from requests<3,>=2.21.0->tensorboard->NeuralHydrology) (3.3.2)\n",
            "Requirement already satisfied: idna<4,>=2.5 in /usr/local/lib/python3.10/dist-packages (from requests<3,>=2.21.0->tensorboard->NeuralHydrology) (3.7)\n",
            "Requirement already satisfied: urllib3<3,>=1.21.1 in /usr/local/lib/python3.10/dist-packages (from requests<3,>=2.21.0->tensorboard->NeuralHydrology) (2.0.7)\n",
            "Requirement already satisfied: certifi>=2017.4.17 in /usr/local/lib/python3.10/dist-packages (from requests<3,>=2.21.0->tensorboard->NeuralHydrology) (2024.2.2)\n",
            "Requirement already satisfied: MarkupSafe>=2.1.1 in /usr/local/lib/python3.10/dist-packages (from werkzeug>=1.0.1->tensorboard->NeuralHydrology) (2.1.5)\n",
            "Requirement already satisfied: mpmath>=0.19 in /usr/local/lib/python3.10/dist-packages (from sympy->torch->NeuralHydrology) (1.3.0)\n",
            "Requirement already satisfied: pyasn1<0.7.0,>=0.4.6 in /usr/local/lib/python3.10/dist-packages (from pyasn1-modules>=0.2.1->google-auth<3,>=1.6.3->tensorboard->NeuralHydrology) (0.6.0)\n",
            "Requirement already satisfied: oauthlib>=3.0.0 in /usr/local/lib/python3.10/dist-packages (from requests-oauthlib>=0.7.0->google-auth-oauthlib<2,>=0.5->tensorboard->NeuralHydrology) (3.2.2)\n"
          ]
        }
      ]
    },
    {
      "cell_type": "code",
      "source": [
        "!pip install HydroErr"
      ],
      "metadata": {
        "colab": {
          "base_uri": "https://localhost:8080/"
        },
        "id": "NFFcZSxIM4kw",
        "outputId": "788887cf-efab-44fc-e2f9-2fd0fc552df1"
      },
      "execution_count": 3,
      "outputs": [
        {
          "output_type": "stream",
          "name": "stdout",
          "text": [
            "Requirement already satisfied: HydroErr in /usr/local/lib/python3.10/dist-packages (1.24)\n",
            "Requirement already satisfied: numpy in /usr/local/lib/python3.10/dist-packages (from HydroErr) (1.25.2)\n",
            "Requirement already satisfied: scipy in /usr/local/lib/python3.10/dist-packages (from HydroErr) (1.11.4)\n"
          ]
        }
      ]
    },
    {
      "cell_type": "code",
      "source": [
        "!pip install SkillMetrics"
      ],
      "metadata": {
        "colab": {
          "base_uri": "https://localhost:8080/"
        },
        "id": "UDkjgAuOWfGy",
        "outputId": "1ea6a42c-560e-422c-c7a9-8a355457f41e"
      },
      "execution_count": 4,
      "outputs": [
        {
          "output_type": "stream",
          "name": "stdout",
          "text": [
            "Requirement already satisfied: SkillMetrics in /usr/local/lib/python3.10/dist-packages (1.2.4)\n",
            "Requirement already satisfied: matplotlib in /usr/local/lib/python3.10/dist-packages (from SkillMetrics) (3.7.1)\n",
            "Requirement already satisfied: numpy in /usr/local/lib/python3.10/dist-packages (from SkillMetrics) (1.25.2)\n",
            "Requirement already satisfied: pandas in /usr/local/lib/python3.10/dist-packages (from SkillMetrics) (2.0.3)\n",
            "Requirement already satisfied: xlsxwriter in /usr/local/lib/python3.10/dist-packages (from SkillMetrics) (3.2.0)\n",
            "Requirement already satisfied: contourpy>=1.0.1 in /usr/local/lib/python3.10/dist-packages (from matplotlib->SkillMetrics) (1.2.1)\n",
            "Requirement already satisfied: cycler>=0.10 in /usr/local/lib/python3.10/dist-packages (from matplotlib->SkillMetrics) (0.12.1)\n",
            "Requirement already satisfied: fonttools>=4.22.0 in /usr/local/lib/python3.10/dist-packages (from matplotlib->SkillMetrics) (4.51.0)\n",
            "Requirement already satisfied: kiwisolver>=1.0.1 in /usr/local/lib/python3.10/dist-packages (from matplotlib->SkillMetrics) (1.4.5)\n",
            "Requirement already satisfied: packaging>=20.0 in /usr/local/lib/python3.10/dist-packages (from matplotlib->SkillMetrics) (24.0)\n",
            "Requirement already satisfied: pillow>=6.2.0 in /usr/local/lib/python3.10/dist-packages (from matplotlib->SkillMetrics) (9.4.0)\n",
            "Requirement already satisfied: pyparsing>=2.3.1 in /usr/local/lib/python3.10/dist-packages (from matplotlib->SkillMetrics) (3.1.2)\n",
            "Requirement already satisfied: python-dateutil>=2.7 in /usr/local/lib/python3.10/dist-packages (from matplotlib->SkillMetrics) (2.8.2)\n",
            "Requirement already satisfied: pytz>=2020.1 in /usr/local/lib/python3.10/dist-packages (from pandas->SkillMetrics) (2023.4)\n",
            "Requirement already satisfied: tzdata>=2022.1 in /usr/local/lib/python3.10/dist-packages (from pandas->SkillMetrics) (2024.1)\n",
            "Requirement already satisfied: six>=1.5 in /usr/local/lib/python3.10/dist-packages (from python-dateutil>=2.7->matplotlib->SkillMetrics) (1.16.0)\n"
          ]
        }
      ]
    },
    {
      "cell_type": "code",
      "source": [
        "!pip install RegscorePy"
      ],
      "metadata": {
        "colab": {
          "base_uri": "https://localhost:8080/"
        },
        "id": "PxKp56K2la-I",
        "outputId": "0bdf7d09-930a-41c6-e0a3-1bf9aded1e1d"
      },
      "execution_count": 5,
      "outputs": [
        {
          "output_type": "stream",
          "name": "stdout",
          "text": [
            "Requirement already satisfied: RegscorePy in /usr/local/lib/python3.10/dist-packages (1.1)\n",
            "Requirement already satisfied: numpy in /usr/local/lib/python3.10/dist-packages (from RegscorePy) (1.25.2)\n",
            "Requirement already satisfied: pandas in /usr/local/lib/python3.10/dist-packages (from RegscorePy) (2.0.3)\n",
            "Requirement already satisfied: python-dateutil>=2.8.2 in /usr/local/lib/python3.10/dist-packages (from pandas->RegscorePy) (2.8.2)\n",
            "Requirement already satisfied: pytz>=2020.1 in /usr/local/lib/python3.10/dist-packages (from pandas->RegscorePy) (2023.4)\n",
            "Requirement already satisfied: tzdata>=2022.1 in /usr/local/lib/python3.10/dist-packages (from pandas->RegscorePy) (2024.1)\n",
            "Requirement already satisfied: six>=1.5 in /usr/local/lib/python3.10/dist-packages (from python-dateutil>=2.8.2->pandas->RegscorePy) (1.16.0)\n"
          ]
        }
      ]
    },
    {
      "cell_type": "code",
      "source": [
        "!pip install sktime"
      ],
      "metadata": {
        "colab": {
          "base_uri": "https://localhost:8080/"
        },
        "id": "bo758yZqc9y3",
        "outputId": "30e8c69f-4517-4ab6-d0f8-797a0e1b43fc"
      },
      "execution_count": 6,
      "outputs": [
        {
          "output_type": "stream",
          "name": "stdout",
          "text": [
            "Requirement already satisfied: sktime in /usr/local/lib/python3.10/dist-packages (0.29.0)\n",
            "Requirement already satisfied: numpy<1.27,>=1.21 in /usr/local/lib/python3.10/dist-packages (from sktime) (1.25.2)\n",
            "Requirement already satisfied: packaging in /usr/local/lib/python3.10/dist-packages (from sktime) (24.0)\n",
            "Requirement already satisfied: pandas<2.3.0,>=1.1 in /usr/local/lib/python3.10/dist-packages (from sktime) (2.0.3)\n",
            "Requirement already satisfied: scikit-base<0.8.0,>=0.6.1 in /usr/local/lib/python3.10/dist-packages (from sktime) (0.7.8)\n",
            "Requirement already satisfied: scikit-learn<1.5.0,>=0.24 in /usr/local/lib/python3.10/dist-packages (from sktime) (1.2.2)\n",
            "Requirement already satisfied: scipy<2.0.0,>=1.2 in /usr/local/lib/python3.10/dist-packages (from sktime) (1.11.4)\n",
            "Requirement already satisfied: python-dateutil>=2.8.2 in /usr/local/lib/python3.10/dist-packages (from pandas<2.3.0,>=1.1->sktime) (2.8.2)\n",
            "Requirement already satisfied: pytz>=2020.1 in /usr/local/lib/python3.10/dist-packages (from pandas<2.3.0,>=1.1->sktime) (2023.4)\n",
            "Requirement already satisfied: tzdata>=2022.1 in /usr/local/lib/python3.10/dist-packages (from pandas<2.3.0,>=1.1->sktime) (2024.1)\n",
            "Requirement already satisfied: joblib>=1.1.1 in /usr/local/lib/python3.10/dist-packages (from scikit-learn<1.5.0,>=0.24->sktime) (1.4.2)\n",
            "Requirement already satisfied: threadpoolctl>=2.0.0 in /usr/local/lib/python3.10/dist-packages (from scikit-learn<1.5.0,>=0.24->sktime) (3.5.0)\n",
            "Requirement already satisfied: six>=1.5 in /usr/local/lib/python3.10/dist-packages (from python-dateutil>=2.8.2->pandas<2.3.0,>=1.1->sktime) (1.16.0)\n"
          ]
        }
      ]
    },
    {
      "cell_type": "code",
      "source": [
        "import datetime\n",
        "\n",
        "import numpy as np\n",
        "\n",
        "import xarray as xr\n",
        "\n",
        "import pandas as pd\n",
        "\n",
        "import hydroeval\n",
        "from hydroeval import evaluator\n",
        "\n",
        "import neuralhydrology\n",
        "\n",
        "import HydroErr\n",
        "\n",
        "import skill_metrics\n",
        "\n",
        "import RegscorePy\n",
        "\n",
        "import sktime\n",
        "\n",
        "print(datetime.datetime.now().strftime(\"%d %B %Y %H:%M:%S\"))\n",
        "print('xarray version: ', xr.__version__)\n",
        "print('np version: ', np.__version__)\n",
        "print('pd version: ', pd.__version__)\n",
        "print('hydroeval version: ', hydroeval.__version__)\n",
        "print('sktime: ', sktime.__version__)"
      ],
      "metadata": {
        "colab": {
          "base_uri": "https://localhost:8080/"
        },
        "id": "BHUozYBKMHSm",
        "outputId": "49be768f-b794-4282-eb54-62662d98a5fd"
      },
      "execution_count": 7,
      "outputs": [
        {
          "output_type": "stream",
          "name": "stdout",
          "text": [
            "12 May 2024 08:24:28\n",
            "xarray version:  2023.7.0\n",
            "np version:  1.25.2\n",
            "pd version:  2.0.3\n",
            "hydroeval version:  0.1.0\n",
            "sktime:  0.29.0\n"
          ]
        }
      ]
    },
    {
      "cell_type": "code",
      "source": [
        "random_state = np.random.RandomState(seed=313)\n",
        "\n",
        "t11 = random_state.random(100)\n",
        "p11 = random_state.random(100)\n",
        "\n",
        "t11.sum(), p11.sum()"
      ],
      "metadata": {
        "colab": {
          "base_uri": "https://localhost:8080/"
        },
        "id": "a21Q4wieMKQO",
        "outputId": "590884a7-3438-4a41-c1af-891de826a6f5"
      },
      "execution_count": 8,
      "outputs": [
        {
          "output_type": "execute_result",
          "data": {
            "text/plain": [
              "(50.99521786026271, 57.734075639710824)"
            ]
          },
          "metadata": {},
          "execution_count": 8
        }
      ]
    },
    {
      "cell_type": "code",
      "source": [
        "t_large = random_state.random(100) * 1e7\n",
        "p_large = random_state.random(100) * 1e7\n",
        "t_large.sum(), p_large.sum()"
      ],
      "metadata": {
        "colab": {
          "base_uri": "https://localhost:8080/"
        },
        "id": "kjuD7J4W7Hzg",
        "outputId": "b69cc8e1-5551-4433-e6b7-36eeba662d05"
      },
      "execution_count": 9,
      "outputs": [
        {
          "output_type": "execute_result",
          "data": {
            "text/plain": [
              "(464398965.6802617, 476923506.11901504)"
            ]
          },
          "metadata": {},
          "execution_count": 9
        }
      ]
    },
    {
      "cell_type": "code",
      "source": [
        "t_nan = t11.copy()\n",
        "p_nan = p11.copy()\n",
        "nan_indices = random_state.choice(range(100), 10, replace=False)\n",
        "t_nan[nan_indices] = np.nan\n",
        "nan_indices = random_state.choice(range(100), 10, replace=False)\n",
        "p_nan[nan_indices] = np.nan\n",
        "\n",
        "np.nansum(t_nan), np.nansum(p_nan)"
      ],
      "metadata": {
        "colab": {
          "base_uri": "https://localhost:8080/"
        },
        "id": "Fh8KZTnr7LMa",
        "outputId": "05b1dcbb-1f31-4a77-a08a-6196e056471a"
      },
      "execution_count": 10,
      "outputs": [
        {
          "output_type": "execute_result",
          "data": {
            "text/plain": [
              "(45.8916112408714, 50.981912295587875)"
            ]
          },
          "metadata": {},
          "execution_count": 10
        }
      ]
    },
    {
      "cell_type": "code",
      "source": [
        "t_neg = random_state.randint(-100, 100, 100)\n",
        "p_neg = random_state.randint(-100, 100, 100)\n",
        "\n",
        "t_neg.sum(), p_neg.sum()"
      ],
      "metadata": {
        "colab": {
          "base_uri": "https://localhost:8080/"
        },
        "id": "MjTUsgk87Q0M",
        "outputId": "43900a07-a9ac-45ea-fed1-dbda55349d4e"
      },
      "execution_count": 11,
      "outputs": [
        {
          "output_type": "execute_result",
          "data": {
            "text/plain": [
              "(-538, 545)"
            ]
          },
          "metadata": {},
          "execution_count": 11
        }
      ]
    },
    {
      "cell_type": "code",
      "source": [
        "\"\"\"\n",
        "The helper functions in this cell are copied from https://gist.github.com/bshishov/5dc237f59f019b26145648e2124ca1c9\n",
        "\"\"\"\n",
        "EPSILON = 1e-10\n",
        "\n",
        "\n",
        "def _error(actual: np.ndarray, predicted: np.ndarray):\n",
        "    \"\"\" Simple error \"\"\"\n",
        "    return actual - predicted\n",
        "\n",
        "\n",
        "def _percentage_error(actual: np.ndarray, predicted: np.ndarray):\n",
        "    \"\"\"\n",
        "    Percentage error\n",
        "    Note: result is NOT multiplied by 100\n",
        "    \"\"\"\n",
        "    return _error(actual, predicted) / (actual + EPSILON)\n",
        "\n",
        "\n",
        "def _naive_forecasting(actual: np.ndarray, seasonality: int = 1):\n",
        "    \"\"\" Naive forecasting method which just repeats previous samples \"\"\"\n",
        "    return actual[:-seasonality]\n",
        "\n",
        "\n",
        "def _relative_error(actual: np.ndarray, predicted: np.ndarray, benchmark: np.ndarray = None):\n",
        "    \"\"\" Relative Error \"\"\"\n",
        "    if benchmark is None or isinstance(benchmark, int):\n",
        "        # If no benchmark prediction provided - use naive forecasting\n",
        "        if not isinstance(benchmark, int):\n",
        "            seasonality = 1\n",
        "        else:\n",
        "            seasonality = benchmark\n",
        "        return _error(actual[seasonality:], predicted[seasonality:]) /\\\n",
        "               (_error(actual[seasonality:], _naive_forecasting(actual, seasonality)) + EPSILON)\n",
        "\n",
        "    return _error(actual, predicted) / (_error(actual, benchmark) + EPSILON)\n",
        "\n",
        "def _bounded_relative_error(actual: np.ndarray, predicted: np.ndarray, benchmark: np.ndarray = None):\n",
        "    \"\"\" Bounded Relative Error \"\"\"\n",
        "    if benchmark is None or isinstance(benchmark, int):\n",
        "        # If no benchmark prediction provided - use naive forecasting\n",
        "        if not isinstance(benchmark, int):\n",
        "            seasonality = 1\n",
        "        else:\n",
        "            seasonality = benchmark\n",
        "\n",
        "        abs_err = np.abs(_error(actual[seasonality:], predicted[seasonality:]))\n",
        "        abs_err_bench = np.abs(_error(actual[seasonality:], _naive_forecasting(actual, seasonality)))\n",
        "    else:\n",
        "        abs_err = np.abs(_error(actual, predicted))\n",
        "        abs_err_bench = np.abs(_error(actual, benchmark))\n",
        "\n",
        "    return abs_err / (abs_err + abs_err_bench + EPSILON)\n",
        "\n",
        "\n",
        "def _geometric_mean(a, axis=0, dtype=None):\n",
        "    \"\"\" Geometric mean \"\"\"\n",
        "    if not isinstance(a, np.ndarray):  # if not an ndarray object attempt to convert it\n",
        "        log_a = np.log(np.array(a, dtype=dtype))\n",
        "    elif dtype:  # Must change the default dtype allowing array type\n",
        "        if isinstance(a, np.ma.MaskedArray):\n",
        "            log_a = np.log(np.ma.asarray(a, dtype=dtype))\n",
        "        else:\n",
        "            log_a = np.log(np.asarray(a, dtype=dtype))\n",
        "    else:\n",
        "        log_a = np.log(a)\n",
        "    return np.exp(log_a.mean(axis=axis))\n",
        "\n",
        "\n",
        "def mae(actual: np.ndarray, predicted: np.ndarray):\n",
        "    \"\"\" Mean Absolute Error \"\"\"\n",
        "    return np.mean(np.abs(_error(actual, predicted)))\n",
        "\n",
        "def mse(actual: np.ndarray, predicted: np.ndarray):\n",
        "    \"\"\" Mean Squared Error \"\"\"\n",
        "    return np.mean(np.square(_error(actual, predicted)))\n",
        "\n",
        "def mape(actual: np.ndarray, predicted: np.ndarray):\n",
        "    \"\"\"\n",
        "    Mean Absolute Percentage Error\n",
        "    Properties:\n",
        "        + Easy to interpret\n",
        "        + Scale independent\n",
        "        - Biased, not symmetric\n",
        "        - Undefined when actual[t] == 0\n",
        "    Note: result is NOT multiplied by 100\n",
        "    \"\"\"\n",
        "    return np.mean(np.abs(_percentage_error(actual, predicted)))\n",
        "\n"
      ],
      "metadata": {
        "id": "bh7I9IxePTbd"
      },
      "execution_count": 12,
      "outputs": []
    },
    {
      "cell_type": "markdown",
      "source": [
        "### mda"
      ],
      "metadata": {
        "id": "OronpTE8OeJC"
      }
    },
    {
      "cell_type": "code",
      "execution_count": 13,
      "metadata": {
        "colab": {
          "base_uri": "https://localhost:8080/"
        },
        "id": "JGRkrIMvLlZE",
        "outputId": "34727b09-1403-4274-ea9e-c6eeaeea512a"
      },
      "outputs": [
        {
          "output_type": "execute_result",
          "data": {
            "text/plain": [
              "(0.696969696969697, 0.7171717171717171, 0.494949494949495, 0.7171717171717171)"
            ]
          },
          "metadata": {},
          "execution_count": 13
        }
      ],
      "source": [
        "# https://gist.github.com/bshishov/5dc237f59f019b26145648e2124ca1c9#file-forecasting_metrics-py-L259\n",
        "\n",
        "def mda(actual: np.ndarray, predicted: np.ndarray):\n",
        "    \"\"\" Mean Directional Accuracy \"\"\"\n",
        "    return np.mean((np.sign(actual[1:] - actual[:-1]) == np.sign(predicted[1:] - actual[:-1])).astype(int))\n",
        "\n",
        "\n",
        "mda(t11, p11), mda(t_large, p_large), mda(t_nan, p_nan), mda(t_neg, p_neg)"
      ]
    },
    {
      "cell_type": "code",
      "source": [],
      "metadata": {
        "id": "35N1Cf9Ak4OJ"
      },
      "execution_count": 13,
      "outputs": []
    },
    {
      "cell_type": "markdown",
      "source": [
        "### mbrae"
      ],
      "metadata": {
        "id": "TkHQGyd5kyaR"
      }
    },
    {
      "cell_type": "code",
      "source": [
        "# https://gist.github.com/bshishov/5dc237f59f019b26145648e2124ca1c9#file-forecasting_metrics-py-L248\n",
        "\n",
        "def mbrae(actual: np.ndarray, predicted: np.ndarray, benchmark: np.ndarray = None):\n",
        "    \"\"\" Mean Bounded Relative Absolute Error \"\"\"\n",
        "    return np.mean(_bounded_relative_error(actual, predicted, benchmark))\n",
        "\n",
        "mbrae(t11, p11), mbrae(t_large, p_large), mbrae(t_nan, p_nan), mbrae(t_neg, p_neg)"
      ],
      "metadata": {
        "colab": {
          "base_uri": "https://localhost:8080/"
        },
        "id": "9i5ksZUdPIsJ",
        "outputId": "d72ff7b2-6276-455a-9750-2bab8c16a68d"
      },
      "execution_count": 14,
      "outputs": [
        {
          "output_type": "execute_result",
          "data": {
            "text/plain": [
              "(0.46659593775205116, 0.5036144959534816, nan, 0.4330684929959228)"
            ]
          },
          "metadata": {},
          "execution_count": 14
        }
      ]
    },
    {
      "cell_type": "markdown",
      "source": [
        "### umbrae"
      ],
      "metadata": {
        "id": "PAFh1Ldqkz8f"
      }
    },
    {
      "cell_type": "code",
      "source": [
        "# https://gist.github.com/bshishov/5dc237f59f019b26145648e2124ca1c9#file-forecasting_metrics-py-L253\n",
        "def umbrae(actual: np.ndarray, predicted: np.ndarray, benchmark: np.ndarray = None):\n",
        "    \"\"\" Unscaled Mean Bounded Relative Absolute Error \"\"\"\n",
        "    __mbrae = mbrae(actual, predicted, benchmark)\n",
        "    return __mbrae / (1 - __mbrae)\n",
        "\n",
        "umbrae(t11, p11), umbrae(t_large, p_large), umbrae(t_nan, p_nan), umbrae(t_neg, p_neg)"
      ],
      "metadata": {
        "colab": {
          "base_uri": "https://localhost:8080/"
        },
        "id": "keFb44nDMdEY",
        "outputId": "7f2bf33c-233e-4b91-e70b-1d37afe8f2a7"
      },
      "execution_count": 15,
      "outputs": [
        {
          "output_type": "execute_result",
          "data": {
            "text/plain": [
              "(0.8747513766311694, 1.014563261513547, nan, 0.7638815053417172)"
            ]
          },
          "metadata": {},
          "execution_count": 15
        }
      ]
    },
    {
      "cell_type": "markdown",
      "source": [
        "### gmrae"
      ],
      "metadata": {
        "id": "zkKXcERok1qp"
      }
    },
    {
      "cell_type": "code",
      "source": [
        "# https://gist.github.com/bshishov/5dc237f59f019b26145648e2124ca1c9#file-forecasting_metrics-py-L243\n",
        "\n",
        "def gmrae(actual: np.ndarray, predicted: np.ndarray, benchmark: np.ndarray = None):\n",
        "    \"\"\" Geometric Mean Relative Absolute Error \"\"\"\n",
        "    return _geometric_mean(np.abs(_relative_error(actual, predicted, benchmark)))\n",
        "\n",
        "gmrae(t11, p11), gmrae(t_large, p_large), gmrae(t_nan, p_nan), gmrae(t_neg, p_neg)"
      ],
      "metadata": {
        "colab": {
          "base_uri": "https://localhost:8080/"
        },
        "id": "HFEdfusdPuAJ",
        "outputId": "27a70ff9-6323-4a0d-84b2-0d7b581bb689"
      },
      "execution_count": 16,
      "outputs": [
        {
          "output_type": "stream",
          "name": "stderr",
          "text": [
            "<ipython-input-12-26b8d5991418>:66: RuntimeWarning: divide by zero encountered in log\n",
            "  log_a = np.log(a)\n"
          ]
        },
        {
          "output_type": "execute_result",
          "data": {
            "text/plain": [
              "(0.79938390310645, 1.1057529056395325, nan, 0.0)"
            ]
          },
          "metadata": {},
          "execution_count": 16
        }
      ]
    },
    {
      "cell_type": "markdown",
      "source": [
        "### mdrae"
      ],
      "metadata": {
        "id": "JcJx1m8Nk3l0"
      }
    },
    {
      "cell_type": "code",
      "source": [
        "# https://gist.github.com/bshishov/5dc237f59f019b26145648e2124ca1c9#file-forecasting_metrics-py-L238\n",
        "\n",
        "def mdrae(actual: np.ndarray, predicted: np.ndarray, benchmark: np.ndarray = None):\n",
        "    \"\"\" Median Relative Absolute Error \"\"\"\n",
        "    return np.median(np.abs(_relative_error(actual, predicted, benchmark)))\n",
        "\n",
        "mdrae(t11, p11), mdrae(t_large, p_large), mdrae(t_nan, p_nan), mdrae(t_neg, p_neg)"
      ],
      "metadata": {
        "colab": {
          "base_uri": "https://localhost:8080/"
        },
        "id": "Ndx1cSRsQIIC",
        "outputId": "f68f97fc-7101-4ec2-9bf8-0a58a00935e7"
      },
      "execution_count": 17,
      "outputs": [
        {
          "output_type": "execute_result",
          "data": {
            "text/plain": [
              "(0.9086455067666214, 0.941921124439974, nan, 0.7777777777768176)"
            ]
          },
          "metadata": {},
          "execution_count": 17
        }
      ]
    },
    {
      "cell_type": "markdown",
      "source": [
        "### mrae"
      ],
      "metadata": {
        "id": "vexoJP4ik5dr"
      }
    },
    {
      "cell_type": "code",
      "source": [
        "# https://gist.github.com/bshishov/5dc237f59f019b26145648e2124ca1c9#file-forecasting_metrics-py-L233\n",
        "\n",
        "def mrae(actual: np.ndarray, predicted: np.ndarray, benchmark: np.ndarray = None):\n",
        "    \"\"\" Mean Relative Absolute Error \"\"\"\n",
        "    return np.mean(np.abs(_relative_error(actual, predicted, benchmark)))\n",
        "\n",
        "mrae(t11, p11), mrae(t_large, p_large), mrae(t_nan, p_nan), mrae(t_neg, p_neg)"
      ],
      "metadata": {
        "colab": {
          "base_uri": "https://localhost:8080/"
        },
        "id": "z3uAFb9SQeuP",
        "outputId": "069d34d5-6eeb-41ab-8c94-246613c8be68"
      },
      "execution_count": 18,
      "outputs": [
        {
          "output_type": "execute_result",
          "data": {
            "text/plain": [
              "(2.5711621568850163, 17.10021183277437, nan, 1.6932857266200108)"
            ]
          },
          "metadata": {},
          "execution_count": 18
        }
      ]
    },
    {
      "cell_type": "markdown",
      "source": [
        "### rae"
      ],
      "metadata": {
        "id": "sxtGF-b5k69E"
      }
    },
    {
      "cell_type": "code",
      "source": [
        "# https://gist.github.com/bshishov/5dc237f59f019b26145648e2124ca1c9#file-forecasting_metrics-py-L228\n",
        "\n",
        "def rae(actual: np.ndarray, predicted: np.ndarray):\n",
        "    \"\"\" Relative Absolute Error (aka Approximation Error) \"\"\"\n",
        "    return np.sum(np.abs(actual - predicted)) / (np.sum(np.abs(actual - np.mean(actual))) + EPSILON)\n",
        "\n",
        "rae(t11, p11), rae(t_large, p_large), rae(t_nan, p_nan), rae(t_neg, p_neg)"
      ],
      "metadata": {
        "colab": {
          "base_uri": "https://localhost:8080/"
        },
        "id": "AZeW2775Q683",
        "outputId": "63be9a12-0e8c-497b-e0e0-e68e84006a65"
      },
      "execution_count": 19,
      "outputs": [
        {
          "output_type": "execute_result",
          "data": {
            "text/plain": [
              "(1.3287945409387383, 1.340411324601443, nan, 1.2510189384046542)"
            ]
          },
          "metadata": {},
          "execution_count": 19
        }
      ]
    },
    {
      "cell_type": "markdown",
      "source": [
        "### mre"
      ],
      "metadata": {
        "id": "8Cqu2N_uk8gB"
      }
    },
    {
      "cell_type": "code",
      "source": [
        "# https://gist.github.com/bshishov/5dc237f59f019b26145648e2124ca1c9#file-forecasting_metrics-py-L223\n",
        "\n",
        "def mre(actual: np.ndarray, predicted: np.ndarray, benchmark: np.ndarray = None):\n",
        "    \"\"\" Mean Relative Error \"\"\"\n",
        "    return np.mean(_relative_error(actual, predicted, benchmark))\n",
        "\n",
        "mre(t11, p11), mre(t_large, p_large), mre(t_nan, p_nan), mre(t_neg, p_neg)"
      ],
      "metadata": {
        "colab": {
          "base_uri": "https://localhost:8080/"
        },
        "id": "DgTpL_j0RgRw",
        "outputId": "b20df945-23b9-4d0c-f264-b61c16abc1a5"
      },
      "execution_count": 20,
      "outputs": [
        {
          "output_type": "execute_result",
          "data": {
            "text/plain": [
              "(0.5101139564068491, -1.5538232747884768, nan, 0.05273425381880722)"
            ]
          },
          "metadata": {},
          "execution_count": 20
        }
      ]
    },
    {
      "cell_type": "code",
      "source": [
        "# https://gist.github.com/bshishov/5dc237f59f019b26145648e2124ca1c9#file-forecasting_metrics-py-L223\n",
        "\n",
        "def rse(actual: np.ndarray, predicted: np.ndarray):\n",
        "    \"\"\" Root Relative Squared Error \"\"\"\n",
        "    return np.sum(np.square(actual - predicted)) / np.sum(np.square(actual - np.mean(actual)))\n",
        "\n",
        "rse(t11, p11), rse(t_large, p_large), rse(t_nan, p_nan), rse(t_neg, p_neg)"
      ],
      "metadata": {
        "colab": {
          "base_uri": "https://localhost:8080/"
        },
        "id": "pEzuUEIFjKQM",
        "outputId": "84ae146a-ead4-4012-bed4-2266465467c1"
      },
      "execution_count": 21,
      "outputs": [
        {
          "output_type": "execute_result",
          "data": {
            "text/plain": [
              "(2.0683722517498735, 1.9614489156992236, nan, 1.828654286138622)"
            ]
          },
          "metadata": {},
          "execution_count": 21
        }
      ]
    },
    {
      "cell_type": "markdown",
      "source": [
        "### rrse"
      ],
      "metadata": {
        "id": "sY69bVm1k-C4"
      }
    },
    {
      "cell_type": "code",
      "source": [
        "# https://gist.github.com/bshishov/5dc237f59f019b26145648e2124ca1c9#file-forecasting_metrics-py-L223\n",
        "\n",
        "def rrse(actual: np.ndarray, predicted: np.ndarray):\n",
        "    \"\"\" Root Relative Squared Error \"\"\"\n",
        "    return np.sqrt(np.sum(np.square(actual - predicted)) / np.sum(np.square(actual - np.mean(actual))))\n",
        "\n",
        "rrse(t11, p11), rrse(t_large, p_large), rrse(t_nan, p_nan), rrse(t_neg, p_neg)"
      ],
      "metadata": {
        "colab": {
          "base_uri": "https://localhost:8080/"
        },
        "id": "y2GH1S18Ttn3",
        "outputId": "493ae4d3-d543-4a9e-847f-6242f6522a1c"
      },
      "execution_count": 22,
      "outputs": [
        {
          "output_type": "execute_result",
          "data": {
            "text/plain": [
              "(1.4381836641228662, 1.4005173742939512, nan, 1.3522774442172072)"
            ]
          },
          "metadata": {},
          "execution_count": 22
        }
      ]
    },
    {
      "cell_type": "markdown",
      "source": [
        "### inrse"
      ],
      "metadata": {
        "id": "OueeS9JZlANp"
      }
    },
    {
      "cell_type": "code",
      "source": [
        "# https://gist.github.com/bshishov/5dc237f59f019b26145648e2124ca1c9#file-forecasting_metrics-py-L213\n",
        "\n",
        "def inrse(actual: np.ndarray, predicted: np.ndarray):\n",
        "    \"\"\" Integral Normalized Root Squared Error \"\"\"\n",
        "    return np.sqrt(np.sum(np.square(_error(actual, predicted))) / np.sum(np.square(actual - np.mean(actual))))\n",
        "\n",
        "inrse(t11, p11), inrse(t_large, p_large), inrse(t_nan, p_nan), inrse(t_neg, p_neg)"
      ],
      "metadata": {
        "colab": {
          "base_uri": "https://localhost:8080/"
        },
        "id": "hdejPhs1VY6Y",
        "outputId": "5271906d-1f8d-4923-de8b-1eee4fd987b3"
      },
      "execution_count": 23,
      "outputs": [
        {
          "output_type": "execute_result",
          "data": {
            "text/plain": [
              "(1.4381836641228662, 1.4005173742939512, nan, 1.3522774442172072)"
            ]
          },
          "metadata": {},
          "execution_count": 23
        }
      ]
    },
    {
      "cell_type": "markdown",
      "source": [
        "### rmsse"
      ],
      "metadata": {
        "id": "CbCimr3nlCEf"
      }
    },
    {
      "cell_type": "code",
      "source": [
        "# https://gist.github.com/bshishov/5dc237f59f019b26145648e2124ca1c9#file-forecasting_metrics-py-L207\n",
        "\n",
        "def rmsse(actual: np.ndarray, predicted: np.ndarray, seasonality: int = 1):\n",
        "    \"\"\" Root Mean Squared Scaled Error \"\"\"\n",
        "    q = np.abs(_error(actual, predicted)) / mae(actual[seasonality:], _naive_forecasting(actual, seasonality))\n",
        "    return np.sqrt(np.mean(np.square(q)))\n",
        "\n",
        "rmsse(t11,p11), rmsse(t_large, p_large), rmsse(t_nan, p_nan), rmsse(t_neg, p_neg)"
      ],
      "metadata": {
        "colab": {
          "base_uri": "https://localhost:8080/"
        },
        "id": "nHejm5VDVsRY",
        "outputId": "b3c5a0b7-17f7-451b-b950-a4113f96ba38"
      },
      "execution_count": 24,
      "outputs": [
        {
          "output_type": "execute_result",
          "data": {
            "text/plain": [
              "(1.2234619716320643, 1.217492218321228, nan, 1.0319875236848162)"
            ]
          },
          "metadata": {},
          "execution_count": 24
        }
      ]
    },
    {
      "cell_type": "markdown",
      "source": [
        "### me"
      ],
      "metadata": {
        "id": "rMatSpWFlDzX"
      }
    },
    {
      "cell_type": "code",
      "source": [
        "# https://gist.github.com/bshishov/5dc237f59f019b26145648e2124ca1c9#file-forecasting_metrics-py-L86\n",
        "\n",
        "def me(actual: np.ndarray, predicted: np.ndarray):\n",
        "    \"\"\" Mean Error \"\"\"\n",
        "    return np.mean(_error(actual, predicted))\n",
        "\n",
        "me(t11, p11), me(t_large, p_large), me(t_nan, p_nan), me(t_neg, p_neg)"
      ],
      "metadata": {
        "colab": {
          "base_uri": "https://localhost:8080/"
        },
        "id": "JIZvploGV4hX",
        "outputId": "8f39bee4-9091-46ec-d919-1aaba045d497"
      },
      "execution_count": 25,
      "outputs": [
        {
          "output_type": "execute_result",
          "data": {
            "text/plain": [
              "(-0.06738857779448111, -125245.40438753393, nan, -10.83)"
            ]
          },
          "metadata": {},
          "execution_count": 25
        }
      ]
    },
    {
      "cell_type": "markdown",
      "source": [
        "### rmse"
      ],
      "metadata": {
        "id": "qXKzS5H7lPsR"
      }
    },
    {
      "cell_type": "code",
      "source": [
        "# https://gist.github.com/bshishov/5dc237f59f019b26145648e2124ca1c9#file-forecasting_metrics-py-L76\n",
        "\n",
        "def rmse(actual: np.ndarray, predicted: np.ndarray):\n",
        "    \"\"\" Root Mean Squared Error \"\"\"\n",
        "    return np.sqrt(mse(actual, predicted))\n",
        "\n",
        "rmse(t11, p11), rmse(t_large, p_large), rmse(t_nan, p_nan), rmse(t_neg, p_neg)"
      ],
      "metadata": {
        "id": "ATiShNhZW5wM",
        "colab": {
          "base_uri": "https://localhost:8080/"
        },
        "outputId": "28c3cc48-413d-4958-c51f-f240d7be8f53"
      },
      "execution_count": 26,
      "outputs": [
        {
          "output_type": "execute_result",
          "data": {
            "text/plain": [
              "(0.40289487147518754, 4183830.0609148364, nan, 79.05649878409744)"
            ]
          },
          "metadata": {},
          "execution_count": 26
        }
      ]
    },
    {
      "cell_type": "markdown",
      "source": [
        "### nrmse"
      ],
      "metadata": {
        "id": "MV018tHxlThi"
      }
    },
    {
      "cell_type": "code",
      "source": [
        "# https://gist.github.com/bshishov/5dc237f59f019b26145648e2124ca1c9#file-forecasting_metrics-py-L81\n",
        "\n",
        "def nrmse(actual: np.ndarray, predicted: np.ndarray):\n",
        "    \"\"\" Normalized Root Mean Squared Error \"\"\"\n",
        "    return rmse(actual, predicted) / (actual.max() - actual.min())\n",
        "\n",
        "nrmse(t11, p11), nrmse(t_large, p_large), nrmse(t_nan, p_nan), nrmse(t_neg, p_neg)"
      ],
      "metadata": {
        "colab": {
          "base_uri": "https://localhost:8080/"
        },
        "id": "OSFc291NWte3",
        "outputId": "70816868-928a-46e9-826b-ec1ee811faf2"
      },
      "execution_count": 27,
      "outputs": [
        {
          "output_type": "execute_result",
          "data": {
            "text/plain": [
              "(0.4081874143525102, 0.4236625368431997, nan, 0.4033494835923339)"
            ]
          },
          "metadata": {},
          "execution_count": 27
        }
      ]
    },
    {
      "cell_type": "markdown",
      "source": [
        "### mpe"
      ],
      "metadata": {
        "id": "ObQORHxblVie"
      }
    },
    {
      "cell_type": "code",
      "source": [
        "# https://gist.github.com/bshishov/5dc237f59f019b26145648e2124ca1c9#file-forecasting_metrics-py-L112\n",
        "\n",
        "def mpe(actual: np.ndarray, predicted: np.ndarray):\n",
        "    \"\"\" Mean Percentage Error \"\"\"\n",
        "    return np.mean(_percentage_error(actual, predicted))\n",
        "\n",
        "mpe(t11, p11), mpe(t_large, p_large), mpe(t_nan, p_nan), mpe(t_neg, p_neg)"
      ],
      "metadata": {
        "colab": {
          "base_uri": "https://localhost:8080/"
        },
        "id": "Kf7PP8E-W3UT",
        "outputId": "6ecfc3b5-351e-4e3b-ce07-8de5cd5305ba"
      },
      "execution_count": 28,
      "outputs": [
        {
          "output_type": "execute_result",
          "data": {
            "text/plain": [
              "(-42.20843064537674, -2.2416867347068568, nan, -0.5080812552030656)"
            ]
          },
          "metadata": {},
          "execution_count": 28
        }
      ]
    },
    {
      "cell_type": "markdown",
      "source": [
        "### gmae"
      ],
      "metadata": {
        "id": "GG-dzj3SlW5p"
      }
    },
    {
      "cell_type": "code",
      "source": [
        "# https://gist.github.com/bshishov/5dc237f59f019b26145648e2124ca1c9#file-forecasting_metrics-py-L102\n",
        "\n",
        "def gmae(actual: np.ndarray, predicted: np.ndarray):\n",
        "    \"\"\" Geometric Mean Absolute Error \"\"\"\n",
        "    return _geometric_mean(np.abs(_error(actual, predicted)))\n",
        "\n",
        "gmae(t11, p11), gmae(t_large, p_large), gmae(t_nan, p_nan), gmae(t_neg, p_neg)"
      ],
      "metadata": {
        "id": "i1pZf8M7Xm6w",
        "colab": {
          "base_uri": "https://localhost:8080/"
        },
        "outputId": "011351d1-460d-4046-cea3-fb97f6cb785e"
      },
      "execution_count": 29,
      "outputs": [
        {
          "output_type": "stream",
          "name": "stderr",
          "text": [
            "<ipython-input-12-26b8d5991418>:66: RuntimeWarning: divide by zero encountered in log\n",
            "  log_a = np.log(a)\n"
          ]
        },
        {
          "output_type": "execute_result",
          "data": {
            "text/plain": [
              "(0.19423992928498718, 2449891.1923250267, nan, 0.0)"
            ]
          },
          "metadata": {},
          "execution_count": 29
        }
      ]
    },
    {
      "cell_type": "markdown",
      "source": [
        "### mdape"
      ],
      "metadata": {
        "id": "JqeXBbhLlYR4"
      }
    },
    {
      "cell_type": "code",
      "source": [
        "# https://gist.github.com/bshishov/5dc237f59f019b26145648e2124ca1c9#file-forecasting_metrics-py-L132\n",
        "\n",
        "def mdape(actual: np.ndarray, predicted: np.ndarray):\n",
        "    \"\"\"\n",
        "    Median Absolute Percentage Error\n",
        "    Note: result is NOT multiplied by 100\n",
        "    \"\"\"\n",
        "    return np.median(np.abs(_percentage_error(actual, predicted)))\n",
        "\n",
        "mdape(t11, p11), mdape(t_large, p_large), mdape(t_nan, p_nan), mdape(t_neg, p_neg)"
      ],
      "metadata": {
        "colab": {
          "base_uri": "https://localhost:8080/"
        },
        "id": "ulyI8pmbIfl7",
        "outputId": "6d38bad2-e35c-4476-ee92-daa7c5474644"
      },
      "execution_count": 30,
      "outputs": [
        {
          "output_type": "execute_result",
          "data": {
            "text/plain": [
              "(0.513246349701827, 0.7567708188562414, nan, 1.4614370468057651)"
            ]
          },
          "metadata": {},
          "execution_count": 30
        }
      ]
    },
    {
      "cell_type": "markdown",
      "source": [
        "### smape"
      ],
      "metadata": {
        "id": "IWN1Eq2TlZpT"
      }
    },
    {
      "cell_type": "code",
      "source": [
        "# https://gist.github.com/bshishov/5dc237f59f019b26145648e2124ca1c9#file-forecasting_metrics-py-L141\n",
        "\n",
        "def smape(actual: np.ndarray, predicted: np.ndarray):\n",
        "    \"\"\"\n",
        "    Symmetric Mean Absolute Percentage Error\n",
        "    Note: result is NOT multiplied by 100\n",
        "    \"\"\"\n",
        "    return np.mean(2.0 * np.abs(actual - predicted) / ((np.abs(actual) + np.abs(predicted)) + EPSILON))\n",
        "\n",
        "smape(t11, p11), smape(t_large, p_large), smape(t_nan, p_nan), smape(t_neg, p_neg)"
      ],
      "metadata": {
        "colab": {
          "base_uri": "https://localhost:8080/"
        },
        "id": "M9sr0l-zIrYo",
        "outputId": "92327640-61b7-47cf-bc5b-2f8161a437ab"
      },
      "execution_count": 31,
      "outputs": [
        {
          "output_type": "execute_result",
          "data": {
            "text/plain": [
              "(0.7028826489278417, 0.8728058345172697, nan, 1.2665321112176788)"
            ]
          },
          "metadata": {},
          "execution_count": 31
        }
      ]
    },
    {
      "cell_type": "markdown",
      "source": [
        "### smdape"
      ],
      "metadata": {
        "id": "KWJ782hhlbBj"
      }
    },
    {
      "cell_type": "code",
      "source": [
        "# https://gist.github.com/bshishov/5dc237f59f019b26145648e2124ca1c9#file-forecasting_metrics-py-L150\n",
        "\n",
        "def smdape(actual: np.ndarray, predicted: np.ndarray):\n",
        "    \"\"\"\n",
        "    Symmetric Median Absolute Percentage Error\n",
        "    Note: result is NOT multiplied by 100\n",
        "    \"\"\"\n",
        "    return np.median(2.0 * np.abs(actual - predicted) / ((np.abs(actual) + np.abs(predicted)) + EPSILON))\n",
        "\n",
        "smdape(t11, p11), smdape(t_large, p_large), smdape(t_nan, p_nan), smdape(t_neg, p_neg)"
      ],
      "metadata": {
        "colab": {
          "base_uri": "https://localhost:8080/"
        },
        "id": "s55WfQgsI7oh",
        "outputId": "376db308-4186-49d6-ddeb-960967f58731"
      },
      "execution_count": 32,
      "outputs": [
        {
          "output_type": "execute_result",
          "data": {
            "text/plain": [
              "(0.5999121382638821, 0.7801452772689506, nan, 1.4883449883428177)"
            ]
          },
          "metadata": {},
          "execution_count": 32
        }
      ]
    },
    {
      "cell_type": "markdown",
      "source": [
        "### maape"
      ],
      "metadata": {
        "id": "PDIz_vsplene"
      }
    },
    {
      "cell_type": "code",
      "source": [
        "# https://gist.github.com/bshishov/5dc237f59f019b26145648e2124ca1c9#file-forecasting_metrics-py-L159\n",
        "\n",
        "def maape(actual: np.ndarray, predicted: np.ndarray):\n",
        "    \"\"\"\n",
        "    Mean Arctangent Absolute Percentage Error\n",
        "    Note: result is NOT multiplied by 100\n",
        "    \"\"\"\n",
        "    return np.mean(np.arctan(np.abs((actual - predicted) / (actual + EPSILON))))\n",
        "\n",
        "maape(t11, p11), maape(t_large, p_large), maape(t_nan, p_nan), maape(t_neg, p_neg)"
      ],
      "metadata": {
        "colab": {
          "base_uri": "https://localhost:8080/"
        },
        "id": "mS63MtrRJGfk",
        "outputId": "d2b89854-4f3d-4f62-a7e0-cf5b66ae0105"
      },
      "execution_count": 33,
      "outputs": [
        {
          "output_type": "execute_result",
          "data": {
            "text/plain": [
              "(0.5828454707567975, 0.6788115353385473, nan, 0.8399216450191015)"
            ]
          },
          "metadata": {},
          "execution_count": 33
        }
      ]
    },
    {
      "cell_type": "markdown",
      "source": [
        "### mase"
      ],
      "metadata": {
        "id": "IYTopFmelcfL"
      }
    },
    {
      "cell_type": "code",
      "source": [
        "# https://gist.github.com/bshishov/5dc237f59f019b26145648e2124ca1c9#file-forecasting_metrics-py-L168\n",
        "\n",
        "def mase(actual: np.ndarray, predicted: np.ndarray, seasonality: int = 1):\n",
        "    \"\"\"\n",
        "    Mean Absolute Scaled Error\n",
        "    Baseline (benchmark) is computed with naive forecasting (shifted by @seasonality)\n",
        "    \"\"\"\n",
        "    return mae(actual, predicted) / mae(actual[seasonality:], _naive_forecasting(actual, seasonality))\n",
        "\n",
        "mase(t11, p11), mase(t_large, p_large), mase(t_nan, p_nan), mase(t_neg, p_neg)"
      ],
      "metadata": {
        "colab": {
          "base_uri": "https://localhost:8080/"
        },
        "id": "tq2U26I4JY6A",
        "outputId": "4f4e0148-174c-4015-ce6c-6dd61ee11def"
      },
      "execution_count": 34,
      "outputs": [
        {
          "output_type": "execute_result",
          "data": {
            "text/plain": [
              "(0.9609397361653512, 1.0143742396253592, nan, 0.8253916139240506)"
            ]
          },
          "metadata": {},
          "execution_count": 34
        }
      ]
    },
    {
      "cell_type": "markdown",
      "source": [
        "### std_ae\n",
        "renamed as norm_ae in seqmetrics\n"
      ],
      "metadata": {
        "id": "z-W1O1WiJtFT"
      }
    },
    {
      "cell_type": "code",
      "source": [
        "# https://gist.github.com/bshishov/5dc237f59f019b26145648e2124ca1c9#file-forecasting_metrics-py-L177\n",
        "\n",
        "def std_ae(actual: np.ndarray, predicted: np.ndarray):\n",
        "    \"\"\" Normalized Absolute Error \"\"\"\n",
        "    __mae = mae(actual, predicted)\n",
        "    return np.sqrt(np.sum(np.square(_error(actual, predicted) - __mae))/(len(actual) - 1))\n",
        "\n",
        "std_ae(t11, p11), std_ae(t_large, p_large), std_ae(t_nan, p_nan), std_ae(t_neg, p_neg)"
      ],
      "metadata": {
        "colab": {
          "base_uri": "https://localhost:8080/"
        },
        "id": "QuXOC5bHJsNe",
        "outputId": "56a24b62-1629-4ba7-9602-7e6bd69868c9"
      },
      "execution_count": 35,
      "outputs": [
        {
          "output_type": "execute_result",
          "data": {
            "text/plain": [
              "(0.5551510970200795, 5553104.916104561, nan, 108.32762082840846)"
            ]
          },
          "metadata": {},
          "execution_count": 35
        }
      ]
    },
    {
      "cell_type": "markdown",
      "source": [
        "### std_ape\n",
        "\n",
        "renamed as norm_ape in seqmetrics"
      ],
      "metadata": {
        "id": "5Rsyt2iFKPpS"
      }
    },
    {
      "cell_type": "code",
      "source": [
        "# https://gist.github.com/bshishov/5dc237f59f019b26145648e2124ca1c9#file-forecasting_metrics-py-L183\n",
        "\n",
        "def std_ape(actual: np.ndarray, predicted: np.ndarray):\n",
        "    \"\"\" Normalized Absolute Percentage Error \"\"\"\n",
        "    __mape = mape(actual, predicted)\n",
        "    return np.sqrt(np.sum(np.square(_percentage_error(actual, predicted) - __mape))/(len(actual) - 1))\n",
        "\n",
        "std_ape(t11, p11), std_ape(t_large, p_large), std_ape(t_nan, p_nan), std_ape(t_neg, p_neg)"
      ],
      "metadata": {
        "colab": {
          "base_uri": "https://localhost:8080/"
        },
        "id": "iyJjpX6dKI3D",
        "outputId": "62efaf46-694e-446f-82ee-de136812603c"
      },
      "execution_count": 36,
      "outputs": [
        {
          "output_type": "execute_result",
          "data": {
            "text/plain": [
              "(404.0632278812062, 10.468496670954119, nan, 11.097150018412195)"
            ]
          },
          "metadata": {},
          "execution_count": 36
        }
      ]
    },
    {
      "cell_type": "markdown",
      "source": [
        "### rmspe"
      ],
      "metadata": {
        "id": "9LFLAY_Rl2w3"
      }
    },
    {
      "cell_type": "code",
      "source": [
        "# https://gist.github.com/bshishov/5dc237f59f019b26145648e2124ca1c9#file-forecasting_metrics-py-L189\n",
        "\n",
        "def rmspe(actual: np.ndarray, predicted: np.ndarray):\n",
        "    \"\"\"\n",
        "    Root Mean Squared Percentage Error\n",
        "    Note: result is NOT multiplied by 100\n",
        "    \"\"\"\n",
        "    return np.sqrt(np.mean(np.square(_percentage_error(actual, predicted))))\n",
        "\n",
        "rmspe(t11, p11), rmspe(t_large, p_large), rmspe(t_nan, p_nan), rmspe(t_neg, p_neg)"
      ],
      "metadata": {
        "id": "_1ZI1uUGLrYj",
        "colab": {
          "base_uri": "https://localhost:8080/"
        },
        "outputId": "5cc39af5-8951-4afc-a22a-75a7c196808a"
      },
      "execution_count": 37,
      "outputs": [
        {
          "output_type": "execute_result",
          "data": {
            "text/plain": [
              "(395.25283254969173, 9.399644256990216, nan, 10.206148170735952)"
            ]
          },
          "metadata": {},
          "execution_count": 37
        }
      ]
    },
    {
      "cell_type": "markdown",
      "source": [
        "### rmdspe"
      ],
      "metadata": {
        "id": "fTQeJpu9l4Tw"
      }
    },
    {
      "cell_type": "code",
      "source": [
        "# https://gist.github.com/bshishov/5dc237f59f019b26145648e2124ca1c9#file-forecasting_metrics-py-L198\n",
        "\n",
        "def rmdspe(actual: np.ndarray, predicted: np.ndarray):\n",
        "    \"\"\"\n",
        "    Root Median Squared Percentage Error\n",
        "    Note: result is NOT multiplied by 100\n",
        "    \"\"\"\n",
        "    return np.sqrt(np.median(np.square(_percentage_error(actual, predicted))))\n",
        "\n",
        "rmdspe(t11, p11), rmdspe(t_large, p_large), rmdspe(t_nan, p_nan), rmdspe(t_neg, p_neg)"
      ],
      "metadata": {
        "id": "zTrBYlsmMNcY",
        "colab": {
          "base_uri": "https://localhost:8080/"
        },
        "outputId": "12d0f976-cbdd-4467-f9f7-953fbd7c18e9"
      },
      "execution_count": 38,
      "outputs": [
        {
          "output_type": "execute_result",
          "data": {
            "text/plain": [
              "(0.5133222853161394, 0.7567716892334615, nan, 1.4614383848209451)"
            ]
          },
          "metadata": {},
          "execution_count": 38
        }
      ]
    },
    {
      "cell_type": "markdown",
      "source": [
        "### NSE"
      ],
      "metadata": {
        "id": "wrBMOGejPDgL"
      }
    },
    {
      "cell_type": "code",
      "source": [
        "from hydroeval import nse\n",
        "\n",
        "# Calculate NSE\n",
        "evaluator(nse, p11, t11)[0], nse(p_large, t_large), nse(p_nan, t_nan), nse(p_neg, t_neg)"
      ],
      "metadata": {
        "colab": {
          "base_uri": "https://localhost:8080/"
        },
        "id": "nK6LAK54RZ-_",
        "outputId": "e4352d7c-dcfb-4377-b144-ee643678c822"
      },
      "execution_count": 39,
      "outputs": [
        {
          "output_type": "execute_result",
          "data": {
            "text/plain": [
              "(-1.0683722517498735, -0.9614489156992236, nan, -0.8286542861386219)"
            ]
          },
          "metadata": {},
          "execution_count": 39
        }
      ]
    },
    {
      "cell_type": "markdown",
      "source": [
        "### KGE"
      ],
      "metadata": {
        "id": "B7qSbVWZOj08"
      }
    },
    {
      "cell_type": "code",
      "source": [
        "from hydroeval import kge\n",
        "\n",
        "# Calculate KGE\n",
        "evaluator(kge, p11, t11)[0].item(), kge(p_large, t_large)[0].item(), kge(p_nan, t_nan)[0], kge(p_neg, t_neg)[0].item()"
      ],
      "metadata": {
        "colab": {
          "base_uri": "https://localhost:8080/"
        },
        "id": "4hYqEmi6IMhW",
        "outputId": "be1177c1-8283-4cd2-f81c-b446cc4a8f3f"
      },
      "execution_count": 40,
      "outputs": [
        {
          "output_type": "execute_result",
          "data": {
            "text/plain": [
              "(0.008970625237195717, 0.038626769079834755, array([nan]), -1.193416946870867)"
            ]
          },
          "metadata": {},
          "execution_count": 40
        }
      ]
    },
    {
      "cell_type": "markdown",
      "source": [
        "### alpha_nse"
      ],
      "metadata": {
        "id": "qCYtZBNikJJ4"
      }
    },
    {
      "cell_type": "code",
      "source": [
        "\n",
        "from neuralhydrology.evaluation.metrics import alpha_nse\n",
        "\n",
        "alpha_nse(xr.DataArray(t11), xr.DataArray(p11)), alpha_nse(xr.DataArray(t_large), xr.DataArray(p_large)), alpha_nse(xr.DataArray(t_nan), xr.DataArray(p_nan)), alpha_nse(xr.DataArray(t_neg), xr.DataArray(p_neg))"
      ],
      "metadata": {
        "colab": {
          "base_uri": "https://localhost:8080/"
        },
        "id": "9H-rAX4KI6wS",
        "outputId": "0e4bd0bc-6782-43f2-a072-90399c7f3be6"
      },
      "execution_count": 41,
      "outputs": [
        {
          "output_type": "execute_result",
          "data": {
            "text/plain": [
              "(1.0235046034233621, 1.0196280911618452, 0.9959736532709084, 1.02998712689571)"
            ]
          },
          "metadata": {},
          "execution_count": 41
        }
      ]
    },
    {
      "cell_type": "markdown",
      "source": [
        "### beta_nse"
      ],
      "metadata": {
        "id": "rbeCajx2kMH9"
      }
    },
    {
      "cell_type": "code",
      "source": [
        "from neuralhydrology.evaluation.metrics import beta_nse\n",
        "\n",
        "beta_nse(xr.DataArray(t11), xr.DataArray(p11)), beta_nse(xr.DataArray(t_large), xr.DataArray(p_large)), beta_nse(xr.DataArray(t_nan), xr.DataArray(p_nan)), beta_nse(xr.DataArray(t_neg), xr.DataArray(p_neg))"
      ],
      "metadata": {
        "colab": {
          "base_uri": "https://localhost:8080/"
        },
        "id": "bJQz9goRKQZq",
        "outputId": "bc3b6e24-7b7f-4824-d550-26e43ea979f2"
      },
      "execution_count": 42,
      "outputs": [
        {
          "output_type": "execute_result",
          "data": {
            "text/plain": [
              "(0.2405519617999516,\n",
              " 0.041925308232251185,\n",
              " 0.28770418762004457,\n",
              " 0.18524934630444692)"
            ]
          },
          "metadata": {},
          "execution_count": 42
        }
      ]
    },
    {
      "cell_type": "markdown",
      "source": [
        "### nse_mod"
      ],
      "metadata": {
        "id": "GQL-4pv8kh4E"
      }
    },
    {
      "cell_type": "code",
      "source": [
        "\n",
        "from HydroErr import nse_mod\n",
        "nse_mod(p11, t11), nse_mod(p_large, t_large), nse_mod(p_nan, t_nan), nse_mod(p_neg, t_neg)"
      ],
      "metadata": {
        "colab": {
          "base_uri": "https://localhost:8080/"
        },
        "id": "CxdO8nG0MLSf",
        "outputId": "2147ee0b-4558-4a4b-a21b-dd356738243f"
      },
      "execution_count": 43,
      "outputs": [
        {
          "output_type": "stream",
          "name": "stderr",
          "text": [
            "/usr/local/lib/python3.10/dist-packages/HydroErr/HydroErr.py:6248: UserWarning: Row(s) [ 5  8  9 11 12 26 27 36 42 59 62 63 65 67 74 79 84 89 98] contained NaN values and the row(s) have been removed (Rows are zero indexed).\n",
            "  warnings.warn(\"Row(s) {} contained NaN values and the row(s) have been \"\n"
          ]
        },
        {
          "output_type": "execute_result",
          "data": {
            "text/plain": [
              "(-0.32879454094431804,\n",
              " -0.3404113246014431,\n",
              " -0.30533623352042705,\n",
              " -0.2510189384046788)"
            ]
          },
          "metadata": {},
          "execution_count": 43
        }
      ]
    },
    {
      "cell_type": "markdown",
      "source": [
        "### relative nse"
      ],
      "metadata": {
        "id": "m8Gqy6XAdl7b"
      }
    },
    {
      "cell_type": "code",
      "source": [
        "from HydroErr import nse_rel\n",
        "\n",
        "nse_rel(p11, t11), nse_rel(p_large, t_large), nse_rel(p_nan, t_nan), nse_rel(p_neg, t_neg)"
      ],
      "metadata": {
        "colab": {
          "base_uri": "https://localhost:8080/"
        },
        "id": "RkPpftIyNSd6",
        "outputId": "77c4821a-f8da-4332-b5ef-72d93de147a7"
      },
      "execution_count": 44,
      "outputs": [
        {
          "output_type": "execute_result",
          "data": {
            "text/plain": [
              "(-517670.8159599439,\n",
              " -212.51788168937344,\n",
              " -957.2667493440044,\n",
              " 0.11784531614883476)"
            ]
          },
          "metadata": {},
          "execution_count": 44
        }
      ]
    },
    {
      "cell_type": "markdown",
      "source": [
        "### nse_bound"
      ],
      "metadata": {
        "id": "Eij5uZzij9k8"
      }
    },
    {
      "cell_type": "code",
      "source": [
        "from hydroeval import nse_c2m\n",
        "\n",
        "nse_c2m(p11, t11), nse_c2m(p_large, t_large), nse_c2m(p_nan, t_nan), nse_c2m(p_neg, t_neg)"
      ],
      "metadata": {
        "colab": {
          "base_uri": "https://localhost:8080/"
        },
        "id": "TnrGQZttNenq",
        "outputId": "35444831-7ec7-46a2-8838-ba87ac607e43"
      },
      "execution_count": 45,
      "outputs": [
        {
          "output_type": "execute_result",
          "data": {
            "text/plain": [
              "(-0.34818860428052284, -0.324654904767188, nan, -0.29295000460088483)"
            ]
          },
          "metadata": {},
          "execution_count": 45
        }
      ]
    },
    {
      "cell_type": "markdown",
      "source": [
        "### kge_bound"
      ],
      "metadata": {
        "id": "GVyIjwhEkUjX"
      }
    },
    {
      "cell_type": "code",
      "source": [
        "\n",
        "from hydroeval import kge_c2m\n",
        "\n",
        "kge_c2m(p11, t11), kge_c2m(p_large, t_large), kge_c2m(p_nan, t_nan), kge_c2m(p_neg, t_neg)"
      ],
      "metadata": {
        "colab": {
          "base_uri": "https://localhost:8080/"
        },
        "id": "T5CruG6yOQKp",
        "outputId": "91d71844-2c00-4c7b-d8aa-f1782bde04c2"
      },
      "execution_count": 46,
      "outputs": [
        {
          "output_type": "execute_result",
          "data": {
            "text/plain": [
              "(array([0.00450552]), array([0.01969374]), array([nan]), array([-0.3737116]))"
            ]
          },
          "metadata": {},
          "execution_count": 46
        }
      ]
    },
    {
      "cell_type": "markdown",
      "source": [
        "### kge_mod"
      ],
      "metadata": {
        "id": "9lfMQDyvdi4i"
      }
    },
    {
      "cell_type": "code",
      "source": [
        "\n",
        "from HydroErr import kge_2012\n",
        "\n",
        "kge_2012(p11, t11), kge_2012(p_large, t_large), kge_2012(p_nan, t_nan), kge_2012(p_neg, t_neg)"
      ],
      "metadata": {
        "colab": {
          "base_uri": "https://localhost:8080/"
        },
        "id": "iXgOR3sPPe5S",
        "outputId": "002b2f20-fc3b-4a32-dd0b-c595d2f49f38"
      },
      "execution_count": 47,
      "outputs": [
        {
          "output_type": "execute_result",
          "data": {
            "text/plain": [
              "(0.004612979178136856,\n",
              " 0.03880057852421015,\n",
              " -0.01881219864144601,\n",
              " -1.9795119132448913)"
            ]
          },
          "metadata": {},
          "execution_count": 47
        }
      ]
    },
    {
      "cell_type": "markdown",
      "source": [
        "### kge_np"
      ],
      "metadata": {
        "id": "45gjOI6xdarK"
      }
    },
    {
      "cell_type": "code",
      "source": [
        "\n",
        "from hydroeval import kgenp\n",
        "\n",
        "evaluator(kgenp, p11, t11)[0], kgenp(p_large, t_large)[0], kgenp(p_nan, t_nan)[0], kgenp(p_neg, t_neg)[0]"
      ],
      "metadata": {
        "colab": {
          "base_uri": "https://localhost:8080/"
        },
        "id": "_pnRQRCjQSMS",
        "outputId": "5ab2f889-2a3c-4f4d-84d6-c478ba09cc4e"
      },
      "execution_count": 48,
      "outputs": [
        {
          "output_type": "execute_result",
          "data": {
            "text/plain": [
              "(array([-0.00671877]), array([0.04099218]), array([nan]), array([-1.25351754]))"
            ]
          },
          "metadata": {},
          "execution_count": 48
        }
      ]
    },
    {
      "cell_type": "markdown",
      "source": [
        "### pbias"
      ],
      "metadata": {
        "id": "qAml1AbMV-5r"
      }
    },
    {
      "cell_type": "code",
      "source": [
        "\n",
        "from hydroeval import pbias\n",
        "\n",
        "evaluator(pbias, p11, t11), pbias(p_large, t_large), pbias(p_nan, t_nan), pbias(p_neg, t_neg)"
      ],
      "metadata": {
        "colab": {
          "base_uri": "https://localhost:8080/"
        },
        "id": "lmB5xdBFRF2x",
        "outputId": "cf60c01c-7ca2-4985-d335-4029b8a51bae"
      },
      "execution_count": 49,
      "outputs": [
        {
          "output_type": "execute_result",
          "data": {
            "text/plain": [
              "(array([-13.21468573]), -2.696935472370653, nan, 201.3011152416357)"
            ]
          },
          "metadata": {},
          "execution_count": 49
        }
      ]
    },
    {
      "cell_type": "code",
      "source": [
        "pbias(p11, t11)"
      ],
      "metadata": {
        "colab": {
          "base_uri": "https://localhost:8080/"
        },
        "id": "HysU9vgE-kAG",
        "outputId": "24d560fd-0357-4ef2-aa52-42e21026654b"
      },
      "execution_count": 50,
      "outputs": [
        {
          "output_type": "execute_result",
          "data": {
            "text/plain": [
              "-13.21468573369753"
            ]
          },
          "metadata": {},
          "execution_count": 50
        }
      ]
    },
    {
      "cell_type": "code",
      "source": [
        "from skill_metrics import bias_percent\n",
        "\n",
        "bias_percent(p11, t11), bias_percent(p_large, t_large), bias_percent(p_nan, t_nan), bias_percent(p_neg, t_neg)"
      ],
      "metadata": {
        "colab": {
          "base_uri": "https://localhost:8080/"
        },
        "id": "VOldMR5eXNLD",
        "outputId": "c83c4aa0-59e4-4c76-c8f3-5d41efc0a1dd"
      },
      "execution_count": 51,
      "outputs": [
        {
          "output_type": "execute_result",
          "data": {
            "text/plain": [
              "(13.214685733697538, 2.6969354723706473, nan, 201.3011152416357)"
            ]
          },
          "metadata": {},
          "execution_count": 51
        }
      ]
    },
    {
      "cell_type": "markdown",
      "source": [
        "### bias"
      ],
      "metadata": {
        "id": "HeZ9kXa9Wl25"
      }
    },
    {
      "cell_type": "code",
      "source": [
        "from skill_metrics import bias\n",
        "\n",
        "bias(p11, t11), bias(p_large, t_large), bias(p_nan, t_nan), bias(p_neg, t_neg)"
      ],
      "metadata": {
        "colab": {
          "base_uri": "https://localhost:8080/"
        },
        "id": "OeNXb3BuVpIB",
        "outputId": "6a03b028-e723-425b-d93d-3e6c3cda0330"
      },
      "execution_count": 52,
      "outputs": [
        {
          "output_type": "execute_result",
          "data": {
            "text/plain": [
              "(0.06738857779448115, 125245.40438753366, nan, 10.83)"
            ]
          },
          "metadata": {},
          "execution_count": 52
        }
      ]
    },
    {
      "cell_type": "markdown",
      "source": [
        "### gmae"
      ],
      "metadata": {
        "id": "hiiBDAhbYJPm"
      }
    },
    {
      "cell_type": "code",
      "source": [
        "\n",
        "# https://gist.github.com/bshishov/5dc237f59f019b26145648e2124ca1c9#file-forecasting_metrics-py-L102\n",
        "\n",
        "def gmae(actual: np.ndarray, predicted: np.ndarray):\n",
        "    \"\"\" Geometric Mean Absolute Error \"\"\"\n",
        "    return _geometric_mean(np.abs(_error(actual, predicted)))\n",
        "\n",
        "gmae(t11, p11), gmae(t_large, p_large), gmae(t_nan, p_nan), gmae(t_neg, p_neg)"
      ],
      "metadata": {
        "colab": {
          "base_uri": "https://localhost:8080/"
        },
        "id": "JkPyt3A2Xlvo",
        "outputId": "90b16a4b-54c1-435a-aebb-94e2e6e95f86"
      },
      "execution_count": 53,
      "outputs": [
        {
          "output_type": "stream",
          "name": "stderr",
          "text": [
            "<ipython-input-12-26b8d5991418>:66: RuntimeWarning: divide by zero encountered in log\n",
            "  log_a = np.log(a)\n"
          ]
        },
        {
          "output_type": "execute_result",
          "data": {
            "text/plain": [
              "(0.19423992928498718, 2449891.1923250267, nan, 0.0)"
            ]
          },
          "metadata": {},
          "execution_count": 53
        }
      ]
    },
    {
      "cell_type": "markdown",
      "source": [
        "### mase"
      ],
      "metadata": {
        "id": "g_3Sr6CNYKdK"
      }
    },
    {
      "cell_type": "code",
      "source": [
        "\n",
        "# https://gist.github.com/bshishov/5dc237f59f019b26145648e2124ca1c9#file-forecasting_metrics-py-L168\n",
        "\n",
        "def mase(actual: np.ndarray, predicted: np.ndarray, seasonality: int = 1):\n",
        "    \"\"\"\n",
        "    Mean Absolute Scaled Error\n",
        "    Baseline (benchmark) is computed with naive forecasting (shifted by @seasonality)\n",
        "    \"\"\"\n",
        "    return mae(actual, predicted) / mae(actual[seasonality:], _naive_forecasting(actual, seasonality))\n",
        "\n",
        "mase(t11, p11), mase(t_large, p_large), mase(t_nan, p_nan), mase(t_neg, p_neg)"
      ],
      "metadata": {
        "colab": {
          "base_uri": "https://localhost:8080/"
        },
        "id": "aEI-kET2XsA6",
        "outputId": "c456643d-5950-4989-8953-e23f93d56c45"
      },
      "execution_count": 54,
      "outputs": [
        {
          "output_type": "execute_result",
          "data": {
            "text/plain": [
              "(0.9609397361653512, 1.0143742396253592, nan, 0.8253916139240506)"
            ]
          },
          "metadata": {},
          "execution_count": 54
        }
      ]
    },
    {
      "cell_type": "markdown",
      "source": [
        "### fdc_fhv"
      ],
      "metadata": {
        "id": "GH3G2WHXZdIx"
      }
    },
    {
      "cell_type": "code",
      "source": [
        "from neuralhydrology.evaluation.metrics import fdc_fhv\n",
        "\n",
        "fdc_fhv(xr.DataArray(t11), xr.DataArray(p11)), fdc_fhv(xr.DataArray(t_large), xr.DataArray(p_large)), fdc_fhv(xr.DataArray(t_nan), xr.DataArray(p_nan)), fdc_fhv(xr.DataArray(t_neg), xr.DataArray(p_neg))"
      ],
      "metadata": {
        "colab": {
          "base_uri": "https://localhost:8080/"
        },
        "id": "O61RPIq7Zkah",
        "outputId": "1f7794de-1b0e-4415-f733-00775a793090"
      },
      "execution_count": 55,
      "outputs": [
        {
          "output_type": "execute_result",
          "data": {
            "text/plain": [
              "(1.5933766138626262, -2.2166403701887254, 1.5933766138626262, 0.0)"
            ]
          },
          "metadata": {},
          "execution_count": 55
        }
      ]
    },
    {
      "cell_type": "markdown",
      "source": [
        "### fdc_flv"
      ],
      "metadata": {
        "id": "YjwP8Il-Z6vn"
      }
    },
    {
      "cell_type": "code",
      "source": [
        "from neuralhydrology.evaluation.metrics import fdc_flv\n",
        "\n",
        "fdc_flv(xr.DataArray(t11), xr.DataArray(p11)), fdc_flv(xr.DataArray(t_large), xr.DataArray(p_large)), fdc_flv(xr.DataArray(t_nan), xr.DataArray(p_nan)), fdc_flv(xr.DataArray(t_neg), xr.DataArray(p_neg))"
      ],
      "metadata": {
        "colab": {
          "base_uri": "https://localhost:8080/"
        },
        "id": "y3G8MtF1Z9pJ",
        "outputId": "d7a467f3-9020-45c6-d345-74e0068f223e"
      },
      "execution_count": 56,
      "outputs": [
        {
          "output_type": "stream",
          "name": "stderr",
          "text": [
            "/usr/local/lib/python3.10/dist-packages/neuralhydrology/evaluation/metrics.py:526: RuntimeWarning: invalid value encountered in log\n",
            "  obs = np.log(obs)\n",
            "/usr/local/lib/python3.10/dist-packages/neuralhydrology/evaluation/metrics.py:527: RuntimeWarning: divide by zero encountered in log\n",
            "  sim = np.log(sim)\n",
            "/usr/local/lib/python3.10/dist-packages/neuralhydrology/evaluation/metrics.py:530: RuntimeWarning: invalid value encountered in subtract\n",
            "  qsl = np.sum(sim - sim.min())\n"
          ]
        },
        {
          "output_type": "execute_result",
          "data": {
            "text/plain": [
              "(32.64817835760714, -113.29167126784779, -35.650939085951364, nan)"
            ]
          },
          "metadata": {},
          "execution_count": 56
        }
      ]
    },
    {
      "cell_type": "markdown",
      "source": [
        "### maape"
      ],
      "metadata": {
        "id": "Ol_ibnZsbcT5"
      }
    },
    {
      "cell_type": "code",
      "source": [
        "# https://gist.github.com/bshishov/5dc237f59f019b26145648e2124ca1c9#file-forecasting_metrics-py-L159\n",
        "\n",
        "def maape(actual: np.ndarray, predicted: np.ndarray):\n",
        "    \"\"\"\n",
        "    Mean Arctangent Absolute Percentage Error\n",
        "    Note: result is NOT multiplied by 100\n",
        "    \"\"\"\n",
        "    return np.mean(np.arctan(np.abs((actual - predicted) / (actual + EPSILON))))\n",
        "\n",
        "maape(t11, p11), maape(t_large, p_large), maape(t_nan, p_nan), maape(t_neg, p_neg)"
      ],
      "metadata": {
        "id": "ne0aVv9cbbfE",
        "colab": {
          "base_uri": "https://localhost:8080/"
        },
        "outputId": "84f7b066-d94b-4bd2-b111-93eaa053290f"
      },
      "execution_count": 57,
      "outputs": [
        {
          "output_type": "execute_result",
          "data": {
            "text/plain": [
              "(0.5828454707567975, 0.6788115353385473, nan, 0.8399216450191015)"
            ]
          },
          "metadata": {},
          "execution_count": 57
        }
      ]
    },
    {
      "cell_type": "markdown",
      "source": [
        "### lm_index"
      ],
      "metadata": {
        "id": "xkxoDmOTb4Zf"
      }
    },
    {
      "cell_type": "code",
      "source": [
        "from HydroErr import lm_index\n",
        "\n",
        "lm_index(p11, t11), lm_index(p_large, t_large), lm_index(p_nan, t_nan), lm_index(p_neg, t_neg)"
      ],
      "metadata": {
        "colab": {
          "base_uri": "https://localhost:8080/"
        },
        "id": "DXdI61G3Z_ba",
        "outputId": "cbb553a3-49a5-4ec9-c8f4-8076ba76386c"
      },
      "execution_count": 58,
      "outputs": [
        {
          "output_type": "stream",
          "name": "stderr",
          "text": [
            "/usr/local/lib/python3.10/dist-packages/HydroErr/HydroErr.py:6248: UserWarning: Row(s) [ 5  8  9 11 12 26 27 36 42 59 62 63 65 67 74 79 84 89 98] contained NaN values and the row(s) have been removed (Rows are zero indexed).\n",
            "  warnings.warn(\"Row(s) {} contained NaN values and the row(s) have been \"\n"
          ]
        },
        {
          "output_type": "execute_result",
          "data": {
            "text/plain": [
              "(-0.32879454094431804,\n",
              " -0.3404113246014431,\n",
              " -0.30533623352042705,\n",
              " -0.2510189384046788)"
            ]
          },
          "metadata": {},
          "execution_count": 58
        }
      ]
    },
    {
      "cell_type": "markdown",
      "source": [
        "### kgenp_bound"
      ],
      "metadata": {
        "id": "IQuDL-69cogG"
      }
    },
    {
      "cell_type": "code",
      "source": [
        "from hydroeval import kgenp_c2m"
      ],
      "metadata": {
        "id": "wqONls7YcD4I"
      },
      "execution_count": 59,
      "outputs": []
    },
    {
      "cell_type": "code",
      "source": [
        "evaluator(kgenp_c2m, p11, t11), kgenp_c2m(p_large, t_large), kgenp_c2m(p_nan, t_nan), kgenp_c2m(p_neg, t_neg)"
      ],
      "metadata": {
        "colab": {
          "base_uri": "https://localhost:8080/"
        },
        "id": "QsOTgn51cq9q",
        "outputId": "16728455-916b-4d48-c019-850b24e3c336"
      },
      "execution_count": 60,
      "outputs": [
        {
          "output_type": "execute_result",
          "data": {
            "text/plain": [
              "(array([-0.00334814]), array([0.02092497]), array([nan]), array([-0.38528071]))"
            ]
          },
          "metadata": {},
          "execution_count": 60
        }
      ]
    },
    {
      "cell_type": "markdown",
      "source": [
        "### kgeprime_c2m"
      ],
      "metadata": {
        "id": "uXIlEva_dBo_"
      }
    },
    {
      "cell_type": "code",
      "source": [
        "from hydroeval import kgeprime_c2m"
      ],
      "metadata": {
        "id": "bIkCrhKldD3C"
      },
      "execution_count": 61,
      "outputs": []
    },
    {
      "cell_type": "code",
      "source": [
        "evaluator(kgeprime_c2m, p11, t11), kgeprime_c2m(p_large, t_large), kgeprime_c2m(p_nan, t_nan), kgeprime_c2m(p_neg, t_neg)"
      ],
      "metadata": {
        "colab": {
          "base_uri": "https://localhost:8080/"
        },
        "id": "guAjd31ldhf5",
        "outputId": "ec274853-a052-439c-f9fe-1cea64b88b9d"
      },
      "execution_count": 62,
      "outputs": [
        {
          "output_type": "execute_result",
          "data": {
            "text/plain": [
              "(array([0.00231182]), array([0.01978411]), array([nan]), array([-0.4974258]))"
            ]
          },
          "metadata": {},
          "execution_count": 62
        }
      ]
    },
    {
      "cell_type": "markdown",
      "source": [
        "### mle"
      ],
      "metadata": {
        "id": "hiTfFYjceEfI"
      }
    },
    {
      "cell_type": "code",
      "source": [
        "from HydroErr import mle"
      ],
      "metadata": {
        "id": "2ZT3M_P4eDr7"
      },
      "execution_count": 63,
      "outputs": []
    },
    {
      "cell_type": "code",
      "source": [
        "mle(p11, t11), mle(p_large, t_large), mle(p_nan, t_nan), mle(p_neg, t_neg)"
      ],
      "metadata": {
        "id": "EdLIKH6jdjhR",
        "colab": {
          "base_uri": "https://localhost:8080/"
        },
        "outputId": "db044a88-ce75-420a-955b-c942b8f29f91"
      },
      "execution_count": 64,
      "outputs": [
        {
          "output_type": "stream",
          "name": "stderr",
          "text": [
            "/usr/local/lib/python3.10/dist-packages/HydroErr/HydroErr.py:346: RuntimeWarning: invalid value encountered in log1p\n",
            "  sim_log = np.log1p(simulated_array)\n",
            "/usr/local/lib/python3.10/dist-packages/HydroErr/HydroErr.py:347: RuntimeWarning: divide by zero encountered in log1p\n",
            "  obs_log = np.log1p(observed_array)\n",
            "/usr/local/lib/python3.10/dist-packages/HydroErr/HydroErr.py:347: RuntimeWarning: invalid value encountered in log1p\n",
            "  obs_log = np.log1p(observed_array)\n"
          ]
        },
        {
          "output_type": "execute_result",
          "data": {
            "text/plain": [
              "(0.0438958324374804, -0.03628518397994352, 0.0549303833066667, nan)"
            ]
          },
          "metadata": {},
          "execution_count": 64
        }
      ]
    },
    {
      "cell_type": "markdown",
      "source": [
        "### modified agreement of index"
      ],
      "metadata": {
        "id": "aF7NVQ-jedtp"
      }
    },
    {
      "cell_type": "code",
      "source": [
        "from HydroErr import dmod"
      ],
      "metadata": {
        "id": "29V17CSeeKFZ"
      },
      "execution_count": 65,
      "outputs": []
    },
    {
      "cell_type": "code",
      "source": [
        "dmod(p11, t11), dmod(p_large, t_large), dmod(p_nan, t_nan), dmod(p_neg, t_neg)"
      ],
      "metadata": {
        "id": "fVNA5wwYecDB",
        "colab": {
          "base_uri": "https://localhost:8080/"
        },
        "outputId": "7275d98c-b5cf-47c9-b149-602a71caa8ba"
      },
      "execution_count": 66,
      "outputs": [
        {
          "output_type": "execute_result",
          "data": {
            "text/plain": [
              "(0.36018092524466827,\n",
              " 0.3388950675310263,\n",
              " 0.35955299749868597,\n",
              " 0.40008576980295707)"
            ]
          },
          "metadata": {},
          "execution_count": 66
        }
      ]
    },
    {
      "cell_type": "markdown",
      "source": [
        "### mpe"
      ],
      "metadata": {
        "id": "IxeOXw9KewY3"
      }
    },
    {
      "cell_type": "code",
      "source": [
        "# https://gist.github.com/bshishov/5dc237f59f019b26145648e2124ca1c9#file-forecasting_metrics-py-L112\n",
        "\n",
        "def mpe(actual: np.ndarray, predicted: np.ndarray):\n",
        "    \"\"\" Mean Percentage Error \"\"\"\n",
        "    return np.mean(_percentage_error(actual, predicted))"
      ],
      "metadata": {
        "id": "l5mftGX7edEy"
      },
      "execution_count": 67,
      "outputs": []
    },
    {
      "cell_type": "code",
      "source": [
        "mpe(t11, p11), mpe(t_large, p_large), mpe(t_nan, p_nan), mpe(t_neg, p_neg)"
      ],
      "metadata": {
        "id": "0U2aPCluex_R",
        "colab": {
          "base_uri": "https://localhost:8080/"
        },
        "outputId": "461b76e8-5c53-43fe-a2ad-1fdf8126c00d"
      },
      "execution_count": 68,
      "outputs": [
        {
          "output_type": "execute_result",
          "data": {
            "text/plain": [
              "(-42.20843064537674, -2.2416867347068568, nan, -0.5080812552030656)"
            ]
          },
          "metadata": {},
          "execution_count": 68
        }
      ]
    },
    {
      "cell_type": "markdown",
      "source": [
        "### mrae"
      ],
      "metadata": {
        "id": "yNPJO1s3fBbj"
      }
    },
    {
      "cell_type": "code",
      "source": [
        "# https://gist.github.com/bshishov/5dc237f59f019b26145648e2124ca1c9#file-forecasting_metrics-py-L233\n",
        "\n",
        "def mrae(actual: np.ndarray, predicted: np.ndarray, benchmark: np.ndarray = None):\n",
        "    \"\"\" Mean Relative Absolute Error \"\"\"\n",
        "    return np.mean(np.abs(_relative_error(actual, predicted, benchmark)))\n",
        "\n",
        "mrae(t11, p11), mrae(t_large, p_large), mrae(t_nan, p_nan), mrae(t_neg, p_neg)"
      ],
      "metadata": {
        "id": "SiFgWoEWezO5",
        "colab": {
          "base_uri": "https://localhost:8080/"
        },
        "outputId": "0d32e2a2-1187-41b2-89b5-397039e54149"
      },
      "execution_count": 69,
      "outputs": [
        {
          "output_type": "execute_result",
          "data": {
            "text/plain": [
              "(2.5711621568850163, 17.10021183277437, nan, 1.6932857266200108)"
            ]
          },
          "metadata": {},
          "execution_count": 69
        }
      ]
    },
    {
      "cell_type": "markdown",
      "source": [
        "### nrmse"
      ],
      "metadata": {
        "id": "mFzNpcYufPIB"
      }
    },
    {
      "cell_type": "code",
      "source": [
        "# https://gist.github.com/bshishov/5dc237f59f019b26145648e2124ca1c9#file-forecasting_metrics-py-L81\n",
        "\n",
        "def nrmse(actual: np.ndarray, predicted: np.ndarray):\n",
        "    \"\"\" Normalized Root Mean Squared Error \"\"\"\n",
        "    return rmse(actual, predicted) / (actual.max() - actual.min())\n",
        "\n",
        "nrmse(t11, p11), nrmse(t_large, p_large), nrmse(t_nan, p_nan), nrmse(t_neg, p_neg)"
      ],
      "metadata": {
        "id": "PMBRWKArfDdh",
        "colab": {
          "base_uri": "https://localhost:8080/"
        },
        "outputId": "d50340c5-6723-4110-dd58-690ad3d50d7f"
      },
      "execution_count": 70,
      "outputs": [
        {
          "output_type": "execute_result",
          "data": {
            "text/plain": [
              "(0.4081874143525102, 0.4236625368431997, nan, 0.4033494835923339)"
            ]
          },
          "metadata": {},
          "execution_count": 70
        }
      ]
    },
    {
      "cell_type": "markdown",
      "source": [
        "### nrmse_ipercentile"
      ],
      "metadata": {
        "id": "K_NEN1P0gGu3"
      }
    },
    {
      "cell_type": "code",
      "source": [
        "from HydroErr import nrmse_iqr\n",
        "\n",
        "nrmse_iqr(p11, t11), nrmse_iqr(p_large, t_large), nrmse_iqr(p_nan, t_nan), nrmse_iqr(p_neg, t_neg)"
      ],
      "metadata": {
        "id": "lYbkRdzQfRMJ",
        "colab": {
          "base_uri": "https://localhost:8080/"
        },
        "outputId": "4aa9bf02-6221-4b3d-b3a6-d0c18fd92ae5"
      },
      "execution_count": 71,
      "outputs": [
        {
          "output_type": "execute_result",
          "data": {
            "text/plain": [
              "(0.8187123709758822,\n",
              " 0.7724872344273039,\n",
              " 0.7918933678745431,\n",
              " 0.7675388231465771)"
            ]
          },
          "metadata": {},
          "execution_count": 71
        }
      ]
    },
    {
      "cell_type": "markdown",
      "source": [
        "### nrmse_mean"
      ],
      "metadata": {
        "id": "mrgXkctAgNZU"
      }
    },
    {
      "cell_type": "code",
      "source": [
        "from HydroErr import nrmse_mean\n",
        "\n",
        "nrmse_mean(p11, t11), nrmse_mean(p_large, t_large), nrmse_mean(p_nan, t_nan), nrmse_mean(p_neg, t_neg)"
      ],
      "metadata": {
        "id": "jf8M2hoEgAwy",
        "colab": {
          "base_uri": "https://localhost:8080/"
        },
        "outputId": "e441e5ec-ecdf-48cc-a373-7dbbc8c856dd"
      },
      "execution_count": 72,
      "outputs": [
        {
          "output_type": "execute_result",
          "data": {
            "text/plain": [
              "(0.790064026354788,\n",
              " 0.9009128723588501,\n",
              " 0.8193408657286905,\n",
              " -14.694516502620342)"
            ]
          },
          "metadata": {},
          "execution_count": 72
        }
      ]
    },
    {
      "cell_type": "markdown",
      "source": [
        "### acc"
      ],
      "metadata": {
        "id": "iQRYUiTAgwiU"
      }
    },
    {
      "cell_type": "code",
      "source": [
        "from HydroErr import acc\n",
        "\n",
        "acc(p11, t11), acc(p_large, t_large), acc(p_nan, t_nan), acc(p_neg, t_neg)"
      ],
      "metadata": {
        "id": "ZA7ZBWtVgQEW",
        "colab": {
          "base_uri": "https://localhost:8080/"
        },
        "outputId": "e74b87ff-c635-468a-e8da-3cb120071497"
      },
      "execution_count": 73,
      "outputs": [
        {
          "output_type": "execute_result",
          "data": {
            "text/plain": [
              "(0.0179208383645756,\n",
              " 0.038813542968754375,\n",
              " 0.0048403609085283655,\n",
              " 0.12809439248837096)"
            ]
          },
          "metadata": {},
          "execution_count": 73
        }
      ]
    },
    {
      "cell_type": "markdown",
      "source": [
        "### ve"
      ],
      "metadata": {
        "id": "7YotE-TgiVSJ"
      }
    },
    {
      "cell_type": "code",
      "source": [
        "from HydroErr import ve\n",
        "\n",
        "ve(p11, t11), ve(p_large, t_large), ve(p_nan, t_nan), ve(p_neg, t_neg)"
      ],
      "metadata": {
        "id": "CplyykoYgzYD",
        "colab": {
          "base_uri": "https://localhost:8080/"
        },
        "outputId": "8c3028aa-c8b2-4179-ba46-0fef52c7ccb9"
      },
      "execution_count": 74,
      "outputs": [
        {
          "output_type": "execute_result",
          "data": {
            "text/plain": [
              "(0.3794625949621073, 0.2493891984559775, 0.3563569652466473, 12.75278810408922)"
            ]
          },
          "metadata": {},
          "execution_count": 74
        }
      ]
    },
    {
      "cell_type": "markdown",
      "source": [
        "### watt_m"
      ],
      "metadata": {
        "id": "b9b62Zbqjd7_"
      }
    },
    {
      "cell_type": "code",
      "source": [
        "from HydroErr import watt_m\n",
        "\n",
        "watt_m(p11, t11), watt_m(p_large, t_large), watt_m(p_nan, t_nan), watt_m(p_neg, t_neg)"
      ],
      "metadata": {
        "id": "KLmMy0CZiMNA",
        "colab": {
          "base_uri": "https://localhost:8080/"
        },
        "outputId": "50fe2127-8215-4d10-e58f-4b5571e180eb"
      },
      "execution_count": 75,
      "outputs": [
        {
          "output_type": "execute_result",
          "data": {
            "text/plain": [
              "(0.017290316806567577,\n",
              " 0.03105683026117264,\n",
              " 0.010510101645599523,\n",
              " 0.08672078755135931)"
            ]
          },
          "metadata": {},
          "execution_count": 75
        }
      ]
    },
    {
      "cell_type": "markdown",
      "source": [
        "### skill score murphy"
      ],
      "metadata": {
        "id": "PYddFyl3jU4E"
      }
    },
    {
      "cell_type": "code",
      "source": [
        "from skill_metrics import skill_score_murphy\n",
        "\n",
        "skill_score_murphy(p11, t11), skill_score_murphy(p_large, t_large), skill_score_murphy(p_nan, t_nan), skill_score_murphy(p_neg, t_neg)"
      ],
      "metadata": {
        "id": "OVvFMI85ijT6",
        "colab": {
          "base_uri": "https://localhost:8080/"
        },
        "outputId": "1d3557a4-ae64-4d27-d35e-366ab0a5747d"
      },
      "execution_count": 76,
      "outputs": [
        {
          "output_type": "execute_result",
          "data": {
            "text/plain": [
              "(-1.0476885292323743, -0.9418344265422312, nan, -0.8103677432772358)"
            ]
          },
          "metadata": {},
          "execution_count": 76
        }
      ]
    },
    {
      "cell_type": "markdown",
      "source": [
        "### sid"
      ],
      "metadata": {
        "id": "TKnpszS4jokb"
      }
    },
    {
      "cell_type": "code",
      "source": [
        "from HydroErr import sid\n",
        "\n",
        "sid(p11, t11), sid(p_large, t_large), sid(p_nan, t_nan), sid(p_neg, t_neg)"
      ],
      "metadata": {
        "id": "35xlYf8_jZAB",
        "colab": {
          "base_uri": "https://localhost:8080/"
        },
        "outputId": "bfbb66e6-4af7-42b1-86a8-cd0a78566def"
      },
      "execution_count": 77,
      "outputs": [
        {
          "output_type": "stream",
          "name": "stderr",
          "text": [
            "/usr/local/lib/python3.10/dist-packages/HydroErr/HydroErr.py:3768: RuntimeWarning: invalid value encountered in log10\n",
            "  second1 = np.log10(observed_array) - np.log10(np.mean(observed_array))\n",
            "/usr/local/lib/python3.10/dist-packages/HydroErr/HydroErr.py:3769: RuntimeWarning: invalid value encountered in log10\n",
            "  second2 = np.log10(simulated_array) - np.log10(np.mean(simulated_array))\n"
          ]
        },
        {
          "output_type": "execute_result",
          "data": {
            "text/plain": [
              "(43.71192101756139, 51.90130475363692, 34.09217843319721, nan)"
            ]
          },
          "metadata": {},
          "execution_count": 77
        }
      ]
    },
    {
      "cell_type": "markdown",
      "source": [
        "### smdape"
      ],
      "metadata": {
        "id": "bCu8ccflka7Y"
      }
    },
    {
      "cell_type": "code",
      "source": [
        "# https://gist.github.com/bshishov/5dc237f59f019b26145648e2124ca1c9#file-forecasting_metrics-py-L150\n",
        "\n",
        "def smdape(actual: np.ndarray, predicted: np.ndarray):\n",
        "    \"\"\"\n",
        "    Symmetric Median Absolute Percentage Error\n",
        "    Note: result is NOT multiplied by 100\n",
        "    \"\"\"\n",
        "    return np.median(2.0 * np.abs(actual - predicted) / ((np.abs(actual) + np.abs(predicted)) + EPSILON))\n",
        "\n",
        "smdape(t11, p11), smdape(t_large, p_large), smdape(t_nan, p_nan), smdape(t_neg, p_neg)"
      ],
      "metadata": {
        "id": "nJfZxjerjrRC",
        "colab": {
          "base_uri": "https://localhost:8080/"
        },
        "outputId": "4682853c-48e7-42df-cfc5-16e7674228a9"
      },
      "execution_count": 78,
      "outputs": [
        {
          "output_type": "execute_result",
          "data": {
            "text/plain": [
              "(0.5999121382638821, 0.7801452772689506, nan, 1.4883449883428177)"
            ]
          },
          "metadata": {},
          "execution_count": 78
        }
      ]
    },
    {
      "cell_type": "markdown",
      "source": [
        "### smape"
      ],
      "metadata": {
        "id": "7jcmPOiek6SQ"
      }
    },
    {
      "cell_type": "code",
      "source": [
        "from HydroErr import smape2\n",
        "\n",
        "smape2(p11, t11), smape2(p_large, t_large), smape2(p_nan, t_nan), smape2(p_neg, t_neg)"
      ],
      "metadata": {
        "id": "L5kd4S1rkeGh",
        "colab": {
          "base_uri": "https://localhost:8080/"
        },
        "outputId": "c6997972-d5dd-4418-cecc-053729ad6b61"
      },
      "execution_count": 79,
      "outputs": [
        {
          "output_type": "execute_result",
          "data": {
            "text/plain": [
              "(70.28826490215243, 87.28058345172697, 71.12256546064978, 425.5674491975244)"
            ]
          },
          "metadata": {},
          "execution_count": 79
        }
      ]
    },
    {
      "cell_type": "markdown",
      "source": [
        "### sc"
      ],
      "metadata": {
        "id": "I_k2voGymyrB"
      }
    },
    {
      "cell_type": "code",
      "source": [
        "from HydroErr import sc\n",
        "\n",
        "sc(p11, t11), sc(p_large, t_large), sc(p_nan, t_nan), sc(p_neg, t_neg)"
      ],
      "metadata": {
        "id": "thY9ZVtakrRw",
        "colab": {
          "base_uri": "https://localhost:8080/"
        },
        "outputId": "fc92f18a-7959-494f-d6cd-61d92c00493e"
      },
      "execution_count": 80,
      "outputs": [
        {
          "output_type": "execute_result",
          "data": {
            "text/plain": [
              "(1.5526934811208075, 1.5315806771993858, 1.5658954417562418, 1.441044282467568)"
            ]
          },
          "metadata": {},
          "execution_count": 80
        }
      ]
    },
    {
      "cell_type": "markdown",
      "source": [
        "### sa"
      ],
      "metadata": {
        "id": "KD27a3IHm_fz"
      }
    },
    {
      "cell_type": "code",
      "source": [
        "from HydroErr import sa\n",
        "\n",
        "sa(p11, t11), sa(p_large, t_large), sa(p_nan, t_nan), sa(p_neg, t_neg)"
      ],
      "metadata": {
        "id": "ZW7cMb4Mm0_R",
        "colab": {
          "base_uri": "https://localhost:8080/"
        },
        "outputId": "66a4b71f-7efb-4ca7-ec35-f3dd1141e1e7"
      },
      "execution_count": 81,
      "outputs": [
        {
          "output_type": "execute_result",
          "data": {
            "text/plain": [
              "(0.6618474080345743, 0.7666906960815938, 0.6732143252992395, 1.450447074951836)"
            ]
          },
          "metadata": {},
          "execution_count": 81
        }
      ]
    },
    {
      "cell_type": "markdown",
      "source": [
        "### rmspe"
      ],
      "metadata": {
        "id": "qVris_Lenc54"
      }
    },
    {
      "cell_type": "code",
      "source": [
        "# https://gist.github.com/bshishov/5dc237f59f019b26145648e2124ca1c9#file-forecasting_metrics-py-L189\n",
        "\n",
        "def rmspe(actual: np.ndarray, predicted: np.ndarray):\n",
        "    \"\"\"\n",
        "    Root Mean Squared Percentage Error\n",
        "    Note: result is NOT multiplied by 100\n",
        "    \"\"\"\n",
        "    return np.sqrt(np.mean(np.square(_percentage_error(actual, predicted))))\n",
        "\n",
        "rmspe(t11, p11), rmspe(t_large, p_large), rmspe(t_nan, p_nan), rmspe(t_neg, p_neg)"
      ],
      "metadata": {
        "id": "Zkq43capnBoq",
        "colab": {
          "base_uri": "https://localhost:8080/"
        },
        "outputId": "79c7a18f-af65-4eb9-9113-1cf56298f1ec"
      },
      "execution_count": 82,
      "outputs": [
        {
          "output_type": "execute_result",
          "data": {
            "text/plain": [
              "(395.25283254969173, 9.399644256990216, nan, 10.206148170735952)"
            ]
          },
          "metadata": {},
          "execution_count": 82
        }
      ]
    },
    {
      "cell_type": "markdown",
      "source": [
        "### relative agreement index"
      ],
      "metadata": {
        "id": "1nxcPbtzoOON"
      }
    },
    {
      "cell_type": "code",
      "source": [
        "from HydroErr import drel\n",
        "\n",
        "drel(p11, t11), drel(p_large, t_large), drel(p_nan, t_nan), drel(p_neg, t_neg)"
      ],
      "metadata": {
        "id": "DxbfFs4dne8Z",
        "colab": {
          "base_uri": "https://localhost:8080/"
        },
        "outputId": "42396936-5d0e-44f8-e197-663a32d6cdfb"
      },
      "execution_count": 83,
      "outputs": [
        {
          "output_type": "execute_result",
          "data": {
            "text/plain": [
              "(-139396.49261170527,\n",
              " -59.968928280632056,\n",
              " -257.2099156747244,\n",
              " 0.7644847163377675)"
            ]
          },
          "metadata": {},
          "execution_count": 83
        }
      ]
    },
    {
      "cell_type": "markdown",
      "source": [
        "### refined agreement index"
      ],
      "metadata": {
        "id": "QI7fu95NojD-"
      }
    },
    {
      "cell_type": "code",
      "source": [
        "from HydroErr import dr\n",
        "\n",
        "dr(p11, t11), dr(p_large, t_large), dr(p_nan, t_nan), dr(p_neg, t_neg)"
      ],
      "metadata": {
        "id": "iExacSqMoSn1",
        "colab": {
          "base_uri": "https://localhost:8080/"
        },
        "outputId": "dd4c93bf-2867-49a7-c841-84f6f5462df0"
      },
      "execution_count": 84,
      "outputs": [
        {
          "output_type": "execute_result",
          "data": {
            "text/plain": [
              "(0.335602729527841,\n",
              " 0.32979433769927846,\n",
              " 0.3473318832397865,\n",
              " 0.3744905307976606)"
            ]
          },
          "metadata": {},
          "execution_count": 84
        }
      ]
    },
    {
      "cell_type": "markdown",
      "source": [
        "### rmdspe"
      ],
      "metadata": {
        "id": "8vHlMiktpFxO"
      }
    },
    {
      "cell_type": "code",
      "source": [
        "# https://gist.github.com/bshishov/5dc237f59f019b26145648e2124ca1c9#file-forecasting_metrics-py-L198\n",
        "\n",
        "def rmdspe(actual: np.ndarray, predicted: np.ndarray):\n",
        "    \"\"\"\n",
        "    Root Median Squared Percentage Error\n",
        "    Note: result is NOT multiplied by 100\n",
        "    \"\"\"\n",
        "    return np.sqrt(np.median(np.square(_percentage_error(actual, predicted))))\n",
        "\n",
        "rmdspe(t11, p11), rmdspe(t_large, p_large), rmdspe(t_nan, p_nan), rmdspe(t_neg, p_neg)"
      ],
      "metadata": {
        "id": "bnH_VV2coklf",
        "colab": {
          "base_uri": "https://localhost:8080/"
        },
        "outputId": "89767770-ea78-4e64-935f-8754469eaad3"
      },
      "execution_count": 85,
      "outputs": [
        {
          "output_type": "execute_result",
          "data": {
            "text/plain": [
              "(0.5133222853161394, 0.7567716892334615, nan, 1.4614383848209451)"
            ]
          },
          "metadata": {},
          "execution_count": 85
        }
      ]
    },
    {
      "cell_type": "markdown",
      "source": [
        "### normalized ape"
      ],
      "metadata": {
        "id": "Bcjsqk-pph5f"
      }
    },
    {
      "cell_type": "code",
      "source": [
        "def mape(actual: np.ndarray, predicted: np.ndarray):\n",
        "    \"\"\"\n",
        "    Mean Absolute Percentage Error\n",
        "    Properties:\n",
        "        + Easy to interpret\n",
        "        + Scale independent\n",
        "        - Biased, not symmetric\n",
        "        - Undefined when actual[t] == 0\n",
        "    Note: result is NOT multiplied by 100\n",
        "    \"\"\"\n",
        "    return np.mean(np.abs(_percentage_error(actual, predicted)))\n",
        "\n",
        "# https://gist.github.com/bshishov/5dc237f59f019b26145648e2124ca1c9#file-forecasting_metrics-py-L183\n",
        "def std_ape(actual: np.ndarray, predicted: np.ndarray):\n",
        "    \"\"\" Normalized Absolute Percentage Error \"\"\"\n",
        "    __mape = mape(actual, predicted)\n",
        "    return np.sqrt(np.sum(np.square(_percentage_error(actual, predicted) - __mape))/(len(actual) - 1))\n",
        "\n",
        "std_ape(t11, p11), std_ape(t_large, p_large), std_ape(t_nan, p_nan), std_ape(t_neg, p_neg)"
      ],
      "metadata": {
        "id": "eeM2g22tphMC",
        "colab": {
          "base_uri": "https://localhost:8080/"
        },
        "outputId": "3a177374-6bd3-42a6-81cc-179235587dab"
      },
      "execution_count": 86,
      "outputs": [
        {
          "output_type": "execute_result",
          "data": {
            "text/plain": [
              "(404.0632278812062, 10.468496670954119, nan, 11.097150018412195)"
            ]
          },
          "metadata": {},
          "execution_count": 86
        }
      ]
    },
    {
      "cell_type": "markdown",
      "source": [
        "### normalized ae"
      ],
      "metadata": {
        "id": "iKrSTuRop0rT"
      }
    },
    {
      "cell_type": "code",
      "source": [
        "# https://gist.github.com/bshishov/5dc237f59f019b26145648e2124ca1c9#file-forecasting_metrics-py-L177\n",
        "\n",
        "def std_ae(actual: np.ndarray, predicted: np.ndarray):\n",
        "    \"\"\" Normalized Absolute Error \"\"\"\n",
        "    __mae = mae(actual, predicted)\n",
        "    return np.sqrt(np.sum(np.square(_error(actual, predicted) - __mae))/(len(actual) - 1))\n",
        "\n",
        "std_ae(t11, p11), std_ae(t_large, p_large), std_ae(t_nan, p_nan), std_ae(t_neg, p_neg)"
      ],
      "metadata": {
        "id": "3jDnwAkrpIih",
        "colab": {
          "base_uri": "https://localhost:8080/"
        },
        "outputId": "3f1b4118-4fcc-470c-c509-1a2aa6685824"
      },
      "execution_count": 87,
      "outputs": [
        {
          "output_type": "execute_result",
          "data": {
            "text/plain": [
              "(0.5551510970200795, 5553104.916104561, nan, 108.32762082840846)"
            ]
          },
          "metadata": {},
          "execution_count": 87
        }
      ]
    },
    {
      "cell_type": "markdown",
      "source": [
        "### normalized euclid distance"
      ],
      "metadata": {
        "id": "-JIFI3e8qHbF"
      }
    },
    {
      "cell_type": "code",
      "source": [
        "from HydroErr import ned\n",
        "\n",
        "ned(p11, t11), ned(p_large, t_large), ned(p_nan, t_nan), ned(p_neg, t_neg)"
      ],
      "metadata": {
        "id": "fxXMH1jhp2op",
        "colab": {
          "base_uri": "https://localhost:8080/"
        },
        "outputId": "57b331c8-d60f-4101-8cfa-7345bc4280aa"
      },
      "execution_count": 88,
      "outputs": [
        {
          "output_type": "execute_result",
          "data": {
            "text/plain": [
              "(7.338597737626875, 8.885308084386528, 6.7372058740579615, 164.68781514254727)"
            ]
          },
          "metadata": {},
          "execution_count": 88
        }
      ]
    },
    {
      "cell_type": "markdown",
      "source": [
        "### euclid distance"
      ],
      "metadata": {
        "id": "AyvSw6fOqgWo"
      }
    },
    {
      "cell_type": "code",
      "source": [
        "from HydroErr import ed\n",
        "\n",
        "ed(p11, t11), ed(p_large, t_large), ed(p_nan, t_nan), ed(p_neg, t_neg)"
      ],
      "metadata": {
        "id": "kXOkAs76qPnJ",
        "colab": {
          "base_uri": "https://localhost:8080/"
        },
        "outputId": "fdbe72f5-19e2-4d98-92df-e37ec23d5b5c"
      },
      "execution_count": 89,
      "outputs": [
        {
          "output_type": "execute_result",
          "data": {
            "text/plain": [
              "(4.028948714751875, 41838300.60914836, 3.727612385864465, 790.5649878409744)"
            ]
          },
          "metadata": {},
          "execution_count": 89
        }
      ]
    },
    {
      "cell_type": "markdown",
      "source": [
        "# relative rmse"
      ],
      "metadata": {
        "id": "ZjK41tFktdLW"
      }
    },
    {
      "cell_type": "code",
      "source": [
        "# https://stackoverflow.com/a/41749834\n",
        "# https://stackoverflow.com/q/69360839\n",
        "# https://gist.github.com/AayushSameerShah/baeedbbb52fe808874d6debb7e786183\n"
      ],
      "metadata": {
        "id": "UlKktcgNqipi"
      },
      "execution_count": 90,
      "outputs": []
    },
    {
      "cell_type": "markdown",
      "source": [
        "### mean variance"
      ],
      "metadata": {
        "id": "4ztpUIUXxMxC"
      }
    },
    {
      "cell_type": "code",
      "source": [
        "from HydroErr import mean_var\n",
        "\n",
        "mean_var(p11, t11), mean_var(p_large, t_large), mean_var(p_nan, t_nan), mean_var(p_neg, t_neg)"
      ],
      "metadata": {
        "id": "46nd5acTtgCK",
        "colab": {
          "base_uri": "https://localhost:8080/"
        },
        "outputId": "47468d71-a03f-4fbe-b601-d2293e8e8541"
      },
      "execution_count": 91,
      "outputs": [
        {
          "output_type": "stream",
          "name": "stderr",
          "text": [
            "/usr/local/lib/python3.10/dist-packages/HydroErr/HydroErr.py:6142: RuntimeWarning: divide by zero encountered in log1p\n",
            "  return np.var(np.log1p(observed_array) - np.log1p(simulated_array))\n",
            "/usr/local/lib/python3.10/dist-packages/HydroErr/HydroErr.py:6142: RuntimeWarning: invalid value encountered in log1p\n",
            "  return np.var(np.log1p(observed_array) - np.log1p(simulated_array))\n"
          ]
        },
        {
          "output_type": "execute_result",
          "data": {
            "text/plain": [
              "(0.07449144510570738, 2.5613322338568736, 0.0773070071169125, nan)"
            ]
          },
          "metadata": {},
          "execution_count": 91
        }
      ]
    },
    {
      "cell_type": "markdown",
      "source": [
        "### median error"
      ],
      "metadata": {
        "id": "H3aMhyOuxgh_"
      }
    },
    {
      "cell_type": "code",
      "source": [
        "from HydroErr import mde\n",
        "\n",
        "mde(p11, t11), mde(p_large, t_large), mde(p_nan, t_nan), mde(p_neg, t_neg)"
      ],
      "metadata": {
        "id": "Hfmn84dRxRYa",
        "colab": {
          "base_uri": "https://localhost:8080/"
        },
        "outputId": "581c4878-a4f2-44c3-fd4a-57e4d1ae9beb"
      },
      "execution_count": 92,
      "outputs": [
        {
          "output_type": "execute_result",
          "data": {
            "text/plain": [
              "(0.0313854202641316, 325158.3003595751, 0.05103081484042016, 13.5)"
            ]
          },
          "metadata": {},
          "execution_count": 92
        }
      ]
    },
    {
      "cell_type": "markdown",
      "source": [
        "### mdape"
      ],
      "metadata": {
        "id": "AGI_QdY6x1ev"
      }
    },
    {
      "cell_type": "code",
      "source": [
        "# https://gist.github.com/bshishov/5dc237f59f019b26145648e2124ca1c9#file-forecasting_metrics-py-L132\n",
        "\n",
        "def mdape(actual: np.ndarray, predicted: np.ndarray):\n",
        "    \"\"\"\n",
        "    Median Absolute Percentage Error\n",
        "    Note: result is NOT multiplied by 100\n",
        "    \"\"\"\n",
        "    return np.median(np.abs(_percentage_error(actual, predicted)))\n",
        "\n",
        "mdape(t11, p11), mdape(t_large, p_large), mdape(t_nan, p_nan), mdape(t_neg, p_neg)"
      ],
      "metadata": {
        "id": "WeGE0yRWxqFB",
        "colab": {
          "base_uri": "https://localhost:8080/"
        },
        "outputId": "b75a46af-f495-4332-a312-cb125872f754"
      },
      "execution_count": 93,
      "outputs": [
        {
          "output_type": "execute_result",
          "data": {
            "text/plain": [
              "(0.513246349701827, 0.7567708188562414, nan, 1.4614370468057651)"
            ]
          },
          "metadata": {},
          "execution_count": 93
        }
      ]
    },
    {
      "cell_type": "markdown",
      "source": [
        "### Mielke Berry R"
      ],
      "metadata": {
        "id": "3u4tMiIZyB8B"
      }
    },
    {
      "cell_type": "code",
      "source": [
        "from HydroErr import mb_r\n",
        "\n",
        "mb_r(p11, t11), mb_r(p_large, t_large), mb_r(p_nan, t_nan), mb_r(p_neg, t_neg)"
      ],
      "metadata": {
        "id": "jUwjEfPMx3Up",
        "colab": {
          "base_uri": "https://localhost:8080/"
        },
        "outputId": "5adcfa0f-5c16-4e0d-fbe4-6ffc97019d1a"
      },
      "execution_count": 94,
      "outputs": [
        {
          "output_type": "execute_result",
          "data": {
            "text/plain": [
              "(0.04444743269492335,\n",
              " -0.0012306836021478418,\n",
              " 0.03938975589826077,\n",
              " 0.08496259099000014)"
            ]
          },
          "metadata": {},
          "execution_count": 94
        }
      ]
    },
    {
      "cell_type": "markdown",
      "source": [
        "### aic"
      ],
      "metadata": {
        "id": "BY-yFWVTlyrw"
      }
    },
    {
      "cell_type": "code",
      "source": [
        "from RegscorePy import aic"
      ],
      "metadata": {
        "id": "W-EdjqmkyI7C"
      },
      "execution_count": 95,
      "outputs": []
    },
    {
      "cell_type": "code",
      "source": [
        "aic.aic(t11, p11, p=1), aic.aic(t_large, p_large, p=1)#, aic.aic(t_nan, p_nan, p=1), aic.aic(t_neg, p_neg, p=1)"
      ],
      "metadata": {
        "id": "aPEASHral1Z4",
        "colab": {
          "base_uri": "https://localhost:8080/"
        },
        "outputId": "d34c4e2a-49de-4a05-cb8b-942b325fc5f1"
      },
      "execution_count": 96,
      "outputs": [
        {
          "output_type": "execute_result",
          "data": {
            "text/plain": [
              "(-179.8159231784877, 3051.347533497176)"
            ]
          },
          "metadata": {},
          "execution_count": 96
        }
      ]
    },
    {
      "cell_type": "markdown",
      "source": [
        "### bic"
      ],
      "metadata": {
        "id": "ZFz1KD3SmPZl"
      }
    },
    {
      "cell_type": "code",
      "source": [
        "import collections\n",
        "\n",
        "collections.Sequence = list   # because bic function uses collections.Sequence\n",
        "\n",
        "from RegscorePy import bic\n",
        "\n",
        "bic.bic(y=t11, y_pred=p11, p=1), bic.bic(y=t_large, y_pred=p_large, p=1), bic.bic(y=t_nan, y_pred=p_nan, p=1)#, bic.bic(y=t_neg, y_pred=p_neg, p=1)"
      ],
      "metadata": {
        "id": "LFp0JW2_mDPY",
        "colab": {
          "base_uri": "https://localhost:8080/"
        },
        "outputId": "d674898f-5622-40a1-babd-483a9b0781fb"
      },
      "execution_count": 97,
      "outputs": [
        {
          "output_type": "execute_result",
          "data": {
            "text/plain": [
              "(-177.2107529924996, 3053.952703683164, nan)"
            ]
          },
          "metadata": {},
          "execution_count": 97
        }
      ]
    },
    {
      "cell_type": "markdown",
      "source": [
        "### wmape"
      ],
      "metadata": {
        "id": "1Ukv15WFryZI"
      }
    },
    {
      "cell_type": "code",
      "source": [
        "# https://stackoverflow.com/a/54833202/5982232\n",
        "\n",
        "def wmape(actual, forecast):\n",
        "    # Take a series (actual) and a dataframe (forecast) and calculate wmape\n",
        "    # for each forecast. Output shape is (1, num_forecasts)\n",
        "\n",
        "    # Convert to numpy arrays for broadasting\n",
        "    forecast = np.array(forecast.values)\n",
        "    actual=np.array(actual.values).reshape((-1, 1))\n",
        "\n",
        "    # Make an array of mape (same shape as forecast)\n",
        "    se_mape = abs(actual-forecast)/actual\n",
        "\n",
        "    # Calculate sum of actual values\n",
        "    ft_actual_sum = actual.sum(axis=0)\n",
        "\n",
        "    # Multiply the actual values by the mape\n",
        "    se_actual_prod_mape = actual * se_mape\n",
        "\n",
        "    # Take the sum of the product of actual values and mape\n",
        "    # Make sure to sum down the rows (1 for each column)\n",
        "    ft_actual_prod_mape_sum = se_actual_prod_mape.sum(axis=0)\n",
        "\n",
        "    # Calculate the wmape for each forecast and return as a dictionary\n",
        "    ft_wmape_forecast = ft_actual_prod_mape_sum / ft_actual_sum\n",
        "    return {f'Forecast_{i+1}_wmape': wmape for i, wmape in enumerate(ft_wmape_forecast)}\n",
        "\n",
        "\n",
        "wmape(pd.Series(t11), pd.DataFrame(p11)), wmape(pd.DataFrame(t_large), pd.DataFrame(p_large)), wmape(pd.DataFrame(t_nan), pd.DataFrame(p_nan)), wmape(pd.DataFrame(t_neg), pd.DataFrame(p_neg))"
      ],
      "metadata": {
        "id": "BzqVwpNCmlQH",
        "colab": {
          "base_uri": "https://localhost:8080/"
        },
        "outputId": "4b47f3af-ae64-463f-d502-783c59b6ca02"
      },
      "execution_count": 98,
      "outputs": [
        {
          "output_type": "execute_result",
          "data": {
            "text/plain": [
              "({'Forecast_1_wmape': 0.6205374050378927},\n",
              " {'Forecast_1_wmape': 0.7506108015440225},\n",
              " {'Forecast_1_wmape': nan},\n",
              " {'Forecast_1_wmape': -11.75278810408922})"
            ]
          },
          "metadata": {},
          "execution_count": 98
        }
      ]
    },
    {
      "cell_type": "markdown",
      "source": [
        "### irmse"
      ],
      "metadata": {
        "id": "oiTg_14XZ8PK"
      }
    },
    {
      "cell_type": "code",
      "source": [
        "from HydroErr import irmse\n",
        "\n",
        "irmse(p11, t11), irmse(p_large, t_large), irmse(p_nan, t_nan), irmse(p_neg, t_neg)"
      ],
      "metadata": {
        "id": "mc0ssyFQaCzw",
        "colab": {
          "base_uri": "https://localhost:8080/"
        },
        "outputId": "62422200-b93c-4538-d831-3a31b92a85f2"
      },
      "execution_count": 99,
      "outputs": [
        {
          "output_type": "execute_result",
          "data": {
            "text/plain": [
              "(0.9954807723243245,\n",
              " 0.9923269981666207,\n",
              " 1.0529524887988122,\n",
              " 0.8861674491048979)"
            ]
          },
          "metadata": {},
          "execution_count": 99
        }
      ]
    },
    {
      "cell_type": "markdown",
      "source": [
        "### CronbachAlpha"
      ],
      "metadata": {
        "id": "oPHprndGZ_sL"
      }
    },
    {
      "cell_type": "code",
      "source": [
        "# https://stackoverflow.com/a/20799687\n",
        "\n",
        "def CronbachAlpha(itemscores):\n",
        "    itemscores = np.asarray(itemscores)\n",
        "    itemvars = itemscores.var(axis=1, ddof=1)\n",
        "    tscores = itemscores.sum(axis=0)\n",
        "    nitems = len(itemscores)\n",
        "\n",
        "    return nitems / (nitems-1.) * (1 - itemvars.sum() / tscores.var(ddof=1))\n",
        "\n",
        "\n",
        "CronbachAlpha(np.stack([t11, p11])), CronbachAlpha(np.stack([t_large, p_large])), CronbachAlpha(np.stack([t_nan, p_nan])), CronbachAlpha(np.stack([t_neg, p_neg]))"
      ],
      "metadata": {
        "id": "rPi5JlUQHBcv",
        "colab": {
          "base_uri": "https://localhost:8080/"
        },
        "outputId": "ca207e9e-3d20-4693-89a6-ab262029bc45"
      },
      "execution_count": 100,
      "outputs": [
        {
          "output_type": "execute_result",
          "data": {
            "text/plain": [
              "(0.03555058748735895, 0.07543930266724952, nan, 0.22904130861912253)"
            ]
          },
          "metadata": {},
          "execution_count": 100
        }
      ]
    },
    {
      "cell_type": "markdown",
      "source": [
        "### aitchison distance"
      ],
      "metadata": {
        "id": "IFIyHRBOS2Kf"
      }
    },
    {
      "cell_type": "code",
      "source": [
        "# https://github.com/hallamlab/utilities/blob/master/SparCC/lib/distances.py#L47\n",
        "\n",
        "def aitchison(x,y, center = 'mean'):\n",
        "    lx = np.log(x)\n",
        "    ly = np.log(y)\n",
        "    if center == 'mean':     m = np.mean\n",
        "    elif center == 'median': m = np.median\n",
        "    clr_x = lx - m(lx)\n",
        "    clr_y = ly - m(ly)\n",
        "    d = ( sum((clr_x-clr_y)**2) )**0.5\n",
        "    return d\n",
        "\n",
        "\n",
        "aitchison(t11, p11), aitchison(t_large, p_large), aitchison(t_nan, p_nan), aitchison(t_neg, p_neg)"
      ],
      "metadata": {
        "id": "kAvaqC5tHDc4",
        "colab": {
          "base_uri": "https://localhost:8080/"
        },
        "outputId": "e3c35f68-e0eb-4e61-85c6-5dd8efbcd6d8"
      },
      "execution_count": 101,
      "outputs": [
        {
          "output_type": "stream",
          "name": "stderr",
          "text": [
            "<ipython-input-101-97a490b22f00>:4: RuntimeWarning: invalid value encountered in log\n",
            "  lx = np.log(x)\n",
            "<ipython-input-101-97a490b22f00>:5: RuntimeWarning: invalid value encountered in log\n",
            "  ly = np.log(y)\n"
          ]
        },
        {
          "output_type": "execute_result",
          "data": {
            "text/plain": [
              "(16.326288844358846, 16.004244764764962, nan, nan)"
            ]
          },
          "metadata": {},
          "execution_count": 101
        }
      ]
    },
    {
      "cell_type": "markdown",
      "source": [
        "### JS"
      ],
      "metadata": {
        "id": "Cr89V99LTdHk"
      }
    },
    {
      "cell_type": "code",
      "source": [
        "# https://github.com/hallamlab/utilities/blob/master/SparCC/lib/distances.py#L19\n",
        "\n",
        "def JS(x,y): #Jensen-shannon divergence\n",
        "    import warnings\n",
        "    warnings.filterwarnings(\"ignore\", category = RuntimeWarning)\n",
        "    d1 = x*np.log2(2*x/(x+y))\n",
        "    d2 = y*np.log2(2*y/(x+y))\n",
        "    d1[np.isnan(d1)] = 0\n",
        "    d2[np.isnan(d2)] = 0\n",
        "    d = 0.5*sum(d1+d2)\n",
        "    return d\n",
        "\n",
        "\n",
        "JS(t11, p11), JS(t_large, p_large), JS(t_nan, p_nan), JS(t_neg, p_neg)"
      ],
      "metadata": {
        "id": "9asUvxlsHFPu",
        "colab": {
          "base_uri": "https://localhost:8080/"
        },
        "outputId": "771eb3e5-ac7e-4605-8d4d-beb9aad92c08"
      },
      "execution_count": 102,
      "outputs": [
        {
          "output_type": "execute_result",
          "data": {
            "text/plain": [
              "(7.275875413762115, 82030912.4664884, 6.109483922657932, -1486.8471425886949)"
            ]
          },
          "metadata": {},
          "execution_count": 102
        }
      ]
    },
    {
      "cell_type": "markdown",
      "source": [
        "### Median Squared Error"
      ],
      "metadata": {
        "id": "BkCPpciEdJ_I"
      }
    },
    {
      "cell_type": "code",
      "source": [
        "from sktime.performance_metrics.forecasting import MedianSquaredError\n",
        "\n",
        "mdse = MedianSquaredError()\n",
        "mdse(t11, p11), mdse(t_large, p_large), mdse(t_neg, p_neg), # mdse(t_nan, p_nan)"
      ],
      "metadata": {
        "id": "AQcuiSQRcuen",
        "colab": {
          "base_uri": "https://localhost:8080/"
        },
        "outputId": "262157b6-fbc6-46d1-d5bb-8580e2a774c2"
      },
      "execution_count": 103,
      "outputs": [
        {
          "output_type": "execute_result",
          "data": {
            "text/plain": [
              "(0.06731204476856545, 11033435538276.316, 3308.5)"
            ]
          },
          "metadata": {},
          "execution_count": 103
        }
      ]
    }
  ]
}