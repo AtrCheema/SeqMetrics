{
  "nbformat": 4,
  "nbformat_minor": 0,
  "metadata": {
    "colab": {
      "provenance": []
    },
    "kernelspec": {
      "name": "python3",
      "display_name": "Python 3"
    },
    "language_info": {
      "name": "python"
    }
  },
  "cells": [
    {
      "cell_type": "markdown",
      "source": [
        "This notebook is created as a reference for SeqMetrics tests.\n",
        "Since the SeqMetrics contain functions which are present in various other libraries, putting them as dependency while running automatic tests will\n",
        "make testing quite difficult. Since it will make tests depends upon\n",
        "a lot of libraries, some of which are no more maintained. Therefore,\n",
        "in this notebook, we have installed those libraries and called those functions.\n",
        "Some of the tests in SeqMetrics are compared against outputs of the functions\n",
        "called in this notebook.\n"
      ],
      "metadata": {
        "id": "5iy02aVWcIaJ"
      }
    },
    {
      "cell_type": "code",
      "source": [
        "!pip install hydroeval"
      ],
      "metadata": {
        "colab": {
          "base_uri": "https://localhost:8080/"
        },
        "id": "EGFP18x5IT0t",
        "outputId": "7c3138a8-ecc2-4df4-8cc2-c1201ba19dbc"
      },
      "execution_count": 1,
      "outputs": [
        {
          "output_type": "stream",
          "name": "stdout",
          "text": [
            "Requirement already satisfied: hydroeval in /usr/local/lib/python3.10/dist-packages (0.1.0)\n",
            "Requirement already satisfied: numpy in /usr/local/lib/python3.10/dist-packages (from hydroeval) (1.25.2)\n"
          ]
        }
      ]
    },
    {
      "cell_type": "code",
      "source": [
        "!pip install NeuralHydrology"
      ],
      "metadata": {
        "colab": {
          "base_uri": "https://localhost:8080/"
        },
        "id": "pzw8mUneKTW5",
        "outputId": "58329262-e19d-4ff3-fac7-879ae1dd5cfd"
      },
      "execution_count": 2,
      "outputs": [
        {
          "output_type": "stream",
          "name": "stdout",
          "text": [
            "Requirement already satisfied: NeuralHydrology in /usr/local/lib/python3.10/dist-packages (1.10.0)\n",
            "Requirement already satisfied: matplotlib in /usr/local/lib/python3.10/dist-packages (from NeuralHydrology) (3.7.1)\n",
            "Requirement already satisfied: numba in /usr/local/lib/python3.10/dist-packages (from NeuralHydrology) (0.58.1)\n",
            "Requirement already satisfied: numpy in /usr/local/lib/python3.10/dist-packages (from NeuralHydrology) (1.25.2)\n",
            "Requirement already satisfied: pandas in /usr/local/lib/python3.10/dist-packages (from NeuralHydrology) (2.0.3)\n",
            "Requirement already satisfied: ruamel.yaml in /usr/local/lib/python3.10/dist-packages (from NeuralHydrology) (0.18.6)\n",
            "Requirement already satisfied: torch in /usr/local/lib/python3.10/dist-packages (from NeuralHydrology) (2.2.1+cu121)\n",
            "Requirement already satisfied: scipy in /usr/local/lib/python3.10/dist-packages (from NeuralHydrology) (1.11.4)\n",
            "Requirement already satisfied: tensorboard in /usr/local/lib/python3.10/dist-packages (from NeuralHydrology) (2.15.2)\n",
            "Requirement already satisfied: tqdm in /usr/local/lib/python3.10/dist-packages (from NeuralHydrology) (4.66.4)\n",
            "Requirement already satisfied: xarray in /usr/local/lib/python3.10/dist-packages (from NeuralHydrology) (2023.7.0)\n",
            "Requirement already satisfied: contourpy>=1.0.1 in /usr/local/lib/python3.10/dist-packages (from matplotlib->NeuralHydrology) (1.2.1)\n",
            "Requirement already satisfied: cycler>=0.10 in /usr/local/lib/python3.10/dist-packages (from matplotlib->NeuralHydrology) (0.12.1)\n",
            "Requirement already satisfied: fonttools>=4.22.0 in /usr/local/lib/python3.10/dist-packages (from matplotlib->NeuralHydrology) (4.51.0)\n",
            "Requirement already satisfied: kiwisolver>=1.0.1 in /usr/local/lib/python3.10/dist-packages (from matplotlib->NeuralHydrology) (1.4.5)\n",
            "Requirement already satisfied: packaging>=20.0 in /usr/local/lib/python3.10/dist-packages (from matplotlib->NeuralHydrology) (24.0)\n",
            "Requirement already satisfied: pillow>=6.2.0 in /usr/local/lib/python3.10/dist-packages (from matplotlib->NeuralHydrology) (9.4.0)\n",
            "Requirement already satisfied: pyparsing>=2.3.1 in /usr/local/lib/python3.10/dist-packages (from matplotlib->NeuralHydrology) (3.1.2)\n",
            "Requirement already satisfied: python-dateutil>=2.7 in /usr/local/lib/python3.10/dist-packages (from matplotlib->NeuralHydrology) (2.8.2)\n",
            "Requirement already satisfied: llvmlite<0.42,>=0.41.0dev0 in /usr/local/lib/python3.10/dist-packages (from numba->NeuralHydrology) (0.41.1)\n",
            "Requirement already satisfied: pytz>=2020.1 in /usr/local/lib/python3.10/dist-packages (from pandas->NeuralHydrology) (2023.4)\n",
            "Requirement already satisfied: tzdata>=2022.1 in /usr/local/lib/python3.10/dist-packages (from pandas->NeuralHydrology) (2024.1)\n",
            "Requirement already satisfied: ruamel.yaml.clib>=0.2.7 in /usr/local/lib/python3.10/dist-packages (from ruamel.yaml->NeuralHydrology) (0.2.8)\n",
            "Requirement already satisfied: absl-py>=0.4 in /usr/local/lib/python3.10/dist-packages (from tensorboard->NeuralHydrology) (1.4.0)\n",
            "Requirement already satisfied: grpcio>=1.48.2 in /usr/local/lib/python3.10/dist-packages (from tensorboard->NeuralHydrology) (1.63.0)\n",
            "Requirement already satisfied: google-auth<3,>=1.6.3 in /usr/local/lib/python3.10/dist-packages (from tensorboard->NeuralHydrology) (2.27.0)\n",
            "Requirement already satisfied: google-auth-oauthlib<2,>=0.5 in /usr/local/lib/python3.10/dist-packages (from tensorboard->NeuralHydrology) (1.2.0)\n",
            "Requirement already satisfied: markdown>=2.6.8 in /usr/local/lib/python3.10/dist-packages (from tensorboard->NeuralHydrology) (3.6)\n",
            "Requirement already satisfied: protobuf!=4.24.0,>=3.19.6 in /usr/local/lib/python3.10/dist-packages (from tensorboard->NeuralHydrology) (3.20.3)\n",
            "Requirement already satisfied: requests<3,>=2.21.0 in /usr/local/lib/python3.10/dist-packages (from tensorboard->NeuralHydrology) (2.31.0)\n",
            "Requirement already satisfied: setuptools>=41.0.0 in /usr/local/lib/python3.10/dist-packages (from tensorboard->NeuralHydrology) (67.7.2)\n",
            "Requirement already satisfied: six>1.9 in /usr/local/lib/python3.10/dist-packages (from tensorboard->NeuralHydrology) (1.16.0)\n",
            "Requirement already satisfied: tensorboard-data-server<0.8.0,>=0.7.0 in /usr/local/lib/python3.10/dist-packages (from tensorboard->NeuralHydrology) (0.7.2)\n",
            "Requirement already satisfied: werkzeug>=1.0.1 in /usr/local/lib/python3.10/dist-packages (from tensorboard->NeuralHydrology) (3.0.2)\n",
            "Requirement already satisfied: filelock in /usr/local/lib/python3.10/dist-packages (from torch->NeuralHydrology) (3.14.0)\n",
            "Requirement already satisfied: typing-extensions>=4.8.0 in /usr/local/lib/python3.10/dist-packages (from torch->NeuralHydrology) (4.11.0)\n",
            "Requirement already satisfied: sympy in /usr/local/lib/python3.10/dist-packages (from torch->NeuralHydrology) (1.12)\n",
            "Requirement already satisfied: networkx in /usr/local/lib/python3.10/dist-packages (from torch->NeuralHydrology) (3.3)\n",
            "Requirement already satisfied: jinja2 in /usr/local/lib/python3.10/dist-packages (from torch->NeuralHydrology) (3.1.3)\n",
            "Requirement already satisfied: fsspec in /usr/local/lib/python3.10/dist-packages (from torch->NeuralHydrology) (2023.6.0)\n",
            "Requirement already satisfied: nvidia-cuda-nvrtc-cu12==12.1.105 in /usr/local/lib/python3.10/dist-packages (from torch->NeuralHydrology) (12.1.105)\n",
            "Requirement already satisfied: nvidia-cuda-runtime-cu12==12.1.105 in /usr/local/lib/python3.10/dist-packages (from torch->NeuralHydrology) (12.1.105)\n",
            "Requirement already satisfied: nvidia-cuda-cupti-cu12==12.1.105 in /usr/local/lib/python3.10/dist-packages (from torch->NeuralHydrology) (12.1.105)\n",
            "Requirement already satisfied: nvidia-cudnn-cu12==8.9.2.26 in /usr/local/lib/python3.10/dist-packages (from torch->NeuralHydrology) (8.9.2.26)\n",
            "Requirement already satisfied: nvidia-cublas-cu12==12.1.3.1 in /usr/local/lib/python3.10/dist-packages (from torch->NeuralHydrology) (12.1.3.1)\n",
            "Requirement already satisfied: nvidia-cufft-cu12==11.0.2.54 in /usr/local/lib/python3.10/dist-packages (from torch->NeuralHydrology) (11.0.2.54)\n",
            "Requirement already satisfied: nvidia-curand-cu12==10.3.2.106 in /usr/local/lib/python3.10/dist-packages (from torch->NeuralHydrology) (10.3.2.106)\n",
            "Requirement already satisfied: nvidia-cusolver-cu12==11.4.5.107 in /usr/local/lib/python3.10/dist-packages (from torch->NeuralHydrology) (11.4.5.107)\n",
            "Requirement already satisfied: nvidia-cusparse-cu12==12.1.0.106 in /usr/local/lib/python3.10/dist-packages (from torch->NeuralHydrology) (12.1.0.106)\n",
            "Requirement already satisfied: nvidia-nccl-cu12==2.19.3 in /usr/local/lib/python3.10/dist-packages (from torch->NeuralHydrology) (2.19.3)\n",
            "Requirement already satisfied: nvidia-nvtx-cu12==12.1.105 in /usr/local/lib/python3.10/dist-packages (from torch->NeuralHydrology) (12.1.105)\n",
            "Requirement already satisfied: triton==2.2.0 in /usr/local/lib/python3.10/dist-packages (from torch->NeuralHydrology) (2.2.0)\n",
            "Requirement already satisfied: nvidia-nvjitlink-cu12 in /usr/local/lib/python3.10/dist-packages (from nvidia-cusolver-cu12==11.4.5.107->torch->NeuralHydrology) (12.4.127)\n",
            "Requirement already satisfied: cachetools<6.0,>=2.0.0 in /usr/local/lib/python3.10/dist-packages (from google-auth<3,>=1.6.3->tensorboard->NeuralHydrology) (5.3.3)\n",
            "Requirement already satisfied: pyasn1-modules>=0.2.1 in /usr/local/lib/python3.10/dist-packages (from google-auth<3,>=1.6.3->tensorboard->NeuralHydrology) (0.4.0)\n",
            "Requirement already satisfied: rsa<5,>=3.1.4 in /usr/local/lib/python3.10/dist-packages (from google-auth<3,>=1.6.3->tensorboard->NeuralHydrology) (4.9)\n",
            "Requirement already satisfied: requests-oauthlib>=0.7.0 in /usr/local/lib/python3.10/dist-packages (from google-auth-oauthlib<2,>=0.5->tensorboard->NeuralHydrology) (1.3.1)\n",
            "Requirement already satisfied: charset-normalizer<4,>=2 in /usr/local/lib/python3.10/dist-packages (from requests<3,>=2.21.0->tensorboard->NeuralHydrology) (3.3.2)\n",
            "Requirement already satisfied: idna<4,>=2.5 in /usr/local/lib/python3.10/dist-packages (from requests<3,>=2.21.0->tensorboard->NeuralHydrology) (3.7)\n",
            "Requirement already satisfied: urllib3<3,>=1.21.1 in /usr/local/lib/python3.10/dist-packages (from requests<3,>=2.21.0->tensorboard->NeuralHydrology) (2.0.7)\n",
            "Requirement already satisfied: certifi>=2017.4.17 in /usr/local/lib/python3.10/dist-packages (from requests<3,>=2.21.0->tensorboard->NeuralHydrology) (2024.2.2)\n",
            "Requirement already satisfied: MarkupSafe>=2.1.1 in /usr/local/lib/python3.10/dist-packages (from werkzeug>=1.0.1->tensorboard->NeuralHydrology) (2.1.5)\n",
            "Requirement already satisfied: mpmath>=0.19 in /usr/local/lib/python3.10/dist-packages (from sympy->torch->NeuralHydrology) (1.3.0)\n",
            "Requirement already satisfied: pyasn1<0.7.0,>=0.4.6 in /usr/local/lib/python3.10/dist-packages (from pyasn1-modules>=0.2.1->google-auth<3,>=1.6.3->tensorboard->NeuralHydrology) (0.6.0)\n",
            "Requirement already satisfied: oauthlib>=3.0.0 in /usr/local/lib/python3.10/dist-packages (from requests-oauthlib>=0.7.0->google-auth-oauthlib<2,>=0.5->tensorboard->NeuralHydrology) (3.2.2)\n"
          ]
        }
      ]
    },
    {
      "cell_type": "code",
      "source": [
        "!pip install HydroErr"
      ],
      "metadata": {
        "colab": {
          "base_uri": "https://localhost:8080/"
        },
        "id": "NFFcZSxIM4kw",
        "outputId": "0ada85a1-e949-4b7d-b04e-573ceef8e0e9"
      },
      "execution_count": 3,
      "outputs": [
        {
          "output_type": "stream",
          "name": "stdout",
          "text": [
            "Requirement already satisfied: HydroErr in /usr/local/lib/python3.10/dist-packages (1.24)\n",
            "Requirement already satisfied: numpy in /usr/local/lib/python3.10/dist-packages (from HydroErr) (1.25.2)\n",
            "Requirement already satisfied: scipy in /usr/local/lib/python3.10/dist-packages (from HydroErr) (1.11.4)\n"
          ]
        }
      ]
    },
    {
      "cell_type": "code",
      "source": [
        "!pip install SkillMetrics"
      ],
      "metadata": {
        "colab": {
          "base_uri": "https://localhost:8080/"
        },
        "id": "UDkjgAuOWfGy",
        "outputId": "8e85f1c3-897d-4f78-a074-fe84c3da1fdb"
      },
      "execution_count": 4,
      "outputs": [
        {
          "output_type": "stream",
          "name": "stdout",
          "text": [
            "Requirement already satisfied: SkillMetrics in /usr/local/lib/python3.10/dist-packages (1.2.4)\n",
            "Requirement already satisfied: matplotlib in /usr/local/lib/python3.10/dist-packages (from SkillMetrics) (3.7.1)\n",
            "Requirement already satisfied: numpy in /usr/local/lib/python3.10/dist-packages (from SkillMetrics) (1.25.2)\n",
            "Requirement already satisfied: pandas in /usr/local/lib/python3.10/dist-packages (from SkillMetrics) (2.0.3)\n",
            "Requirement already satisfied: xlsxwriter in /usr/local/lib/python3.10/dist-packages (from SkillMetrics) (3.2.0)\n",
            "Requirement already satisfied: contourpy>=1.0.1 in /usr/local/lib/python3.10/dist-packages (from matplotlib->SkillMetrics) (1.2.1)\n",
            "Requirement already satisfied: cycler>=0.10 in /usr/local/lib/python3.10/dist-packages (from matplotlib->SkillMetrics) (0.12.1)\n",
            "Requirement already satisfied: fonttools>=4.22.0 in /usr/local/lib/python3.10/dist-packages (from matplotlib->SkillMetrics) (4.51.0)\n",
            "Requirement already satisfied: kiwisolver>=1.0.1 in /usr/local/lib/python3.10/dist-packages (from matplotlib->SkillMetrics) (1.4.5)\n",
            "Requirement already satisfied: packaging>=20.0 in /usr/local/lib/python3.10/dist-packages (from matplotlib->SkillMetrics) (24.0)\n",
            "Requirement already satisfied: pillow>=6.2.0 in /usr/local/lib/python3.10/dist-packages (from matplotlib->SkillMetrics) (9.4.0)\n",
            "Requirement already satisfied: pyparsing>=2.3.1 in /usr/local/lib/python3.10/dist-packages (from matplotlib->SkillMetrics) (3.1.2)\n",
            "Requirement already satisfied: python-dateutil>=2.7 in /usr/local/lib/python3.10/dist-packages (from matplotlib->SkillMetrics) (2.8.2)\n",
            "Requirement already satisfied: pytz>=2020.1 in /usr/local/lib/python3.10/dist-packages (from pandas->SkillMetrics) (2023.4)\n",
            "Requirement already satisfied: tzdata>=2022.1 in /usr/local/lib/python3.10/dist-packages (from pandas->SkillMetrics) (2024.1)\n",
            "Requirement already satisfied: six>=1.5 in /usr/local/lib/python3.10/dist-packages (from python-dateutil>=2.7->matplotlib->SkillMetrics) (1.16.0)\n"
          ]
        }
      ]
    },
    {
      "cell_type": "code",
      "source": [
        "!pip install RegscorePy"
      ],
      "metadata": {
        "colab": {
          "base_uri": "https://localhost:8080/"
        },
        "id": "PxKp56K2la-I",
        "outputId": "5e82a39d-8749-4f39-9c26-e0d8605546a9"
      },
      "execution_count": 5,
      "outputs": [
        {
          "output_type": "stream",
          "name": "stdout",
          "text": [
            "Requirement already satisfied: RegscorePy in /usr/local/lib/python3.10/dist-packages (1.1)\n",
            "Requirement already satisfied: numpy in /usr/local/lib/python3.10/dist-packages (from RegscorePy) (1.25.2)\n",
            "Requirement already satisfied: pandas in /usr/local/lib/python3.10/dist-packages (from RegscorePy) (2.0.3)\n",
            "Requirement already satisfied: python-dateutil>=2.8.2 in /usr/local/lib/python3.10/dist-packages (from pandas->RegscorePy) (2.8.2)\n",
            "Requirement already satisfied: pytz>=2020.1 in /usr/local/lib/python3.10/dist-packages (from pandas->RegscorePy) (2023.4)\n",
            "Requirement already satisfied: tzdata>=2022.1 in /usr/local/lib/python3.10/dist-packages (from pandas->RegscorePy) (2024.1)\n",
            "Requirement already satisfied: six>=1.5 in /usr/local/lib/python3.10/dist-packages (from python-dateutil>=2.8.2->pandas->RegscorePy) (1.16.0)\n"
          ]
        }
      ]
    },
    {
      "cell_type": "code",
      "source": [
        "!pip install sktime"
      ],
      "metadata": {
        "colab": {
          "base_uri": "https://localhost:8080/"
        },
        "id": "bo758yZqc9y3",
        "outputId": "d9da154a-420d-4ddc-f05d-30dd1195e05d"
      },
      "execution_count": 6,
      "outputs": [
        {
          "output_type": "stream",
          "name": "stdout",
          "text": [
            "Requirement already satisfied: sktime in /usr/local/lib/python3.10/dist-packages (0.29.0)\n",
            "Requirement already satisfied: numpy<1.27,>=1.21 in /usr/local/lib/python3.10/dist-packages (from sktime) (1.25.2)\n",
            "Requirement already satisfied: packaging in /usr/local/lib/python3.10/dist-packages (from sktime) (24.0)\n",
            "Requirement already satisfied: pandas<2.3.0,>=1.1 in /usr/local/lib/python3.10/dist-packages (from sktime) (2.0.3)\n",
            "Requirement already satisfied: scikit-base<0.8.0,>=0.6.1 in /usr/local/lib/python3.10/dist-packages (from sktime) (0.7.7)\n",
            "Requirement already satisfied: scikit-learn<1.5.0,>=0.24 in /usr/local/lib/python3.10/dist-packages (from sktime) (1.2.2)\n",
            "Requirement already satisfied: scipy<2.0.0,>=1.2 in /usr/local/lib/python3.10/dist-packages (from sktime) (1.11.4)\n",
            "Requirement already satisfied: python-dateutil>=2.8.2 in /usr/local/lib/python3.10/dist-packages (from pandas<2.3.0,>=1.1->sktime) (2.8.2)\n",
            "Requirement already satisfied: pytz>=2020.1 in /usr/local/lib/python3.10/dist-packages (from pandas<2.3.0,>=1.1->sktime) (2023.4)\n",
            "Requirement already satisfied: tzdata>=2022.1 in /usr/local/lib/python3.10/dist-packages (from pandas<2.3.0,>=1.1->sktime) (2024.1)\n",
            "Requirement already satisfied: joblib>=1.1.1 in /usr/local/lib/python3.10/dist-packages (from scikit-learn<1.5.0,>=0.24->sktime) (1.4.2)\n",
            "Requirement already satisfied: threadpoolctl>=2.0.0 in /usr/local/lib/python3.10/dist-packages (from scikit-learn<1.5.0,>=0.24->sktime) (3.5.0)\n",
            "Requirement already satisfied: six>=1.5 in /usr/local/lib/python3.10/dist-packages (from python-dateutil>=2.8.2->pandas<2.3.0,>=1.1->sktime) (1.16.0)\n"
          ]
        }
      ]
    },
    {
      "cell_type": "code",
      "source": [
        "import datetime\n",
        "\n",
        "import numpy as np\n",
        "\n",
        "import xarray as xr\n",
        "\n",
        "import pandas as pd\n",
        "\n",
        "import hydroeval\n",
        "from hydroeval import evaluator\n",
        "\n",
        "import neuralhydrology\n",
        "\n",
        "import HydroErr\n",
        "\n",
        "import skill_metrics\n",
        "\n",
        "import RegscorePy\n",
        "\n",
        "import sktime\n",
        "\n",
        "print(datetime.datetime.now().strftime(\"%d %B %Y %H:%M:%S\"))\n",
        "print('xarray version: ', xr.__version__)\n",
        "print('np version: ', np.__version__)\n",
        "print('pd version: ', pd.__version__)\n",
        "print('hydroeval version: ', hydroeval.__version__)\n",
        "print('sktime: ', sktime.__version__)"
      ],
      "metadata": {
        "colab": {
          "base_uri": "https://localhost:8080/"
        },
        "id": "BHUozYBKMHSm",
        "outputId": "b7d639e9-1583-48dd-f96c-bc324714a00f"
      },
      "execution_count": 7,
      "outputs": [
        {
          "output_type": "stream",
          "name": "stdout",
          "text": [
            "09 May 2024 13:02:31\n",
            "xarray version:  2023.7.0\n",
            "np version:  1.25.2\n",
            "pd version:  2.0.3\n",
            "hydroeval version:  0.1.0\n",
            "sktime:  0.29.0\n"
          ]
        }
      ]
    },
    {
      "cell_type": "code",
      "source": [
        "random_state = np.random.RandomState(seed=313)\n",
        "\n",
        "t11 = random_state.random(100)\n",
        "p11 = random_state.random(100)\n",
        "\n",
        "t11.sum(), p11.sum()"
      ],
      "metadata": {
        "colab": {
          "base_uri": "https://localhost:8080/"
        },
        "id": "a21Q4wieMKQO",
        "outputId": "81b30f2e-4cdc-43b6-d5f6-d1b85e530d20"
      },
      "execution_count": 8,
      "outputs": [
        {
          "output_type": "execute_result",
          "data": {
            "text/plain": [
              "(50.99521786026271, 57.734075639710824)"
            ]
          },
          "metadata": {},
          "execution_count": 8
        }
      ]
    },
    {
      "cell_type": "code",
      "source": [
        "\"\"\"\n",
        "The helper functions in this cell are copied from https://gist.github.com/bshishov/5dc237f59f019b26145648e2124ca1c9\n",
        "\"\"\"\n",
        "EPSILON = 1e-10\n",
        "\n",
        "\n",
        "def _error(actual: np.ndarray, predicted: np.ndarray):\n",
        "    \"\"\" Simple error \"\"\"\n",
        "    return actual - predicted\n",
        "\n",
        "\n",
        "def _percentage_error(actual: np.ndarray, predicted: np.ndarray):\n",
        "    \"\"\"\n",
        "    Percentage error\n",
        "    Note: result is NOT multiplied by 100\n",
        "    \"\"\"\n",
        "    return _error(actual, predicted) / (actual + EPSILON)\n",
        "\n",
        "\n",
        "def _naive_forecasting(actual: np.ndarray, seasonality: int = 1):\n",
        "    \"\"\" Naive forecasting method which just repeats previous samples \"\"\"\n",
        "    return actual[:-seasonality]\n",
        "\n",
        "\n",
        "def _relative_error(actual: np.ndarray, predicted: np.ndarray, benchmark: np.ndarray = None):\n",
        "    \"\"\" Relative Error \"\"\"\n",
        "    if benchmark is None or isinstance(benchmark, int):\n",
        "        # If no benchmark prediction provided - use naive forecasting\n",
        "        if not isinstance(benchmark, int):\n",
        "            seasonality = 1\n",
        "        else:\n",
        "            seasonality = benchmark\n",
        "        return _error(actual[seasonality:], predicted[seasonality:]) /\\\n",
        "               (_error(actual[seasonality:], _naive_forecasting(actual, seasonality)) + EPSILON)\n",
        "\n",
        "    return _error(actual, predicted) / (_error(actual, benchmark) + EPSILON)\n",
        "\n",
        "def _bounded_relative_error(actual: np.ndarray, predicted: np.ndarray, benchmark: np.ndarray = None):\n",
        "    \"\"\" Bounded Relative Error \"\"\"\n",
        "    if benchmark is None or isinstance(benchmark, int):\n",
        "        # If no benchmark prediction provided - use naive forecasting\n",
        "        if not isinstance(benchmark, int):\n",
        "            seasonality = 1\n",
        "        else:\n",
        "            seasonality = benchmark\n",
        "\n",
        "        abs_err = np.abs(_error(actual[seasonality:], predicted[seasonality:]))\n",
        "        abs_err_bench = np.abs(_error(actual[seasonality:], _naive_forecasting(actual, seasonality)))\n",
        "    else:\n",
        "        abs_err = np.abs(_error(actual, predicted))\n",
        "        abs_err_bench = np.abs(_error(actual, benchmark))\n",
        "\n",
        "    return abs_err / (abs_err + abs_err_bench + EPSILON)\n",
        "\n",
        "\n",
        "def _geometric_mean(a, axis=0, dtype=None):\n",
        "    \"\"\" Geometric mean \"\"\"\n",
        "    if not isinstance(a, np.ndarray):  # if not an ndarray object attempt to convert it\n",
        "        log_a = np.log(np.array(a, dtype=dtype))\n",
        "    elif dtype:  # Must change the default dtype allowing array type\n",
        "        if isinstance(a, np.ma.MaskedArray):\n",
        "            log_a = np.log(np.ma.asarray(a, dtype=dtype))\n",
        "        else:\n",
        "            log_a = np.log(np.asarray(a, dtype=dtype))\n",
        "    else:\n",
        "        log_a = np.log(a)\n",
        "    return np.exp(log_a.mean(axis=axis))\n",
        "\n",
        "\n",
        "def mae(actual: np.ndarray, predicted: np.ndarray):\n",
        "    \"\"\" Mean Absolute Error \"\"\"\n",
        "    return np.mean(np.abs(_error(actual, predicted)))\n",
        "\n",
        "def mse(actual: np.ndarray, predicted: np.ndarray):\n",
        "    \"\"\" Mean Squared Error \"\"\"\n",
        "    return np.mean(np.square(_error(actual, predicted)))\n",
        "\n",
        "def mape(actual: np.ndarray, predicted: np.ndarray):\n",
        "    \"\"\"\n",
        "    Mean Absolute Percentage Error\n",
        "    Properties:\n",
        "        + Easy to interpret\n",
        "        + Scale independent\n",
        "        - Biased, not symmetric\n",
        "        - Undefined when actual[t] == 0\n",
        "    Note: result is NOT multiplied by 100\n",
        "    \"\"\"\n",
        "    return np.mean(np.abs(_percentage_error(actual, predicted)))\n",
        "\n"
      ],
      "metadata": {
        "id": "bh7I9IxePTbd"
      },
      "execution_count": 9,
      "outputs": []
    },
    {
      "cell_type": "markdown",
      "source": [
        "### mda"
      ],
      "metadata": {
        "id": "OronpTE8OeJC"
      }
    },
    {
      "cell_type": "code",
      "execution_count": 10,
      "metadata": {
        "colab": {
          "base_uri": "https://localhost:8080/"
        },
        "id": "JGRkrIMvLlZE",
        "outputId": "2b1067af-4b0e-404e-c450-0498c97658b6"
      },
      "outputs": [
        {
          "output_type": "execute_result",
          "data": {
            "text/plain": [
              "0.696969696969697"
            ]
          },
          "metadata": {},
          "execution_count": 10
        }
      ],
      "source": [
        "# https://gist.github.com/bshishov/5dc237f59f019b26145648e2124ca1c9#file-forecasting_metrics-py-L259\n",
        "\n",
        "def mda(actual: np.ndarray, predicted: np.ndarray):\n",
        "    \"\"\" Mean Directional Accuracy \"\"\"\n",
        "    return np.mean((np.sign(actual[1:] - actual[:-1]) == np.sign(predicted[1:] - actual[:-1])).astype(int))\n",
        "\n",
        "\n",
        "mda(t11, p11)"
      ]
    },
    {
      "cell_type": "markdown",
      "source": [
        "### mbrae"
      ],
      "metadata": {
        "id": "TkHQGyd5kyaR"
      }
    },
    {
      "cell_type": "code",
      "source": [
        "# https://gist.github.com/bshishov/5dc237f59f019b26145648e2124ca1c9#file-forecasting_metrics-py-L248\n",
        "\n",
        "def mbrae(actual: np.ndarray, predicted: np.ndarray, benchmark: np.ndarray = None):\n",
        "    \"\"\" Mean Bounded Relative Absolute Error \"\"\"\n",
        "    return np.mean(_bounded_relative_error(actual, predicted, benchmark))\n",
        "\n",
        "mbrae(t11, p11)"
      ],
      "metadata": {
        "colab": {
          "base_uri": "https://localhost:8080/"
        },
        "id": "9i5ksZUdPIsJ",
        "outputId": "c425872b-0123-4451-9a72-3065a87f98f3"
      },
      "execution_count": 11,
      "outputs": [
        {
          "output_type": "execute_result",
          "data": {
            "text/plain": [
              "0.46659593775205116"
            ]
          },
          "metadata": {},
          "execution_count": 11
        }
      ]
    },
    {
      "cell_type": "markdown",
      "source": [
        "### umbrae"
      ],
      "metadata": {
        "id": "PAFh1Ldqkz8f"
      }
    },
    {
      "cell_type": "code",
      "source": [
        "# https://gist.github.com/bshishov/5dc237f59f019b26145648e2124ca1c9#file-forecasting_metrics-py-L253\n",
        "def umbrae(actual: np.ndarray, predicted: np.ndarray, benchmark: np.ndarray = None):\n",
        "    \"\"\" Unscaled Mean Bounded Relative Absolute Error \"\"\"\n",
        "    __mbrae = mbrae(actual, predicted, benchmark)\n",
        "    return __mbrae / (1 - __mbrae)\n",
        "\n",
        "umbrae(t11, p11)"
      ],
      "metadata": {
        "colab": {
          "base_uri": "https://localhost:8080/"
        },
        "id": "keFb44nDMdEY",
        "outputId": "92fb6b02-75f7-45b8-e546-21779a8e679a"
      },
      "execution_count": 12,
      "outputs": [
        {
          "output_type": "execute_result",
          "data": {
            "text/plain": [
              "0.8747513766311694"
            ]
          },
          "metadata": {},
          "execution_count": 12
        }
      ]
    },
    {
      "cell_type": "markdown",
      "source": [
        "### gmrae"
      ],
      "metadata": {
        "id": "zkKXcERok1qp"
      }
    },
    {
      "cell_type": "code",
      "source": [
        "# https://gist.github.com/bshishov/5dc237f59f019b26145648e2124ca1c9#file-forecasting_metrics-py-L243\n",
        "\n",
        "def gmrae(actual: np.ndarray, predicted: np.ndarray, benchmark: np.ndarray = None):\n",
        "    \"\"\" Geometric Mean Relative Absolute Error \"\"\"\n",
        "    return _geometric_mean(np.abs(_relative_error(actual, predicted, benchmark)))\n",
        "\n",
        "gmrae(t11, p11)"
      ],
      "metadata": {
        "colab": {
          "base_uri": "https://localhost:8080/"
        },
        "id": "HFEdfusdPuAJ",
        "outputId": "b3c7378f-ba5a-4ee6-b338-c660514ff900"
      },
      "execution_count": 13,
      "outputs": [
        {
          "output_type": "execute_result",
          "data": {
            "text/plain": [
              "0.79938390310645"
            ]
          },
          "metadata": {},
          "execution_count": 13
        }
      ]
    },
    {
      "cell_type": "markdown",
      "source": [
        "### mdrae"
      ],
      "metadata": {
        "id": "JcJx1m8Nk3l0"
      }
    },
    {
      "cell_type": "code",
      "source": [
        "# https://gist.github.com/bshishov/5dc237f59f019b26145648e2124ca1c9#file-forecasting_metrics-py-L238\n",
        "\n",
        "def mdrae(actual: np.ndarray, predicted: np.ndarray, benchmark: np.ndarray = None):\n",
        "    \"\"\" Median Relative Absolute Error \"\"\"\n",
        "    return np.median(np.abs(_relative_error(actual, predicted, benchmark)))\n",
        "\n",
        "mdrae(t11, p11)"
      ],
      "metadata": {
        "colab": {
          "base_uri": "https://localhost:8080/"
        },
        "id": "Ndx1cSRsQIIC",
        "outputId": "1d895f00-c815-412d-8631-1e3db1ec741b"
      },
      "execution_count": 14,
      "outputs": [
        {
          "output_type": "execute_result",
          "data": {
            "text/plain": [
              "0.9086455067666214"
            ]
          },
          "metadata": {},
          "execution_count": 14
        }
      ]
    },
    {
      "cell_type": "markdown",
      "source": [
        "### mrae"
      ],
      "metadata": {
        "id": "vexoJP4ik5dr"
      }
    },
    {
      "cell_type": "code",
      "source": [
        "# https://gist.github.com/bshishov/5dc237f59f019b26145648e2124ca1c9#file-forecasting_metrics-py-L233\n",
        "\n",
        "def mrae(actual: np.ndarray, predicted: np.ndarray, benchmark: np.ndarray = None):\n",
        "    \"\"\" Mean Relative Absolute Error \"\"\"\n",
        "    return np.mean(np.abs(_relative_error(actual, predicted, benchmark)))\n",
        "\n",
        "mrae(t11, p11)"
      ],
      "metadata": {
        "colab": {
          "base_uri": "https://localhost:8080/"
        },
        "id": "z3uAFb9SQeuP",
        "outputId": "59371cc3-acb6-4ab0-b667-19d63b0f237d"
      },
      "execution_count": 15,
      "outputs": [
        {
          "output_type": "execute_result",
          "data": {
            "text/plain": [
              "2.5711621568850163"
            ]
          },
          "metadata": {},
          "execution_count": 15
        }
      ]
    },
    {
      "cell_type": "markdown",
      "source": [
        "### rae"
      ],
      "metadata": {
        "id": "sxtGF-b5k69E"
      }
    },
    {
      "cell_type": "code",
      "source": [
        "# https://gist.github.com/bshishov/5dc237f59f019b26145648e2124ca1c9#file-forecasting_metrics-py-L228\n",
        "\n",
        "def rae(actual: np.ndarray, predicted: np.ndarray):\n",
        "    \"\"\" Relative Absolute Error (aka Approximation Error) \"\"\"\n",
        "    return np.sum(np.abs(actual - predicted)) / (np.sum(np.abs(actual - np.mean(actual))) + EPSILON)\n",
        "\n",
        "rae(t11, p11)"
      ],
      "metadata": {
        "colab": {
          "base_uri": "https://localhost:8080/"
        },
        "id": "AZeW2775Q683",
        "outputId": "7f6b2e18-f0f2-4a0e-d9cd-745861aa3647"
      },
      "execution_count": 16,
      "outputs": [
        {
          "output_type": "execute_result",
          "data": {
            "text/plain": [
              "1.3287945409387383"
            ]
          },
          "metadata": {},
          "execution_count": 16
        }
      ]
    },
    {
      "cell_type": "markdown",
      "source": [
        "### mre"
      ],
      "metadata": {
        "id": "8Cqu2N_uk8gB"
      }
    },
    {
      "cell_type": "code",
      "source": [
        "# https://gist.github.com/bshishov/5dc237f59f019b26145648e2124ca1c9#file-forecasting_metrics-py-L223\n",
        "\n",
        "def mre(actual: np.ndarray, predicted: np.ndarray, benchmark: np.ndarray = None):\n",
        "    \"\"\" Mean Relative Error \"\"\"\n",
        "    return np.mean(_relative_error(actual, predicted, benchmark))\n",
        "\n",
        "mre(t11, p11)"
      ],
      "metadata": {
        "colab": {
          "base_uri": "https://localhost:8080/"
        },
        "id": "DgTpL_j0RgRw",
        "outputId": "3c7ef407-707a-41f7-fa3f-100aa10676dc"
      },
      "execution_count": 17,
      "outputs": [
        {
          "output_type": "execute_result",
          "data": {
            "text/plain": [
              "0.5101139564068491"
            ]
          },
          "metadata": {},
          "execution_count": 17
        }
      ]
    },
    {
      "cell_type": "markdown",
      "source": [
        "### rrse"
      ],
      "metadata": {
        "id": "sY69bVm1k-C4"
      }
    },
    {
      "cell_type": "code",
      "source": [
        "# https://gist.github.com/bshishov/5dc237f59f019b26145648e2124ca1c9#file-forecasting_metrics-py-L223\n",
        "\n",
        "def rrse(actual: np.ndarray, predicted: np.ndarray):\n",
        "    \"\"\" Root Relative Squared Error \"\"\"\n",
        "    return np.sqrt(np.sum(np.square(actual - predicted)) / np.sum(np.square(actual - np.mean(actual))))\n",
        "\n",
        "rrse(t11, p11)"
      ],
      "metadata": {
        "colab": {
          "base_uri": "https://localhost:8080/"
        },
        "id": "y2GH1S18Ttn3",
        "outputId": "d84bb38c-5f5f-440d-ad63-e5d2bf19f059"
      },
      "execution_count": 18,
      "outputs": [
        {
          "output_type": "execute_result",
          "data": {
            "text/plain": [
              "1.4381836641228662"
            ]
          },
          "metadata": {},
          "execution_count": 18
        }
      ]
    },
    {
      "cell_type": "markdown",
      "source": [
        "### inrse"
      ],
      "metadata": {
        "id": "OueeS9JZlANp"
      }
    },
    {
      "cell_type": "code",
      "source": [
        "# https://gist.github.com/bshishov/5dc237f59f019b26145648e2124ca1c9#file-forecasting_metrics-py-L213\n",
        "\n",
        "def inrse(actual: np.ndarray, predicted: np.ndarray):\n",
        "    \"\"\" Integral Normalized Root Squared Error \"\"\"\n",
        "    return np.sqrt(np.sum(np.square(_error(actual, predicted))) / np.sum(np.square(actual - np.mean(actual))))\n",
        "\n",
        "inrse(t11, p11)"
      ],
      "metadata": {
        "colab": {
          "base_uri": "https://localhost:8080/"
        },
        "id": "hdejPhs1VY6Y",
        "outputId": "f9f39b9e-c2b7-4e19-9abc-a7a4424b4cad"
      },
      "execution_count": 19,
      "outputs": [
        {
          "output_type": "execute_result",
          "data": {
            "text/plain": [
              "1.4381836641228662"
            ]
          },
          "metadata": {},
          "execution_count": 19
        }
      ]
    },
    {
      "cell_type": "markdown",
      "source": [
        "### rmsse"
      ],
      "metadata": {
        "id": "CbCimr3nlCEf"
      }
    },
    {
      "cell_type": "code",
      "source": [
        "# https://gist.github.com/bshishov/5dc237f59f019b26145648e2124ca1c9#file-forecasting_metrics-py-L207\n",
        "\n",
        "def rmsse(actual: np.ndarray, predicted: np.ndarray, seasonality: int = 1):\n",
        "    \"\"\" Root Mean Squared Scaled Error \"\"\"\n",
        "    q = np.abs(_error(actual, predicted)) / mae(actual[seasonality:], _naive_forecasting(actual, seasonality))\n",
        "    return np.sqrt(np.mean(np.square(q)))\n",
        "\n",
        "rmsse(t11,p11)"
      ],
      "metadata": {
        "colab": {
          "base_uri": "https://localhost:8080/"
        },
        "id": "nHejm5VDVsRY",
        "outputId": "5a14b5d8-15ba-4383-df00-a6dc727d3c4b"
      },
      "execution_count": 20,
      "outputs": [
        {
          "output_type": "execute_result",
          "data": {
            "text/plain": [
              "1.2234619716320643"
            ]
          },
          "metadata": {},
          "execution_count": 20
        }
      ]
    },
    {
      "cell_type": "markdown",
      "source": [
        "### me"
      ],
      "metadata": {
        "id": "rMatSpWFlDzX"
      }
    },
    {
      "cell_type": "code",
      "source": [
        "# https://gist.github.com/bshishov/5dc237f59f019b26145648e2124ca1c9#file-forecasting_metrics-py-L86\n",
        "\n",
        "def me(actual: np.ndarray, predicted: np.ndarray):\n",
        "    \"\"\" Mean Error \"\"\"\n",
        "    return np.mean(_error(actual, predicted))\n",
        "\n",
        "me(t11, p11)"
      ],
      "metadata": {
        "colab": {
          "base_uri": "https://localhost:8080/"
        },
        "id": "JIZvploGV4hX",
        "outputId": "1ce23bbe-0895-41d6-daa3-5b1b851948c4"
      },
      "execution_count": 21,
      "outputs": [
        {
          "output_type": "execute_result",
          "data": {
            "text/plain": [
              "-0.06738857779448111"
            ]
          },
          "metadata": {},
          "execution_count": 21
        }
      ]
    },
    {
      "cell_type": "markdown",
      "source": [
        "### rmse"
      ],
      "metadata": {
        "id": "qXKzS5H7lPsR"
      }
    },
    {
      "cell_type": "code",
      "source": [
        "# https://gist.github.com/bshishov/5dc237f59f019b26145648e2124ca1c9#file-forecasting_metrics-py-L76\n",
        "\n",
        "def rmse(actual: np.ndarray, predicted: np.ndarray):\n",
        "    \"\"\" Root Mean Squared Error \"\"\"\n",
        "    return np.sqrt(mse(actual, predicted))\n",
        "\n",
        "rmse(t11, p11)"
      ],
      "metadata": {
        "id": "ATiShNhZW5wM",
        "colab": {
          "base_uri": "https://localhost:8080/"
        },
        "outputId": "8cb1c40e-babc-4730-a04d-88b3e3fb99ad"
      },
      "execution_count": 22,
      "outputs": [
        {
          "output_type": "execute_result",
          "data": {
            "text/plain": [
              "0.40289487147518754"
            ]
          },
          "metadata": {},
          "execution_count": 22
        }
      ]
    },
    {
      "cell_type": "markdown",
      "source": [
        "### nrmse"
      ],
      "metadata": {
        "id": "MV018tHxlThi"
      }
    },
    {
      "cell_type": "code",
      "source": [
        "# https://gist.github.com/bshishov/5dc237f59f019b26145648e2124ca1c9#file-forecasting_metrics-py-L81\n",
        "\n",
        "def nrmse(actual: np.ndarray, predicted: np.ndarray):\n",
        "    \"\"\" Normalized Root Mean Squared Error \"\"\"\n",
        "    return rmse(actual, predicted) / (actual.max() - actual.min())\n",
        "\n",
        "nrmse(t11, p11)"
      ],
      "metadata": {
        "colab": {
          "base_uri": "https://localhost:8080/"
        },
        "id": "OSFc291NWte3",
        "outputId": "fa035ba4-bfd9-4dde-f3ac-f8728d0f5c53"
      },
      "execution_count": 23,
      "outputs": [
        {
          "output_type": "execute_result",
          "data": {
            "text/plain": [
              "0.4081874143525102"
            ]
          },
          "metadata": {},
          "execution_count": 23
        }
      ]
    },
    {
      "cell_type": "markdown",
      "source": [
        "### mpe"
      ],
      "metadata": {
        "id": "ObQORHxblVie"
      }
    },
    {
      "cell_type": "code",
      "source": [
        "# https://gist.github.com/bshishov/5dc237f59f019b26145648e2124ca1c9#file-forecasting_metrics-py-L112\n",
        "\n",
        "def mpe(actual: np.ndarray, predicted: np.ndarray):\n",
        "    \"\"\" Mean Percentage Error \"\"\"\n",
        "    return np.mean(_percentage_error(actual, predicted))\n",
        "\n",
        "mpe(t11, p11)"
      ],
      "metadata": {
        "colab": {
          "base_uri": "https://localhost:8080/"
        },
        "id": "Kf7PP8E-W3UT",
        "outputId": "304e8c7f-c57c-4cfb-a330-cdf175d4d383"
      },
      "execution_count": 24,
      "outputs": [
        {
          "output_type": "execute_result",
          "data": {
            "text/plain": [
              "-42.20843064537674"
            ]
          },
          "metadata": {},
          "execution_count": 24
        }
      ]
    },
    {
      "cell_type": "markdown",
      "source": [
        "### gmae"
      ],
      "metadata": {
        "id": "GG-dzj3SlW5p"
      }
    },
    {
      "cell_type": "code",
      "source": [
        "# https://gist.github.com/bshishov/5dc237f59f019b26145648e2124ca1c9#file-forecasting_metrics-py-L102\n",
        "\n",
        "def gmae(actual: np.ndarray, predicted: np.ndarray):\n",
        "    \"\"\" Geometric Mean Absolute Error \"\"\"\n",
        "    return _geometric_mean(np.abs(_error(actual, predicted)))\n",
        "\n",
        "gmae(t11, p11)"
      ],
      "metadata": {
        "id": "i1pZf8M7Xm6w",
        "colab": {
          "base_uri": "https://localhost:8080/"
        },
        "outputId": "0bd9f4d1-d525-4ccc-fb01-8dc596991b9f"
      },
      "execution_count": 25,
      "outputs": [
        {
          "output_type": "execute_result",
          "data": {
            "text/plain": [
              "0.19423992928498718"
            ]
          },
          "metadata": {},
          "execution_count": 25
        }
      ]
    },
    {
      "cell_type": "markdown",
      "source": [
        "### mdape"
      ],
      "metadata": {
        "id": "JqeXBbhLlYR4"
      }
    },
    {
      "cell_type": "code",
      "source": [
        "# https://gist.github.com/bshishov/5dc237f59f019b26145648e2124ca1c9#file-forecasting_metrics-py-L132\n",
        "\n",
        "def mdape(actual: np.ndarray, predicted: np.ndarray):\n",
        "    \"\"\"\n",
        "    Median Absolute Percentage Error\n",
        "    Note: result is NOT multiplied by 100\n",
        "    \"\"\"\n",
        "    return np.median(np.abs(_percentage_error(actual, predicted)))\n",
        "\n",
        "mdape(t11, p11)"
      ],
      "metadata": {
        "colab": {
          "base_uri": "https://localhost:8080/"
        },
        "id": "ulyI8pmbIfl7",
        "outputId": "bf5ebe3f-c488-4b19-ca4a-ae75b65cda34"
      },
      "execution_count": 26,
      "outputs": [
        {
          "output_type": "execute_result",
          "data": {
            "text/plain": [
              "0.513246349701827"
            ]
          },
          "metadata": {},
          "execution_count": 26
        }
      ]
    },
    {
      "cell_type": "markdown",
      "source": [
        "### smape"
      ],
      "metadata": {
        "id": "IWN1Eq2TlZpT"
      }
    },
    {
      "cell_type": "code",
      "source": [
        "# https://gist.github.com/bshishov/5dc237f59f019b26145648e2124ca1c9#file-forecasting_metrics-py-L141\n",
        "\n",
        "def smape(actual: np.ndarray, predicted: np.ndarray):\n",
        "    \"\"\"\n",
        "    Symmetric Mean Absolute Percentage Error\n",
        "    Note: result is NOT multiplied by 100\n",
        "    \"\"\"\n",
        "    return np.mean(2.0 * np.abs(actual - predicted) / ((np.abs(actual) + np.abs(predicted)) + EPSILON))\n",
        "\n",
        "smape(t11, p11)"
      ],
      "metadata": {
        "colab": {
          "base_uri": "https://localhost:8080/"
        },
        "id": "M9sr0l-zIrYo",
        "outputId": "db0ebf3e-73a6-4138-e125-b32dc0833126"
      },
      "execution_count": 27,
      "outputs": [
        {
          "output_type": "execute_result",
          "data": {
            "text/plain": [
              "0.7028826489278417"
            ]
          },
          "metadata": {},
          "execution_count": 27
        }
      ]
    },
    {
      "cell_type": "markdown",
      "source": [
        "### smdape"
      ],
      "metadata": {
        "id": "KWJ782hhlbBj"
      }
    },
    {
      "cell_type": "code",
      "source": [
        "# https://gist.github.com/bshishov/5dc237f59f019b26145648e2124ca1c9#file-forecasting_metrics-py-L150\n",
        "\n",
        "def smdape(actual: np.ndarray, predicted: np.ndarray):\n",
        "    \"\"\"\n",
        "    Symmetric Median Absolute Percentage Error\n",
        "    Note: result is NOT multiplied by 100\n",
        "    \"\"\"\n",
        "    return np.median(2.0 * np.abs(actual - predicted) / ((np.abs(actual) + np.abs(predicted)) + EPSILON))\n",
        "\n",
        "smdape(t11, p11)"
      ],
      "metadata": {
        "colab": {
          "base_uri": "https://localhost:8080/"
        },
        "id": "s55WfQgsI7oh",
        "outputId": "b20baa25-e96a-483a-e88c-e3ee721d1b15"
      },
      "execution_count": 28,
      "outputs": [
        {
          "output_type": "execute_result",
          "data": {
            "text/plain": [
              "0.5999121382638821"
            ]
          },
          "metadata": {},
          "execution_count": 28
        }
      ]
    },
    {
      "cell_type": "markdown",
      "source": [
        "### maape"
      ],
      "metadata": {
        "id": "PDIz_vsplene"
      }
    },
    {
      "cell_type": "code",
      "source": [
        "# https://gist.github.com/bshishov/5dc237f59f019b26145648e2124ca1c9#file-forecasting_metrics-py-L159\n",
        "\n",
        "def maape(actual: np.ndarray, predicted: np.ndarray):\n",
        "    \"\"\"\n",
        "    Mean Arctangent Absolute Percentage Error\n",
        "    Note: result is NOT multiplied by 100\n",
        "    \"\"\"\n",
        "    return np.mean(np.arctan(np.abs((actual - predicted) / (actual + EPSILON))))\n",
        "\n",
        "maape(t11, p11)"
      ],
      "metadata": {
        "colab": {
          "base_uri": "https://localhost:8080/"
        },
        "id": "mS63MtrRJGfk",
        "outputId": "11af2c15-6200-4227-b569-4f8bc2356d30"
      },
      "execution_count": 29,
      "outputs": [
        {
          "output_type": "execute_result",
          "data": {
            "text/plain": [
              "0.5828454707567975"
            ]
          },
          "metadata": {},
          "execution_count": 29
        }
      ]
    },
    {
      "cell_type": "markdown",
      "source": [
        "### mase"
      ],
      "metadata": {
        "id": "IYTopFmelcfL"
      }
    },
    {
      "cell_type": "code",
      "source": [
        "# https://gist.github.com/bshishov/5dc237f59f019b26145648e2124ca1c9#file-forecasting_metrics-py-L168\n",
        "\n",
        "def mase(actual: np.ndarray, predicted: np.ndarray, seasonality: int = 1):\n",
        "    \"\"\"\n",
        "    Mean Absolute Scaled Error\n",
        "    Baseline (benchmark) is computed with naive forecasting (shifted by @seasonality)\n",
        "    \"\"\"\n",
        "    return mae(actual, predicted) / mae(actual[seasonality:], _naive_forecasting(actual, seasonality))\n",
        "\n",
        "mase(t11, p11)"
      ],
      "metadata": {
        "colab": {
          "base_uri": "https://localhost:8080/"
        },
        "id": "tq2U26I4JY6A",
        "outputId": "109dd872-988a-4f34-ee6f-ed758f9a430a"
      },
      "execution_count": 30,
      "outputs": [
        {
          "output_type": "execute_result",
          "data": {
            "text/plain": [
              "0.9609397361653512"
            ]
          },
          "metadata": {},
          "execution_count": 30
        }
      ]
    },
    {
      "cell_type": "markdown",
      "source": [
        "### std_ae\n",
        "renamed as norm_ae in seqmetrics\n"
      ],
      "metadata": {
        "id": "z-W1O1WiJtFT"
      }
    },
    {
      "cell_type": "code",
      "source": [
        "# https://gist.github.com/bshishov/5dc237f59f019b26145648e2124ca1c9#file-forecasting_metrics-py-L177\n",
        "\n",
        "def std_ae(actual: np.ndarray, predicted: np.ndarray):\n",
        "    \"\"\" Normalized Absolute Error \"\"\"\n",
        "    __mae = mae(actual, predicted)\n",
        "    return np.sqrt(np.sum(np.square(_error(actual, predicted) - __mae))/(len(actual) - 1))\n",
        "\n",
        "std_ae(t11, p11)"
      ],
      "metadata": {
        "colab": {
          "base_uri": "https://localhost:8080/"
        },
        "id": "QuXOC5bHJsNe",
        "outputId": "da0fd6fa-fa0f-42aa-db8c-c2d14677acb8"
      },
      "execution_count": 31,
      "outputs": [
        {
          "output_type": "execute_result",
          "data": {
            "text/plain": [
              "0.5551510970200795"
            ]
          },
          "metadata": {},
          "execution_count": 31
        }
      ]
    },
    {
      "cell_type": "markdown",
      "source": [
        "### std_ape\n",
        "\n",
        "renamed as norm_ape in seqmetrics"
      ],
      "metadata": {
        "id": "5Rsyt2iFKPpS"
      }
    },
    {
      "cell_type": "code",
      "source": [
        "# https://gist.github.com/bshishov/5dc237f59f019b26145648e2124ca1c9#file-forecasting_metrics-py-L183\n",
        "\n",
        "def std_ape(actual: np.ndarray, predicted: np.ndarray):\n",
        "    \"\"\" Normalized Absolute Percentage Error \"\"\"\n",
        "    __mape = mape(actual, predicted)\n",
        "    return np.sqrt(np.sum(np.square(_percentage_error(actual, predicted) - __mape))/(len(actual) - 1))\n",
        "\n",
        "std_ape(t11, p11)"
      ],
      "metadata": {
        "colab": {
          "base_uri": "https://localhost:8080/"
        },
        "id": "iyJjpX6dKI3D",
        "outputId": "f074a010-3d67-4795-ddab-12fde05e0125"
      },
      "execution_count": 32,
      "outputs": [
        {
          "output_type": "execute_result",
          "data": {
            "text/plain": [
              "404.0632278812062"
            ]
          },
          "metadata": {},
          "execution_count": 32
        }
      ]
    },
    {
      "cell_type": "markdown",
      "source": [
        "### rmspe"
      ],
      "metadata": {
        "id": "9LFLAY_Rl2w3"
      }
    },
    {
      "cell_type": "code",
      "source": [
        "# https://gist.github.com/bshishov/5dc237f59f019b26145648e2124ca1c9#file-forecasting_metrics-py-L189\n",
        "\n",
        "def rmspe(actual: np.ndarray, predicted: np.ndarray):\n",
        "    \"\"\"\n",
        "    Root Mean Squared Percentage Error\n",
        "    Note: result is NOT multiplied by 100\n",
        "    \"\"\"\n",
        "    return np.sqrt(np.mean(np.square(_percentage_error(actual, predicted))))\n",
        "\n",
        "rmspe(t11, p11)"
      ],
      "metadata": {
        "id": "_1ZI1uUGLrYj",
        "colab": {
          "base_uri": "https://localhost:8080/"
        },
        "outputId": "37bf616b-3a1c-40f4-b405-01eb852f4819"
      },
      "execution_count": 33,
      "outputs": [
        {
          "output_type": "execute_result",
          "data": {
            "text/plain": [
              "395.25283254969173"
            ]
          },
          "metadata": {},
          "execution_count": 33
        }
      ]
    },
    {
      "cell_type": "markdown",
      "source": [
        "### rmdspe"
      ],
      "metadata": {
        "id": "fTQeJpu9l4Tw"
      }
    },
    {
      "cell_type": "code",
      "source": [
        "# https://gist.github.com/bshishov/5dc237f59f019b26145648e2124ca1c9#file-forecasting_metrics-py-L198\n",
        "\n",
        "def rmdspe(actual: np.ndarray, predicted: np.ndarray):\n",
        "    \"\"\"\n",
        "    Root Median Squared Percentage Error\n",
        "    Note: result is NOT multiplied by 100\n",
        "    \"\"\"\n",
        "    return np.sqrt(np.median(np.square(_percentage_error(actual, predicted))))\n",
        "\n",
        "rmdspe(t11, p11)"
      ],
      "metadata": {
        "id": "zTrBYlsmMNcY",
        "colab": {
          "base_uri": "https://localhost:8080/"
        },
        "outputId": "779919fe-2f42-49b6-a2ea-bd66e1596139"
      },
      "execution_count": 34,
      "outputs": [
        {
          "output_type": "execute_result",
          "data": {
            "text/plain": [
              "0.5133222853161394"
            ]
          },
          "metadata": {},
          "execution_count": 34
        }
      ]
    },
    {
      "cell_type": "markdown",
      "source": [
        "### NSE"
      ],
      "metadata": {
        "id": "wrBMOGejPDgL"
      }
    },
    {
      "cell_type": "code",
      "source": [
        "from hydroeval import nse\n",
        "\n",
        "# Calculate NSE\n",
        "nse_value = evaluator(nse, p11, t11)\n",
        "print('NSE:', nse_value[0])\n"
      ],
      "metadata": {
        "colab": {
          "base_uri": "https://localhost:8080/"
        },
        "id": "nK6LAK54RZ-_",
        "outputId": "0ded5c62-a849-41ce-fd43-11622b302ffa"
      },
      "execution_count": 35,
      "outputs": [
        {
          "output_type": "stream",
          "name": "stdout",
          "text": [
            "NSE: -1.0683722517498735\n"
          ]
        }
      ]
    },
    {
      "cell_type": "markdown",
      "source": [
        "### KGE"
      ],
      "metadata": {
        "id": "B7qSbVWZOj08"
      }
    },
    {
      "cell_type": "code",
      "source": [
        "from hydroeval import kge as kge\n",
        "\n",
        "# Calculate KGE\n",
        "kge_value = evaluator(kge, p11, t11)\n",
        "print('KGE:', kge_value[0])"
      ],
      "metadata": {
        "colab": {
          "base_uri": "https://localhost:8080/"
        },
        "id": "4hYqEmi6IMhW",
        "outputId": "6475f23e-bb92-480a-eab6-bbfd9761e9d8"
      },
      "execution_count": 36,
      "outputs": [
        {
          "output_type": "stream",
          "name": "stdout",
          "text": [
            "KGE: [0.00897063]\n"
          ]
        }
      ]
    },
    {
      "cell_type": "markdown",
      "source": [
        "### alpha_nse"
      ],
      "metadata": {
        "id": "qCYtZBNikJJ4"
      }
    },
    {
      "cell_type": "code",
      "source": [
        "\n",
        "from neuralhydrology.evaluation.metrics import alpha_nse\n",
        "\n",
        "alpha_nse(xr.DataArray(t11), xr.DataArray(p11))"
      ],
      "metadata": {
        "colab": {
          "base_uri": "https://localhost:8080/"
        },
        "id": "9H-rAX4KI6wS",
        "outputId": "c6004a5b-5f74-44f0-d5d4-228324d0823c"
      },
      "execution_count": 37,
      "outputs": [
        {
          "output_type": "execute_result",
          "data": {
            "text/plain": [
              "1.0235046034233621"
            ]
          },
          "metadata": {},
          "execution_count": 37
        }
      ]
    },
    {
      "cell_type": "markdown",
      "source": [
        "### beta_nse"
      ],
      "metadata": {
        "id": "rbeCajx2kMH9"
      }
    },
    {
      "cell_type": "code",
      "source": [
        "from neuralhydrology.evaluation.metrics import beta_nse\n",
        "\n",
        "beta_nse(xr.DataArray(t11), xr.DataArray(p11))"
      ],
      "metadata": {
        "colab": {
          "base_uri": "https://localhost:8080/"
        },
        "id": "bJQz9goRKQZq",
        "outputId": "29d69f97-7e56-42e6-d05c-7bd11018482a"
      },
      "execution_count": 38,
      "outputs": [
        {
          "output_type": "execute_result",
          "data": {
            "text/plain": [
              "0.2405519617999516"
            ]
          },
          "metadata": {},
          "execution_count": 38
        }
      ]
    },
    {
      "cell_type": "markdown",
      "source": [
        "### nse_mod"
      ],
      "metadata": {
        "id": "GQL-4pv8kh4E"
      }
    },
    {
      "cell_type": "code",
      "source": [
        "\n",
        "from HydroErr import nse_mod\n",
        "nse_mod(p11, t11)"
      ],
      "metadata": {
        "colab": {
          "base_uri": "https://localhost:8080/"
        },
        "id": "CxdO8nG0MLSf",
        "outputId": "dc8d096c-6029-4a45-88ee-45006bc4ee5a"
      },
      "execution_count": 39,
      "outputs": [
        {
          "output_type": "execute_result",
          "data": {
            "text/plain": [
              "-0.32879454094431804"
            ]
          },
          "metadata": {},
          "execution_count": 39
        }
      ]
    },
    {
      "cell_type": "markdown",
      "source": [
        "### relative nse"
      ],
      "metadata": {
        "id": "m8Gqy6XAdl7b"
      }
    },
    {
      "cell_type": "code",
      "source": [
        "from HydroErr import nse_rel\n",
        "\n",
        "nse_rel(p11, t11)"
      ],
      "metadata": {
        "colab": {
          "base_uri": "https://localhost:8080/"
        },
        "id": "RkPpftIyNSd6",
        "outputId": "626281d6-e7ad-462a-caa2-2182f1b043df"
      },
      "execution_count": 40,
      "outputs": [
        {
          "output_type": "execute_result",
          "data": {
            "text/plain": [
              "-517670.8159599439"
            ]
          },
          "metadata": {},
          "execution_count": 40
        }
      ]
    },
    {
      "cell_type": "markdown",
      "source": [
        "### nse_bound"
      ],
      "metadata": {
        "id": "Eij5uZzij9k8"
      }
    },
    {
      "cell_type": "code",
      "source": [
        "from hydroeval import nse_c2m\n",
        "\n",
        "nse_c2m(p11, t11)"
      ],
      "metadata": {
        "colab": {
          "base_uri": "https://localhost:8080/"
        },
        "id": "TnrGQZttNenq",
        "outputId": "b05d843a-b757-4d00-fcbb-8d6a684256d4"
      },
      "execution_count": 41,
      "outputs": [
        {
          "output_type": "execute_result",
          "data": {
            "text/plain": [
              "-0.34818860428052284"
            ]
          },
          "metadata": {},
          "execution_count": 41
        }
      ]
    },
    {
      "cell_type": "markdown",
      "source": [
        "### kge_bound"
      ],
      "metadata": {
        "id": "GVyIjwhEkUjX"
      }
    },
    {
      "cell_type": "code",
      "source": [
        "\n",
        "from hydroeval import kge_c2m\n",
        "\n",
        "kge_c2m(p11, t11)"
      ],
      "metadata": {
        "colab": {
          "base_uri": "https://localhost:8080/"
        },
        "id": "T5CruG6yOQKp",
        "outputId": "ea58d4b6-f080-4701-c71e-cb557b276376"
      },
      "execution_count": 42,
      "outputs": [
        {
          "output_type": "execute_result",
          "data": {
            "text/plain": [
              "array([0.00450552])"
            ]
          },
          "metadata": {},
          "execution_count": 42
        }
      ]
    },
    {
      "cell_type": "markdown",
      "source": [
        "### kge_mod"
      ],
      "metadata": {
        "id": "9lfMQDyvdi4i"
      }
    },
    {
      "cell_type": "code",
      "source": [
        "\n",
        "from HydroErr import kge_2012\n",
        "\n",
        "kge_2012(p11, t11)"
      ],
      "metadata": {
        "colab": {
          "base_uri": "https://localhost:8080/"
        },
        "id": "iXgOR3sPPe5S",
        "outputId": "4c295d4d-14c6-4126-82b5-08a56bd810ff"
      },
      "execution_count": 43,
      "outputs": [
        {
          "output_type": "execute_result",
          "data": {
            "text/plain": [
              "0.004612979178136856"
            ]
          },
          "metadata": {},
          "execution_count": 43
        }
      ]
    },
    {
      "cell_type": "markdown",
      "source": [
        "### kge_np"
      ],
      "metadata": {
        "id": "45gjOI6xdarK"
      }
    },
    {
      "cell_type": "code",
      "source": [
        "\n",
        "from hydroeval import kgenp\n",
        "\n",
        "evaluator(kgenp, p11, t11)"
      ],
      "metadata": {
        "colab": {
          "base_uri": "https://localhost:8080/"
        },
        "id": "_pnRQRCjQSMS",
        "outputId": "369bcbb1-f2f3-4be0-a677-fce19a412dc5"
      },
      "execution_count": 44,
      "outputs": [
        {
          "output_type": "execute_result",
          "data": {
            "text/plain": [
              "array([[-0.00671877],\n",
              "       [ 0.00244824],\n",
              "       [ 0.96982724],\n",
              "       [ 1.13214686]])"
            ]
          },
          "metadata": {},
          "execution_count": 44
        }
      ]
    },
    {
      "cell_type": "markdown",
      "source": [
        "### pbias"
      ],
      "metadata": {
        "id": "qAml1AbMV-5r"
      }
    },
    {
      "cell_type": "code",
      "source": [
        "\n",
        "from hydroeval import pbias\n",
        "\n",
        "evaluator(pbias, p11, t11)"
      ],
      "metadata": {
        "colab": {
          "base_uri": "https://localhost:8080/"
        },
        "id": "lmB5xdBFRF2x",
        "outputId": "9a219ff0-8006-41f4-c823-d774ad037e5c"
      },
      "execution_count": 45,
      "outputs": [
        {
          "output_type": "execute_result",
          "data": {
            "text/plain": [
              "array([-13.21468573])"
            ]
          },
          "metadata": {},
          "execution_count": 45
        }
      ]
    },
    {
      "cell_type": "code",
      "source": [
        "pbias(p11, t11)"
      ],
      "metadata": {
        "colab": {
          "base_uri": "https://localhost:8080/"
        },
        "id": "HysU9vgE-kAG",
        "outputId": "4a63c6f6-e1e1-4f85-b34b-8e19da1d0e9a"
      },
      "execution_count": 46,
      "outputs": [
        {
          "output_type": "execute_result",
          "data": {
            "text/plain": [
              "-13.21468573369753"
            ]
          },
          "metadata": {},
          "execution_count": 46
        }
      ]
    },
    {
      "cell_type": "code",
      "source": [
        "from skill_metrics import bias_percent\n",
        "\n",
        "bias_percent(p11, t11)"
      ],
      "metadata": {
        "colab": {
          "base_uri": "https://localhost:8080/"
        },
        "id": "VOldMR5eXNLD",
        "outputId": "035cf05c-fd63-4402-8010-c80fdb8deea4"
      },
      "execution_count": 47,
      "outputs": [
        {
          "output_type": "execute_result",
          "data": {
            "text/plain": [
              "13.214685733697538"
            ]
          },
          "metadata": {},
          "execution_count": 47
        }
      ]
    },
    {
      "cell_type": "markdown",
      "source": [
        "### bias"
      ],
      "metadata": {
        "id": "HeZ9kXa9Wl25"
      }
    },
    {
      "cell_type": "code",
      "source": [
        "from skill_metrics import bias"
      ],
      "metadata": {
        "id": "0AQMT8quWjNE"
      },
      "execution_count": 48,
      "outputs": []
    },
    {
      "cell_type": "code",
      "source": [
        "bias(p11, t11)"
      ],
      "metadata": {
        "colab": {
          "base_uri": "https://localhost:8080/"
        },
        "id": "OeNXb3BuVpIB",
        "outputId": "bcde6b9e-866b-4eac-f39a-d269767ff79f"
      },
      "execution_count": 49,
      "outputs": [
        {
          "output_type": "execute_result",
          "data": {
            "text/plain": [
              "0.06738857779448115"
            ]
          },
          "metadata": {},
          "execution_count": 49
        }
      ]
    },
    {
      "cell_type": "markdown",
      "source": [
        "### gmae"
      ],
      "metadata": {
        "id": "hiiBDAhbYJPm"
      }
    },
    {
      "cell_type": "code",
      "source": [
        "\n",
        "# https://gist.github.com/bshishov/5dc237f59f019b26145648e2124ca1c9#file-forecasting_metrics-py-L102\n",
        "\n",
        "def gmae(actual: np.ndarray, predicted: np.ndarray):\n",
        "    \"\"\" Geometric Mean Absolute Error \"\"\"\n",
        "    return _geometric_mean(np.abs(_error(actual, predicted)))\n",
        "\n",
        "gmae(t11, p11)"
      ],
      "metadata": {
        "colab": {
          "base_uri": "https://localhost:8080/"
        },
        "id": "JkPyt3A2Xlvo",
        "outputId": "cb29b39c-b202-4847-f83d-08953b03a0d3"
      },
      "execution_count": 50,
      "outputs": [
        {
          "output_type": "execute_result",
          "data": {
            "text/plain": [
              "0.19423992928498718"
            ]
          },
          "metadata": {},
          "execution_count": 50
        }
      ]
    },
    {
      "cell_type": "markdown",
      "source": [
        "### mase"
      ],
      "metadata": {
        "id": "g_3Sr6CNYKdK"
      }
    },
    {
      "cell_type": "code",
      "source": [
        "\n",
        "# https://gist.github.com/bshishov/5dc237f59f019b26145648e2124ca1c9#file-forecasting_metrics-py-L168\n",
        "\n",
        "def mase(actual: np.ndarray, predicted: np.ndarray, seasonality: int = 1):\n",
        "    \"\"\"\n",
        "    Mean Absolute Scaled Error\n",
        "    Baseline (benchmark) is computed with naive forecasting (shifted by @seasonality)\n",
        "    \"\"\"\n",
        "    return mae(actual, predicted) / mae(actual[seasonality:], _naive_forecasting(actual, seasonality))\n",
        "\n",
        "mase(t11, p11)"
      ],
      "metadata": {
        "colab": {
          "base_uri": "https://localhost:8080/"
        },
        "id": "aEI-kET2XsA6",
        "outputId": "d8cc9fc3-223a-498f-a9b0-d76fce7d4567"
      },
      "execution_count": 51,
      "outputs": [
        {
          "output_type": "execute_result",
          "data": {
            "text/plain": [
              "0.9609397361653512"
            ]
          },
          "metadata": {},
          "execution_count": 51
        }
      ]
    },
    {
      "cell_type": "markdown",
      "source": [
        "### fdc_fhv"
      ],
      "metadata": {
        "id": "GH3G2WHXZdIx"
      }
    },
    {
      "cell_type": "code",
      "source": [
        "from neuralhydrology.evaluation.metrics import fdc_fhv"
      ],
      "metadata": {
        "id": "QkjeCj2vYRsx"
      },
      "execution_count": 52,
      "outputs": []
    },
    {
      "cell_type": "code",
      "source": [
        "fdc_fhv(xr.DataArray(t11), xr.DataArray(p11))"
      ],
      "metadata": {
        "colab": {
          "base_uri": "https://localhost:8080/"
        },
        "id": "O61RPIq7Zkah",
        "outputId": "eb60b992-2d2e-4074-c200-3581d87c5e42"
      },
      "execution_count": 53,
      "outputs": [
        {
          "output_type": "execute_result",
          "data": {
            "text/plain": [
              "1.5933766138626262"
            ]
          },
          "metadata": {},
          "execution_count": 53
        }
      ]
    },
    {
      "cell_type": "markdown",
      "source": [
        "### fdc_flv"
      ],
      "metadata": {
        "id": "YjwP8Il-Z6vn"
      }
    },
    {
      "cell_type": "code",
      "source": [
        "from neuralhydrology.evaluation.metrics import fdc_flv"
      ],
      "metadata": {
        "id": "M2GVY5lfZoop"
      },
      "execution_count": 54,
      "outputs": []
    },
    {
      "cell_type": "code",
      "source": [
        "fdc_flv(xr.DataArray(t11), xr.DataArray(p11))"
      ],
      "metadata": {
        "colab": {
          "base_uri": "https://localhost:8080/"
        },
        "id": "y3G8MtF1Z9pJ",
        "outputId": "f50d788f-79f4-42f4-bb46-4bdf335f54b5"
      },
      "execution_count": 55,
      "outputs": [
        {
          "output_type": "execute_result",
          "data": {
            "text/plain": [
              "32.64817835760714"
            ]
          },
          "metadata": {},
          "execution_count": 55
        }
      ]
    },
    {
      "cell_type": "markdown",
      "source": [
        "### maape"
      ],
      "metadata": {
        "id": "Ol_ibnZsbcT5"
      }
    },
    {
      "cell_type": "code",
      "source": [
        "# https://gist.github.com/bshishov/5dc237f59f019b26145648e2124ca1c9#file-forecasting_metrics-py-L159\n",
        "\n",
        "def maape(actual: np.ndarray, predicted: np.ndarray):\n",
        "    \"\"\"\n",
        "    Mean Arctangent Absolute Percentage Error\n",
        "    Note: result is NOT multiplied by 100\n",
        "    \"\"\"\n",
        "    return np.mean(np.arctan(np.abs((actual - predicted) / (actual + EPSILON))))\n",
        "\n",
        "maape(t11, p11)"
      ],
      "metadata": {
        "colab": {
          "base_uri": "https://localhost:8080/"
        },
        "id": "ne0aVv9cbbfE",
        "outputId": "f85e0568-961c-49a6-99c1-1a3c3ece737b"
      },
      "execution_count": 56,
      "outputs": [
        {
          "output_type": "execute_result",
          "data": {
            "text/plain": [
              "0.5828454707567975"
            ]
          },
          "metadata": {},
          "execution_count": 56
        }
      ]
    },
    {
      "cell_type": "markdown",
      "source": [
        "### lm_index"
      ],
      "metadata": {
        "id": "xkxoDmOTb4Zf"
      }
    },
    {
      "cell_type": "code",
      "source": [
        "from HydroErr import lm_index\n",
        "\n",
        "lm_index(p11, t11)"
      ],
      "metadata": {
        "colab": {
          "base_uri": "https://localhost:8080/"
        },
        "id": "DXdI61G3Z_ba",
        "outputId": "986b6799-a23b-41e3-f36e-0e2e33f4266b"
      },
      "execution_count": 57,
      "outputs": [
        {
          "output_type": "execute_result",
          "data": {
            "text/plain": [
              "-0.32879454094431804"
            ]
          },
          "metadata": {},
          "execution_count": 57
        }
      ]
    },
    {
      "cell_type": "markdown",
      "source": [
        "### kgenp_bound"
      ],
      "metadata": {
        "id": "IQuDL-69cogG"
      }
    },
    {
      "cell_type": "code",
      "source": [
        "from hydroeval import kgenp_c2m"
      ],
      "metadata": {
        "id": "wqONls7YcD4I"
      },
      "execution_count": 58,
      "outputs": []
    },
    {
      "cell_type": "code",
      "source": [
        "evaluator(kgenp_c2m, p11, t11)"
      ],
      "metadata": {
        "colab": {
          "base_uri": "https://localhost:8080/"
        },
        "id": "QsOTgn51cq9q",
        "outputId": "bf9dc8ba-6c6f-4def-cea2-b49a9c269872"
      },
      "execution_count": 59,
      "outputs": [
        {
          "output_type": "execute_result",
          "data": {
            "text/plain": [
              "array([-0.00334814])"
            ]
          },
          "metadata": {},
          "execution_count": 59
        }
      ]
    },
    {
      "cell_type": "markdown",
      "source": [
        "### kgeprime_c2m"
      ],
      "metadata": {
        "id": "uXIlEva_dBo_"
      }
    },
    {
      "cell_type": "code",
      "source": [
        "from hydroeval import kgeprime_c2m"
      ],
      "metadata": {
        "id": "bIkCrhKldD3C"
      },
      "execution_count": 60,
      "outputs": []
    },
    {
      "cell_type": "code",
      "source": [
        "evaluator(kgeprime_c2m, p11, t11)"
      ],
      "metadata": {
        "colab": {
          "base_uri": "https://localhost:8080/"
        },
        "id": "guAjd31ldhf5",
        "outputId": "13851452-29cd-46be-a3e9-ba88f78403ec"
      },
      "execution_count": 61,
      "outputs": [
        {
          "output_type": "execute_result",
          "data": {
            "text/plain": [
              "array([0.00231182])"
            ]
          },
          "metadata": {},
          "execution_count": 61
        }
      ]
    },
    {
      "cell_type": "markdown",
      "source": [
        "### mle"
      ],
      "metadata": {
        "id": "hiTfFYjceEfI"
      }
    },
    {
      "cell_type": "code",
      "source": [
        "from HydroErr import mle"
      ],
      "metadata": {
        "id": "2ZT3M_P4eDr7"
      },
      "execution_count": 62,
      "outputs": []
    },
    {
      "cell_type": "code",
      "source": [
        "mle(p11, t11)"
      ],
      "metadata": {
        "colab": {
          "base_uri": "https://localhost:8080/"
        },
        "id": "EdLIKH6jdjhR",
        "outputId": "1c208b6c-8ed7-438a-bcff-4eb74a794928"
      },
      "execution_count": 63,
      "outputs": [
        {
          "output_type": "execute_result",
          "data": {
            "text/plain": [
              "0.0438958324374804"
            ]
          },
          "metadata": {},
          "execution_count": 63
        }
      ]
    },
    {
      "cell_type": "markdown",
      "source": [
        "### modified agreement of index"
      ],
      "metadata": {
        "id": "aF7NVQ-jedtp"
      }
    },
    {
      "cell_type": "code",
      "source": [
        "from HydroErr import dmod"
      ],
      "metadata": {
        "id": "29V17CSeeKFZ"
      },
      "execution_count": 64,
      "outputs": []
    },
    {
      "cell_type": "code",
      "source": [
        "dmod(p11, t11)"
      ],
      "metadata": {
        "colab": {
          "base_uri": "https://localhost:8080/"
        },
        "id": "fVNA5wwYecDB",
        "outputId": "87bcf370-3391-4e06-d129-1cf53da0d7b8"
      },
      "execution_count": 65,
      "outputs": [
        {
          "output_type": "execute_result",
          "data": {
            "text/plain": [
              "0.36018092524466827"
            ]
          },
          "metadata": {},
          "execution_count": 65
        }
      ]
    },
    {
      "cell_type": "markdown",
      "source": [
        "### mpe"
      ],
      "metadata": {
        "id": "IxeOXw9KewY3"
      }
    },
    {
      "cell_type": "code",
      "source": [
        "# https://gist.github.com/bshishov/5dc237f59f019b26145648e2124ca1c9#file-forecasting_metrics-py-L112\n",
        "\n",
        "def mpe(actual: np.ndarray, predicted: np.ndarray):\n",
        "    \"\"\" Mean Percentage Error \"\"\"\n",
        "    return np.mean(_percentage_error(actual, predicted))"
      ],
      "metadata": {
        "id": "l5mftGX7edEy"
      },
      "execution_count": 66,
      "outputs": []
    },
    {
      "cell_type": "code",
      "source": [
        "mpe(t11, p11)"
      ],
      "metadata": {
        "colab": {
          "base_uri": "https://localhost:8080/"
        },
        "id": "0U2aPCluex_R",
        "outputId": "b6d1df92-10ed-4cf2-e195-07471d765e28"
      },
      "execution_count": 67,
      "outputs": [
        {
          "output_type": "execute_result",
          "data": {
            "text/plain": [
              "-42.20843064537674"
            ]
          },
          "metadata": {},
          "execution_count": 67
        }
      ]
    },
    {
      "cell_type": "markdown",
      "source": [
        "### mrae"
      ],
      "metadata": {
        "id": "yNPJO1s3fBbj"
      }
    },
    {
      "cell_type": "code",
      "source": [
        "# https://gist.github.com/bshishov/5dc237f59f019b26145648e2124ca1c9#file-forecasting_metrics-py-L233\n",
        "\n",
        "def mrae(actual: np.ndarray, predicted: np.ndarray, benchmark: np.ndarray = None):\n",
        "    \"\"\" Mean Relative Absolute Error \"\"\"\n",
        "    return np.mean(np.abs(_relative_error(actual, predicted, benchmark)))\n",
        "\n",
        "mrae(t11, p11)"
      ],
      "metadata": {
        "colab": {
          "base_uri": "https://localhost:8080/"
        },
        "id": "SiFgWoEWezO5",
        "outputId": "66f49399-6956-49fb-d000-bb2a8fc29dc1"
      },
      "execution_count": 68,
      "outputs": [
        {
          "output_type": "execute_result",
          "data": {
            "text/plain": [
              "2.5711621568850163"
            ]
          },
          "metadata": {},
          "execution_count": 68
        }
      ]
    },
    {
      "cell_type": "markdown",
      "source": [
        "### nrmse"
      ],
      "metadata": {
        "id": "mFzNpcYufPIB"
      }
    },
    {
      "cell_type": "code",
      "source": [
        "# https://gist.github.com/bshishov/5dc237f59f019b26145648e2124ca1c9#file-forecasting_metrics-py-L81\n",
        "\n",
        "def nrmse(actual: np.ndarray, predicted: np.ndarray):\n",
        "    \"\"\" Normalized Root Mean Squared Error \"\"\"\n",
        "    return rmse(actual, predicted) / (actual.max() - actual.min())\n",
        "\n",
        "nrmse(t11, p11)"
      ],
      "metadata": {
        "colab": {
          "base_uri": "https://localhost:8080/"
        },
        "id": "PMBRWKArfDdh",
        "outputId": "d875ae3d-508d-4f8b-ee6f-15588a49c63a"
      },
      "execution_count": 69,
      "outputs": [
        {
          "output_type": "execute_result",
          "data": {
            "text/plain": [
              "0.4081874143525102"
            ]
          },
          "metadata": {},
          "execution_count": 69
        }
      ]
    },
    {
      "cell_type": "markdown",
      "source": [
        "### nrmse_ipercentile"
      ],
      "metadata": {
        "id": "K_NEN1P0gGu3"
      }
    },
    {
      "cell_type": "code",
      "source": [
        "from HydroErr import nrmse_iqr\n",
        "\n",
        "nrmse_iqr(p11, t11)"
      ],
      "metadata": {
        "colab": {
          "base_uri": "https://localhost:8080/"
        },
        "id": "lYbkRdzQfRMJ",
        "outputId": "beb94a05-7d37-40b6-ec03-c485a5e565af"
      },
      "execution_count": 70,
      "outputs": [
        {
          "output_type": "execute_result",
          "data": {
            "text/plain": [
              "0.8187123709758822"
            ]
          },
          "metadata": {},
          "execution_count": 70
        }
      ]
    },
    {
      "cell_type": "markdown",
      "source": [
        "### nrmse_mean"
      ],
      "metadata": {
        "id": "mrgXkctAgNZU"
      }
    },
    {
      "cell_type": "code",
      "source": [
        "from HydroErr import nrmse_mean\n",
        "\n",
        "nrmse_mean(p11, t11)"
      ],
      "metadata": {
        "colab": {
          "base_uri": "https://localhost:8080/"
        },
        "id": "jf8M2hoEgAwy",
        "outputId": "59467f63-1ac3-4e32-af53-0505bd39e4d6"
      },
      "execution_count": 71,
      "outputs": [
        {
          "output_type": "execute_result",
          "data": {
            "text/plain": [
              "0.790064026354788"
            ]
          },
          "metadata": {},
          "execution_count": 71
        }
      ]
    },
    {
      "cell_type": "markdown",
      "source": [
        "### acc"
      ],
      "metadata": {
        "id": "iQRYUiTAgwiU"
      }
    },
    {
      "cell_type": "code",
      "source": [
        "from HydroErr import acc\n",
        "\n",
        "acc(p11, t11)"
      ],
      "metadata": {
        "colab": {
          "base_uri": "https://localhost:8080/"
        },
        "id": "ZA7ZBWtVgQEW",
        "outputId": "76b1917e-44d1-4233-dab5-1a8c30c2eb8a"
      },
      "execution_count": 72,
      "outputs": [
        {
          "output_type": "execute_result",
          "data": {
            "text/plain": [
              "0.0179208383645756"
            ]
          },
          "metadata": {},
          "execution_count": 72
        }
      ]
    },
    {
      "cell_type": "markdown",
      "source": [
        "### ve"
      ],
      "metadata": {
        "id": "7YotE-TgiVSJ"
      }
    },
    {
      "cell_type": "code",
      "source": [
        "from HydroErr import ve\n",
        "\n",
        "ve(p11, t11)"
      ],
      "metadata": {
        "colab": {
          "base_uri": "https://localhost:8080/"
        },
        "id": "CplyykoYgzYD",
        "outputId": "4ac745ee-54b9-4d70-e98a-befc33087082"
      },
      "execution_count": 73,
      "outputs": [
        {
          "output_type": "execute_result",
          "data": {
            "text/plain": [
              "0.3794625949621073"
            ]
          },
          "metadata": {},
          "execution_count": 73
        }
      ]
    },
    {
      "cell_type": "markdown",
      "source": [
        "### watt_m"
      ],
      "metadata": {
        "id": "b9b62Zbqjd7_"
      }
    },
    {
      "cell_type": "code",
      "source": [
        "from HydroErr import watt_m\n",
        "\n",
        "watt_m(p11, t11)"
      ],
      "metadata": {
        "colab": {
          "base_uri": "https://localhost:8080/"
        },
        "id": "KLmMy0CZiMNA",
        "outputId": "cbb47b69-e270-43dc-bc15-aa06b7530f5c"
      },
      "execution_count": 74,
      "outputs": [
        {
          "output_type": "execute_result",
          "data": {
            "text/plain": [
              "0.017290316806567577"
            ]
          },
          "metadata": {},
          "execution_count": 74
        }
      ]
    },
    {
      "cell_type": "markdown",
      "source": [
        "### skill score murphy"
      ],
      "metadata": {
        "id": "PYddFyl3jU4E"
      }
    },
    {
      "cell_type": "code",
      "source": [
        "from skill_metrics import skill_score_murphy\n",
        "\n",
        "skill_score_murphy(p11, t11)"
      ],
      "metadata": {
        "colab": {
          "base_uri": "https://localhost:8080/"
        },
        "id": "OVvFMI85ijT6",
        "outputId": "ebbba198-bbe3-4535-b67d-234797654d75"
      },
      "execution_count": 75,
      "outputs": [
        {
          "output_type": "execute_result",
          "data": {
            "text/plain": [
              "-1.0476885292323743"
            ]
          },
          "metadata": {},
          "execution_count": 75
        }
      ]
    },
    {
      "cell_type": "markdown",
      "source": [
        "### sid"
      ],
      "metadata": {
        "id": "TKnpszS4jokb"
      }
    },
    {
      "cell_type": "code",
      "source": [
        "from HydroErr import sid\n",
        "\n",
        "sid(p11, t11)"
      ],
      "metadata": {
        "colab": {
          "base_uri": "https://localhost:8080/"
        },
        "id": "35xlYf8_jZAB",
        "outputId": "35866531-2364-465e-9a6f-2f0c56c1d565"
      },
      "execution_count": 76,
      "outputs": [
        {
          "output_type": "execute_result",
          "data": {
            "text/plain": [
              "43.71192101756139"
            ]
          },
          "metadata": {},
          "execution_count": 76
        }
      ]
    },
    {
      "cell_type": "markdown",
      "source": [
        "### smdape"
      ],
      "metadata": {
        "id": "bCu8ccflka7Y"
      }
    },
    {
      "cell_type": "code",
      "source": [
        "# https://gist.github.com/bshishov/5dc237f59f019b26145648e2124ca1c9#file-forecasting_metrics-py-L150\n",
        "\n",
        "def smdape(actual: np.ndarray, predicted: np.ndarray):\n",
        "    \"\"\"\n",
        "    Symmetric Median Absolute Percentage Error\n",
        "    Note: result is NOT multiplied by 100\n",
        "    \"\"\"\n",
        "    return np.median(2.0 * np.abs(actual - predicted) / ((np.abs(actual) + np.abs(predicted)) + EPSILON))\n",
        "\n",
        "smdape(t11, p11)"
      ],
      "metadata": {
        "colab": {
          "base_uri": "https://localhost:8080/"
        },
        "id": "nJfZxjerjrRC",
        "outputId": "d68498b0-ac83-4dcd-9822-54a5913167d0"
      },
      "execution_count": 77,
      "outputs": [
        {
          "output_type": "execute_result",
          "data": {
            "text/plain": [
              "0.5999121382638821"
            ]
          },
          "metadata": {},
          "execution_count": 77
        }
      ]
    },
    {
      "cell_type": "markdown",
      "source": [
        "### smape"
      ],
      "metadata": {
        "id": "7jcmPOiek6SQ"
      }
    },
    {
      "cell_type": "code",
      "source": [
        "from HydroErr import smape2\n",
        "\n",
        "smape2(p11, t11)"
      ],
      "metadata": {
        "colab": {
          "base_uri": "https://localhost:8080/"
        },
        "id": "L5kd4S1rkeGh",
        "outputId": "30e8c6b2-8bd9-4e31-d60f-feee892ee670"
      },
      "execution_count": 78,
      "outputs": [
        {
          "output_type": "execute_result",
          "data": {
            "text/plain": [
              "70.28826490215243"
            ]
          },
          "metadata": {},
          "execution_count": 78
        }
      ]
    },
    {
      "cell_type": "markdown",
      "source": [
        "### sc"
      ],
      "metadata": {
        "id": "I_k2voGymyrB"
      }
    },
    {
      "cell_type": "code",
      "source": [
        "from HydroErr import sc\n",
        "\n",
        "sc(p11, t11)"
      ],
      "metadata": {
        "colab": {
          "base_uri": "https://localhost:8080/"
        },
        "id": "thY9ZVtakrRw",
        "outputId": "b9a84692-4105-43f1-ff71-3cdfe93d15fb"
      },
      "execution_count": 79,
      "outputs": [
        {
          "output_type": "execute_result",
          "data": {
            "text/plain": [
              "1.5526934811208075"
            ]
          },
          "metadata": {},
          "execution_count": 79
        }
      ]
    },
    {
      "cell_type": "markdown",
      "source": [
        "### sa"
      ],
      "metadata": {
        "id": "KD27a3IHm_fz"
      }
    },
    {
      "cell_type": "code",
      "source": [
        "from HydroErr import sa\n",
        "\n",
        "sa(p11, t11)"
      ],
      "metadata": {
        "colab": {
          "base_uri": "https://localhost:8080/"
        },
        "id": "ZW7cMb4Mm0_R",
        "outputId": "200564ec-01c5-4f16-9f44-eb5467132e30"
      },
      "execution_count": 80,
      "outputs": [
        {
          "output_type": "execute_result",
          "data": {
            "text/plain": [
              "0.6618474080345743"
            ]
          },
          "metadata": {},
          "execution_count": 80
        }
      ]
    },
    {
      "cell_type": "markdown",
      "source": [
        "### rmspe"
      ],
      "metadata": {
        "id": "qVris_Lenc54"
      }
    },
    {
      "cell_type": "code",
      "source": [
        "# https://gist.github.com/bshishov/5dc237f59f019b26145648e2124ca1c9#file-forecasting_metrics-py-L189\n",
        "\n",
        "def rmspe(actual: np.ndarray, predicted: np.ndarray):\n",
        "    \"\"\"\n",
        "    Root Mean Squared Percentage Error\n",
        "    Note: result is NOT multiplied by 100\n",
        "    \"\"\"\n",
        "    return np.sqrt(np.mean(np.square(_percentage_error(actual, predicted))))\n",
        "\n",
        "rmspe(t11, p11)"
      ],
      "metadata": {
        "colab": {
          "base_uri": "https://localhost:8080/"
        },
        "id": "Zkq43capnBoq",
        "outputId": "395b2267-6f42-4d0c-e0d5-2cd05314bdf5"
      },
      "execution_count": 81,
      "outputs": [
        {
          "output_type": "execute_result",
          "data": {
            "text/plain": [
              "395.25283254969173"
            ]
          },
          "metadata": {},
          "execution_count": 81
        }
      ]
    },
    {
      "cell_type": "markdown",
      "source": [
        "### relative agreement index"
      ],
      "metadata": {
        "id": "1nxcPbtzoOON"
      }
    },
    {
      "cell_type": "code",
      "source": [
        "from HydroErr import drel\n",
        "\n",
        "drel(p11, t11)"
      ],
      "metadata": {
        "colab": {
          "base_uri": "https://localhost:8080/"
        },
        "id": "DxbfFs4dne8Z",
        "outputId": "0d4a81a0-13d8-490b-801c-3a0ff3164be5"
      },
      "execution_count": 82,
      "outputs": [
        {
          "output_type": "execute_result",
          "data": {
            "text/plain": [
              "-139396.49261170527"
            ]
          },
          "metadata": {},
          "execution_count": 82
        }
      ]
    },
    {
      "cell_type": "markdown",
      "source": [
        "### refined agreement index"
      ],
      "metadata": {
        "id": "QI7fu95NojD-"
      }
    },
    {
      "cell_type": "code",
      "source": [
        "from HydroErr import dr\n",
        "\n",
        "dr(p11, t11)"
      ],
      "metadata": {
        "colab": {
          "base_uri": "https://localhost:8080/"
        },
        "id": "iExacSqMoSn1",
        "outputId": "27fe257b-6eae-4c0c-d995-934294ef1116"
      },
      "execution_count": 83,
      "outputs": [
        {
          "output_type": "execute_result",
          "data": {
            "text/plain": [
              "0.335602729527841"
            ]
          },
          "metadata": {},
          "execution_count": 83
        }
      ]
    },
    {
      "cell_type": "markdown",
      "source": [
        "### rmdspe"
      ],
      "metadata": {
        "id": "8vHlMiktpFxO"
      }
    },
    {
      "cell_type": "code",
      "source": [
        "# https://gist.github.com/bshishov/5dc237f59f019b26145648e2124ca1c9#file-forecasting_metrics-py-L198\n",
        "\n",
        "def rmdspe(actual: np.ndarray, predicted: np.ndarray):\n",
        "    \"\"\"\n",
        "    Root Median Squared Percentage Error\n",
        "    Note: result is NOT multiplied by 100\n",
        "    \"\"\"\n",
        "    return np.sqrt(np.median(np.square(_percentage_error(actual, predicted))))\n",
        "\n",
        "rmdspe(t11, p11)"
      ],
      "metadata": {
        "colab": {
          "base_uri": "https://localhost:8080/"
        },
        "id": "bnH_VV2coklf",
        "outputId": "2e9ad7ee-76db-4629-fc6f-9bf9018855ed"
      },
      "execution_count": 84,
      "outputs": [
        {
          "output_type": "execute_result",
          "data": {
            "text/plain": [
              "0.5133222853161394"
            ]
          },
          "metadata": {},
          "execution_count": 84
        }
      ]
    },
    {
      "cell_type": "markdown",
      "source": [
        "### normalized ape"
      ],
      "metadata": {
        "id": "Bcjsqk-pph5f"
      }
    },
    {
      "cell_type": "code",
      "source": [
        "def mape(actual: np.ndarray, predicted: np.ndarray):\n",
        "    \"\"\"\n",
        "    Mean Absolute Percentage Error\n",
        "    Properties:\n",
        "        + Easy to interpret\n",
        "        + Scale independent\n",
        "        - Biased, not symmetric\n",
        "        - Undefined when actual[t] == 0\n",
        "    Note: result is NOT multiplied by 100\n",
        "    \"\"\"\n",
        "    return np.mean(np.abs(_percentage_error(actual, predicted)))\n",
        "\n",
        "# https://gist.github.com/bshishov/5dc237f59f019b26145648e2124ca1c9#file-forecasting_metrics-py-L183\n",
        "def std_ape(actual: np.ndarray, predicted: np.ndarray):\n",
        "    \"\"\" Normalized Absolute Percentage Error \"\"\"\n",
        "    __mape = mape(actual, predicted)\n",
        "    return np.sqrt(np.sum(np.square(_percentage_error(actual, predicted) - __mape))/(len(actual) - 1))\n",
        "\n",
        "std_ape(t11, p11)"
      ],
      "metadata": {
        "colab": {
          "base_uri": "https://localhost:8080/"
        },
        "id": "eeM2g22tphMC",
        "outputId": "83b9647b-c932-4bbe-df0a-f6c99d2adc0c"
      },
      "execution_count": 85,
      "outputs": [
        {
          "output_type": "execute_result",
          "data": {
            "text/plain": [
              "404.0632278812062"
            ]
          },
          "metadata": {},
          "execution_count": 85
        }
      ]
    },
    {
      "cell_type": "markdown",
      "source": [
        "### normalized ae"
      ],
      "metadata": {
        "id": "iKrSTuRop0rT"
      }
    },
    {
      "cell_type": "code",
      "source": [
        "# https://gist.github.com/bshishov/5dc237f59f019b26145648e2124ca1c9#file-forecasting_metrics-py-L177\n",
        "\n",
        "def std_ae(actual: np.ndarray, predicted: np.ndarray):\n",
        "    \"\"\" Normalized Absolute Error \"\"\"\n",
        "    __mae = mae(actual, predicted)\n",
        "    return np.sqrt(np.sum(np.square(_error(actual, predicted) - __mae))/(len(actual) - 1))\n",
        "\n",
        "std_ae(t11, p11)"
      ],
      "metadata": {
        "colab": {
          "base_uri": "https://localhost:8080/"
        },
        "id": "3jDnwAkrpIih",
        "outputId": "10a55814-d6ac-4e09-90a8-ce9227e5efc8"
      },
      "execution_count": 86,
      "outputs": [
        {
          "output_type": "execute_result",
          "data": {
            "text/plain": [
              "0.5551510970200795"
            ]
          },
          "metadata": {},
          "execution_count": 86
        }
      ]
    },
    {
      "cell_type": "markdown",
      "source": [
        "### normalized euclid distance"
      ],
      "metadata": {
        "id": "-JIFI3e8qHbF"
      }
    },
    {
      "cell_type": "code",
      "source": [
        "from HydroErr import ned\n",
        "\n",
        "ned(p11, t11)"
      ],
      "metadata": {
        "colab": {
          "base_uri": "https://localhost:8080/"
        },
        "id": "fxXMH1jhp2op",
        "outputId": "d989ddcc-8c6a-44b7-ea76-6bb087b5fb9f"
      },
      "execution_count": 87,
      "outputs": [
        {
          "output_type": "execute_result",
          "data": {
            "text/plain": [
              "7.338597737626875"
            ]
          },
          "metadata": {},
          "execution_count": 87
        }
      ]
    },
    {
      "cell_type": "markdown",
      "source": [
        "### euclid distance"
      ],
      "metadata": {
        "id": "AyvSw6fOqgWo"
      }
    },
    {
      "cell_type": "code",
      "source": [
        "from HydroErr import ed\n",
        "\n",
        "ed(p11, t11)"
      ],
      "metadata": {
        "colab": {
          "base_uri": "https://localhost:8080/"
        },
        "id": "kXOkAs76qPnJ",
        "outputId": "b9fa1785-8cb4-46c6-b88e-33597144787a"
      },
      "execution_count": 88,
      "outputs": [
        {
          "output_type": "execute_result",
          "data": {
            "text/plain": [
              "4.028948714751875"
            ]
          },
          "metadata": {},
          "execution_count": 88
        }
      ]
    },
    {
      "cell_type": "markdown",
      "source": [
        "# relative rmse"
      ],
      "metadata": {
        "id": "ZjK41tFktdLW"
      }
    },
    {
      "cell_type": "code",
      "source": [
        "# https://stackoverflow.com/a/41749834\n",
        "# https://stackoverflow.com/q/69360839\n",
        "# https://gist.github.com/AayushSameerShah/baeedbbb52fe808874d6debb7e786183\n"
      ],
      "metadata": {
        "id": "UlKktcgNqipi"
      },
      "execution_count": 89,
      "outputs": []
    },
    {
      "cell_type": "markdown",
      "source": [
        "### mean variance"
      ],
      "metadata": {
        "id": "4ztpUIUXxMxC"
      }
    },
    {
      "cell_type": "code",
      "source": [
        "from HydroErr import mean_var\n",
        "\n",
        "mean_var(p11, t11)"
      ],
      "metadata": {
        "colab": {
          "base_uri": "https://localhost:8080/"
        },
        "id": "46nd5acTtgCK",
        "outputId": "d73023ad-42c3-45b5-b589-917e877901c8"
      },
      "execution_count": 90,
      "outputs": [
        {
          "output_type": "execute_result",
          "data": {
            "text/plain": [
              "0.07449144510570738"
            ]
          },
          "metadata": {},
          "execution_count": 90
        }
      ]
    },
    {
      "cell_type": "markdown",
      "source": [
        "### median error"
      ],
      "metadata": {
        "id": "H3aMhyOuxgh_"
      }
    },
    {
      "cell_type": "code",
      "source": [
        "from HydroErr import mde\n",
        "\n",
        "mde(p11, t11)"
      ],
      "metadata": {
        "colab": {
          "base_uri": "https://localhost:8080/"
        },
        "id": "Hfmn84dRxRYa",
        "outputId": "78f602b0-6858-4e91-eb4c-714dfdc3e6df"
      },
      "execution_count": 91,
      "outputs": [
        {
          "output_type": "execute_result",
          "data": {
            "text/plain": [
              "0.0313854202641316"
            ]
          },
          "metadata": {},
          "execution_count": 91
        }
      ]
    },
    {
      "cell_type": "markdown",
      "source": [
        "### mdape"
      ],
      "metadata": {
        "id": "AGI_QdY6x1ev"
      }
    },
    {
      "cell_type": "code",
      "source": [
        "# https://gist.github.com/bshishov/5dc237f59f019b26145648e2124ca1c9#file-forecasting_metrics-py-L132\n",
        "\n",
        "def mdape(actual: np.ndarray, predicted: np.ndarray):\n",
        "    \"\"\"\n",
        "    Median Absolute Percentage Error\n",
        "    Note: result is NOT multiplied by 100\n",
        "    \"\"\"\n",
        "    return np.median(np.abs(_percentage_error(actual, predicted)))\n",
        "mdape(t11, p11)"
      ],
      "metadata": {
        "colab": {
          "base_uri": "https://localhost:8080/"
        },
        "id": "WeGE0yRWxqFB",
        "outputId": "c796f2fa-8812-446e-f716-f4fe417cb622"
      },
      "execution_count": 92,
      "outputs": [
        {
          "output_type": "execute_result",
          "data": {
            "text/plain": [
              "0.513246349701827"
            ]
          },
          "metadata": {},
          "execution_count": 92
        }
      ]
    },
    {
      "cell_type": "markdown",
      "source": [
        "### Mielke Berry R"
      ],
      "metadata": {
        "id": "3u4tMiIZyB8B"
      }
    },
    {
      "cell_type": "code",
      "source": [
        "from HydroErr import mb_r\n",
        "\n",
        "mb_r(p11, t11)"
      ],
      "metadata": {
        "colab": {
          "base_uri": "https://localhost:8080/"
        },
        "id": "jUwjEfPMx3Up",
        "outputId": "4641aac6-2e8e-43a2-cc47-dda3d63fc0dd"
      },
      "execution_count": 93,
      "outputs": [
        {
          "output_type": "execute_result",
          "data": {
            "text/plain": [
              "0.04444743269492335"
            ]
          },
          "metadata": {},
          "execution_count": 93
        }
      ]
    },
    {
      "cell_type": "markdown",
      "source": [
        "### aic"
      ],
      "metadata": {
        "id": "BY-yFWVTlyrw"
      }
    },
    {
      "cell_type": "code",
      "source": [
        "from RegscorePy import aic"
      ],
      "metadata": {
        "id": "W-EdjqmkyI7C"
      },
      "execution_count": 94,
      "outputs": []
    },
    {
      "cell_type": "code",
      "source": [
        "aic.aic(t11, p11, p=1)"
      ],
      "metadata": {
        "colab": {
          "base_uri": "https://localhost:8080/"
        },
        "id": "aPEASHral1Z4",
        "outputId": "311301eb-58d3-48e3-b3dc-a4a320901e30"
      },
      "execution_count": 95,
      "outputs": [
        {
          "output_type": "execute_result",
          "data": {
            "text/plain": [
              "-179.8159231784877"
            ]
          },
          "metadata": {},
          "execution_count": 95
        }
      ]
    },
    {
      "cell_type": "markdown",
      "source": [
        "### bic"
      ],
      "metadata": {
        "id": "ZFz1KD3SmPZl"
      }
    },
    {
      "cell_type": "code",
      "source": [
        "import collections\n",
        "\n",
        "collections.Sequence = list   # because bic function uses collections.Sequence\n",
        "\n",
        "from RegscorePy import bic\n",
        "\n",
        "bic.bic(y=t11, y_pred=p11, p=1)"
      ],
      "metadata": {
        "colab": {
          "base_uri": "https://localhost:8080/"
        },
        "id": "LFp0JW2_mDPY",
        "outputId": "b755bafd-a9b8-4b44-dbc5-518594d7946b"
      },
      "execution_count": 96,
      "outputs": [
        {
          "output_type": "execute_result",
          "data": {
            "text/plain": [
              "-177.2107529924996"
            ]
          },
          "metadata": {},
          "execution_count": 96
        }
      ]
    },
    {
      "cell_type": "markdown",
      "source": [
        "### wmape"
      ],
      "metadata": {
        "id": "1Ukv15WFryZI"
      }
    },
    {
      "cell_type": "code",
      "source": [
        "# https://stackoverflow.com/a/54833202/5982232\n",
        "\n",
        "def wmape(actual, forecast):\n",
        "    # Take a series (actual) and a dataframe (forecast) and calculate wmape\n",
        "    # for each forecast. Output shape is (1, num_forecasts)\n",
        "\n",
        "    # Convert to numpy arrays for broadasting\n",
        "    forecast = np.array(forecast.values)\n",
        "    actual=np.array(actual.values).reshape((-1, 1))\n",
        "\n",
        "    # Make an array of mape (same shape as forecast)\n",
        "    se_mape = abs(actual-forecast)/actual\n",
        "\n",
        "    # Calculate sum of actual values\n",
        "    ft_actual_sum = actual.sum(axis=0)\n",
        "\n",
        "    # Multiply the actual values by the mape\n",
        "    se_actual_prod_mape = actual * se_mape\n",
        "\n",
        "    # Take the sum of the product of actual values and mape\n",
        "    # Make sure to sum down the rows (1 for each column)\n",
        "    ft_actual_prod_mape_sum = se_actual_prod_mape.sum(axis=0)\n",
        "\n",
        "    # Calculate the wmape for each forecast and return as a dictionary\n",
        "    ft_wmape_forecast = ft_actual_prod_mape_sum / ft_actual_sum\n",
        "    return {f'Forecast_{i+1}_wmape': wmape for i, wmape in enumerate(ft_wmape_forecast)}\n",
        "\n",
        "\n",
        "wmape(pd.Series(t11), pd.DataFrame(p11))"
      ],
      "metadata": {
        "colab": {
          "base_uri": "https://localhost:8080/"
        },
        "id": "BzqVwpNCmlQH",
        "outputId": "d4d2e9a1-d422-44f9-dab4-daea0acdd3c5"
      },
      "execution_count": 97,
      "outputs": [
        {
          "output_type": "execute_result",
          "data": {
            "text/plain": [
              "{'Forecast_1_wmape': 0.6205374050378927}"
            ]
          },
          "metadata": {},
          "execution_count": 97
        }
      ]
    },
    {
      "cell_type": "markdown",
      "source": [
        "### irmse"
      ],
      "metadata": {
        "id": "oiTg_14XZ8PK"
      }
    },
    {
      "cell_type": "code",
      "source": [
        "from HydroErr import irmse\n",
        "\n",
        "irmse(p11, t11)"
      ],
      "metadata": {
        "colab": {
          "base_uri": "https://localhost:8080/"
        },
        "id": "mc0ssyFQaCzw",
        "outputId": "79e30842-a3f1-440b-9c0a-1a7cb27e6758"
      },
      "execution_count": 98,
      "outputs": [
        {
          "output_type": "execute_result",
          "data": {
            "text/plain": [
              "0.9954807723243245"
            ]
          },
          "metadata": {},
          "execution_count": 98
        }
      ]
    },
    {
      "cell_type": "markdown",
      "source": [
        "### CronbachAlpha"
      ],
      "metadata": {
        "id": "oPHprndGZ_sL"
      }
    },
    {
      "cell_type": "code",
      "source": [
        "# https://stackoverflow.com/a/20799687\n",
        "\n",
        "def CronbachAlpha(itemscores):\n",
        "    itemscores = np.asarray(itemscores)\n",
        "    itemvars = itemscores.var(axis=1, ddof=1)\n",
        "    tscores = itemscores.sum(axis=0)\n",
        "    nitems = len(itemscores)\n",
        "\n",
        "    return nitems / (nitems-1.) * (1 - itemvars.sum() / tscores.var(ddof=1))\n",
        "\n",
        "\n",
        "CronbachAlpha(np.stack([t11, p11]))"
      ],
      "metadata": {
        "colab": {
          "base_uri": "https://localhost:8080/"
        },
        "id": "rPi5JlUQHBcv",
        "outputId": "91f583f5-8c57-464a-b064-b840c8e5f809"
      },
      "execution_count": 99,
      "outputs": [
        {
          "output_type": "execute_result",
          "data": {
            "text/plain": [
              "0.03555058748735895"
            ]
          },
          "metadata": {},
          "execution_count": 99
        }
      ]
    },
    {
      "cell_type": "markdown",
      "source": [
        "### aitchison distance"
      ],
      "metadata": {
        "id": "IFIyHRBOS2Kf"
      }
    },
    {
      "cell_type": "code",
      "source": [
        "# https://github.com/hallamlab/utilities/blob/master/SparCC/lib/distances.py#L47\n",
        "\n",
        "def aitchison(x,y, center = 'mean'):\n",
        "    lx = np.log(x)\n",
        "    ly = np.log(y)\n",
        "    if center == 'mean':     m = np.mean\n",
        "    elif center == 'median': m = np.median\n",
        "    clr_x = lx - m(lx)\n",
        "    clr_y = ly - m(ly)\n",
        "    d = ( sum((clr_x-clr_y)**2) )**0.5\n",
        "    return d\n",
        "\n",
        "\n",
        "aitchison(t11, p11)"
      ],
      "metadata": {
        "colab": {
          "base_uri": "https://localhost:8080/"
        },
        "id": "kAvaqC5tHDc4",
        "outputId": "84204a61-6c5f-443a-ea34-cd06f8396735"
      },
      "execution_count": 100,
      "outputs": [
        {
          "output_type": "execute_result",
          "data": {
            "text/plain": [
              "16.326288844358846"
            ]
          },
          "metadata": {},
          "execution_count": 100
        }
      ]
    },
    {
      "cell_type": "markdown",
      "source": [
        "### JS"
      ],
      "metadata": {
        "id": "Cr89V99LTdHk"
      }
    },
    {
      "cell_type": "code",
      "source": [
        "# https://github.com/hallamlab/utilities/blob/master/SparCC/lib/distances.py#L19\n",
        "\n",
        "def JS(x,y): #Jensen-shannon divergence\n",
        "    import warnings\n",
        "    warnings.filterwarnings(\"ignore\", category = RuntimeWarning)\n",
        "    d1 = x*np.log2(2*x/(x+y))\n",
        "    d2 = y*np.log2(2*y/(x+y))\n",
        "    d1[np.isnan(d1)] = 0\n",
        "    d2[np.isnan(d2)] = 0\n",
        "    d = 0.5*sum(d1+d2)\n",
        "    return d\n",
        "\n",
        "\n",
        "JS(t11, p11)"
      ],
      "metadata": {
        "colab": {
          "base_uri": "https://localhost:8080/"
        },
        "id": "9asUvxlsHFPu",
        "outputId": "5b4197df-5fac-4f6b-ae4a-f1c3943271bc"
      },
      "execution_count": 101,
      "outputs": [
        {
          "output_type": "execute_result",
          "data": {
            "text/plain": [
              "7.275875413762115"
            ]
          },
          "metadata": {},
          "execution_count": 101
        }
      ]
    },
    {
      "cell_type": "markdown",
      "source": [
        "### Median Squared Error"
      ],
      "metadata": {
        "id": "BkCPpciEdJ_I"
      }
    },
    {
      "cell_type": "code",
      "source": [
        "from sktime.performance_metrics.forecasting import MedianSquaredError\n",
        "\n",
        "mdse = MedianSquaredError()\n",
        "mdse(t11, p11)\n"
      ],
      "metadata": {
        "colab": {
          "base_uri": "https://localhost:8080/"
        },
        "id": "AQcuiSQRcuen",
        "outputId": "a387db06-b400-4329-8dfd-5b9d8fa502a9"
      },
      "execution_count": 102,
      "outputs": [
        {
          "output_type": "execute_result",
          "data": {
            "text/plain": [
              "0.06731204476856545"
            ]
          },
          "metadata": {},
          "execution_count": 102
        }
      ]
    }
  ]
}